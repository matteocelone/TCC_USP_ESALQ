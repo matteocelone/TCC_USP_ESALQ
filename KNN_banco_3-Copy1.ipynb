{
 "cells": [
  {
   "cell_type": "code",
   "execution_count": 1,
   "id": "cd2b9a79",
   "metadata": {},
   "outputs": [
    {
     "data": {
      "text/plain": [
       "9"
      ]
     },
     "execution_count": 1,
     "metadata": {},
     "output_type": "execute_result"
    }
   ],
   "source": [
    "#Base_de_dados_3_6_casas.csv\n",
    "import pandas as pd\n",
    "import numpy as np\n",
    "import time\n",
    "\n",
    "dataset_process = pd.read_csv(\"Base_de_dados_3_6_casas.csv\", delimiter=';')\n",
    "X = dataset_process.loc[: , dataset_process.columns != 'Label'].values\n",
    "y = dataset_process[\"Label\"].values\n",
    "\n",
    "len(dataset_process.columns)"
   ]
  },
  {
   "cell_type": "code",
   "execution_count": 2,
   "id": "32f1cd3e",
   "metadata": {},
   "outputs": [
    {
     "data": {
      "text/html": [
       "<div>\n",
       "<style scoped>\n",
       "    .dataframe tbody tr th:only-of-type {\n",
       "        vertical-align: middle;\n",
       "    }\n",
       "\n",
       "    .dataframe tbody tr th {\n",
       "        vertical-align: top;\n",
       "    }\n",
       "\n",
       "    .dataframe thead th {\n",
       "        text-align: right;\n",
       "    }\n",
       "</style>\n",
       "<table border=\"1\" class=\"dataframe\">\n",
       "  <thead>\n",
       "    <tr style=\"text-align: right;\">\n",
       "      <th></th>\n",
       "      <th>Kurtosis</th>\n",
       "      <th>Impulse factor</th>\n",
       "      <th>RMS</th>\n",
       "      <th>Margin factor</th>\n",
       "      <th>Skewness</th>\n",
       "      <th>Shape factor</th>\n",
       "      <th>Peak to peak</th>\n",
       "      <th>Crest factor</th>\n",
       "      <th>Label</th>\n",
       "    </tr>\n",
       "  </thead>\n",
       "  <tbody>\n",
       "    <tr>\n",
       "      <th>0</th>\n",
       "      <td>2.330733</td>\n",
       "      <td>8.302993</td>\n",
       "      <td>1.830486</td>\n",
       "      <td>0.006951</td>\n",
       "      <td>-0.098411</td>\n",
       "      <td>652.599342</td>\n",
       "      <td>0.043449</td>\n",
       "      <td>0.012723</td>\n",
       "      <td>0</td>\n",
       "    </tr>\n",
       "    <tr>\n",
       "      <th>1</th>\n",
       "      <td>2.463654</td>\n",
       "      <td>8.665077</td>\n",
       "      <td>2.005024</td>\n",
       "      <td>0.006604</td>\n",
       "      <td>-0.022542</td>\n",
       "      <td>654.363553</td>\n",
       "      <td>0.051557</td>\n",
       "      <td>0.013242</td>\n",
       "      <td>0</td>\n",
       "    </tr>\n",
       "    <tr>\n",
       "      <th>2</th>\n",
       "      <td>2.258160</td>\n",
       "      <td>8.673627</td>\n",
       "      <td>2.286039</td>\n",
       "      <td>0.005824</td>\n",
       "      <td>-0.082665</td>\n",
       "      <td>651.474711</td>\n",
       "      <td>0.054922</td>\n",
       "      <td>0.013314</td>\n",
       "      <td>0</td>\n",
       "    </tr>\n",
       "    <tr>\n",
       "      <th>3</th>\n",
       "      <td>3.033233</td>\n",
       "      <td>11.401023</td>\n",
       "      <td>2.318546</td>\n",
       "      <td>0.007462</td>\n",
       "      <td>-0.069490</td>\n",
       "      <td>658.983054</td>\n",
       "      <td>0.072447</td>\n",
       "      <td>0.017301</td>\n",
       "      <td>0</td>\n",
       "    </tr>\n",
       "    <tr>\n",
       "      <th>4</th>\n",
       "      <td>2.510603</td>\n",
       "      <td>9.757039</td>\n",
       "      <td>2.404440</td>\n",
       "      <td>0.006203</td>\n",
       "      <td>-0.075536</td>\n",
       "      <td>654.195816</td>\n",
       "      <td>0.068288</td>\n",
       "      <td>0.014915</td>\n",
       "      <td>0</td>\n",
       "    </tr>\n",
       "    <tr>\n",
       "      <th>...</th>\n",
       "      <td>...</td>\n",
       "      <td>...</td>\n",
       "      <td>...</td>\n",
       "      <td>...</td>\n",
       "      <td>...</td>\n",
       "      <td>...</td>\n",
       "      <td>...</td>\n",
       "      <td>...</td>\n",
       "      <td>...</td>\n",
       "    </tr>\n",
       "    <tr>\n",
       "      <th>475</th>\n",
       "      <td>2.496437</td>\n",
       "      <td>9.369930</td>\n",
       "      <td>1.848370</td>\n",
       "      <td>0.007762</td>\n",
       "      <td>0.011085</td>\n",
       "      <td>653.097342</td>\n",
       "      <td>0.049579</td>\n",
       "      <td>0.014347</td>\n",
       "      <td>1</td>\n",
       "    </tr>\n",
       "    <tr>\n",
       "      <th>476</th>\n",
       "      <td>2.774307</td>\n",
       "      <td>9.350231</td>\n",
       "      <td>1.976207</td>\n",
       "      <td>0.007213</td>\n",
       "      <td>0.035016</td>\n",
       "      <td>655.956386</td>\n",
       "      <td>0.053221</td>\n",
       "      <td>0.014254</td>\n",
       "      <td>1</td>\n",
       "    </tr>\n",
       "    <tr>\n",
       "      <th>477</th>\n",
       "      <td>2.922228</td>\n",
       "      <td>9.695664</td>\n",
       "      <td>2.142425</td>\n",
       "      <td>0.006888</td>\n",
       "      <td>-0.020309</td>\n",
       "      <td>656.995447</td>\n",
       "      <td>0.061343</td>\n",
       "      <td>0.014758</td>\n",
       "      <td>1</td>\n",
       "    </tr>\n",
       "    <tr>\n",
       "      <th>478</th>\n",
       "      <td>3.462175</td>\n",
       "      <td>14.115464</td>\n",
       "      <td>2.436720</td>\n",
       "      <td>0.008715</td>\n",
       "      <td>-0.032077</td>\n",
       "      <td>664.662046</td>\n",
       "      <td>0.087687</td>\n",
       "      <td>0.021237</td>\n",
       "      <td>1</td>\n",
       "    </tr>\n",
       "    <tr>\n",
       "      <th>479</th>\n",
       "      <td>2.690229</td>\n",
       "      <td>8.594455</td>\n",
       "      <td>2.332266</td>\n",
       "      <td>0.005608</td>\n",
       "      <td>-0.040289</td>\n",
       "      <td>657.142000</td>\n",
       "      <td>0.060028</td>\n",
       "      <td>0.013079</td>\n",
       "      <td>1</td>\n",
       "    </tr>\n",
       "  </tbody>\n",
       "</table>\n",
       "<p>480 rows × 9 columns</p>\n",
       "</div>"
      ],
      "text/plain": [
       "     Kurtosis  Impulse factor       RMS  Margin factor  Skewness  \\\n",
       "0    2.330733        8.302993  1.830486       0.006951 -0.098411   \n",
       "1    2.463654        8.665077  2.005024       0.006604 -0.022542   \n",
       "2    2.258160        8.673627  2.286039       0.005824 -0.082665   \n",
       "3    3.033233       11.401023  2.318546       0.007462 -0.069490   \n",
       "4    2.510603        9.757039  2.404440       0.006203 -0.075536   \n",
       "..        ...             ...       ...            ...       ...   \n",
       "475  2.496437        9.369930  1.848370       0.007762  0.011085   \n",
       "476  2.774307        9.350231  1.976207       0.007213  0.035016   \n",
       "477  2.922228        9.695664  2.142425       0.006888 -0.020309   \n",
       "478  3.462175       14.115464  2.436720       0.008715 -0.032077   \n",
       "479  2.690229        8.594455  2.332266       0.005608 -0.040289   \n",
       "\n",
       "     Shape factor  Peak to peak  Crest factor  Label  \n",
       "0      652.599342      0.043449      0.012723      0  \n",
       "1      654.363553      0.051557      0.013242      0  \n",
       "2      651.474711      0.054922      0.013314      0  \n",
       "3      658.983054      0.072447      0.017301      0  \n",
       "4      654.195816      0.068288      0.014915      0  \n",
       "..            ...           ...           ...    ...  \n",
       "475    653.097342      0.049579      0.014347      1  \n",
       "476    655.956386      0.053221      0.014254      1  \n",
       "477    656.995447      0.061343      0.014758      1  \n",
       "478    664.662046      0.087687      0.021237      1  \n",
       "479    657.142000      0.060028      0.013079      1  \n",
       "\n",
       "[480 rows x 9 columns]"
      ]
     },
     "metadata": {},
     "output_type": "display_data"
    }
   ],
   "source": [
    "display(dataset_process)"
   ]
  },
  {
   "cell_type": "code",
   "execution_count": 3,
   "id": "2d460522",
   "metadata": {},
   "outputs": [],
   "source": [
    "from sklearn.model_selection import train_test_split"
   ]
  },
  {
   "cell_type": "code",
   "execution_count": 4,
   "id": "f646be33",
   "metadata": {},
   "outputs": [],
   "source": [
    "X_train, X_test, y_train, y_test = train_test_split(X, y, test_size=0.2, random_state=1)"
   ]
  },
  {
   "cell_type": "code",
   "execution_count": 5,
   "id": "195a1416",
   "metadata": {},
   "outputs": [
    {
     "data": {
      "text/plain": [
       "384"
      ]
     },
     "execution_count": 5,
     "metadata": {},
     "output_type": "execute_result"
    }
   ],
   "source": [
    "len(X_train)"
   ]
  },
  {
   "cell_type": "code",
   "execution_count": 6,
   "id": "f6225dcd",
   "metadata": {},
   "outputs": [
    {
     "data": {
      "text/plain": [
       "96"
      ]
     },
     "execution_count": 6,
     "metadata": {},
     "output_type": "execute_result"
    }
   ],
   "source": [
    "len(X_test)"
   ]
  },
  {
   "cell_type": "code",
   "execution_count": 7,
   "id": "6813ad38",
   "metadata": {},
   "outputs": [],
   "source": [
    "from sklearn.neighbors import KNeighborsClassifier\n",
    "knn = KNeighborsClassifier(n_neighbors=5)"
   ]
  },
  {
   "cell_type": "code",
   "execution_count": 8,
   "id": "89a45b14",
   "metadata": {},
   "outputs": [
    {
     "data": {
      "text/plain": [
       "KNeighborsClassifier()"
      ]
     },
     "execution_count": 8,
     "metadata": {},
     "output_type": "execute_result"
    }
   ],
   "source": [
    "knn.fit(X_train, y_train)"
   ]
  },
  {
   "cell_type": "code",
   "execution_count": 9,
   "id": "48aa1bc9",
   "metadata": {},
   "outputs": [
    {
     "data": {
      "text/plain": [
       "0.8125"
      ]
     },
     "execution_count": 9,
     "metadata": {},
     "output_type": "execute_result"
    }
   ],
   "source": [
    "knn.score(X_test, y_test)"
   ]
  },
  {
   "cell_type": "code",
   "execution_count": 10,
   "id": "3ea3b28e",
   "metadata": {},
   "outputs": [
    {
     "data": {
      "text/plain": [
       "array([[20,  9,  1,  1],\n",
       "       [ 5, 19,  0,  0],\n",
       "       [ 0,  2, 23,  0],\n",
       "       [ 0,  0,  0, 16]], dtype=int64)"
      ]
     },
     "execution_count": 10,
     "metadata": {},
     "output_type": "execute_result"
    }
   ],
   "source": [
    "from sklearn.metrics import confusion_matrix\n",
    "y_pred = knn.predict(X_test)\n",
    "cm = confusion_matrix(y_test, y_pred)\n",
    "cm"
   ]
  },
  {
   "cell_type": "code",
   "execution_count": 11,
   "id": "3c9f33c5",
   "metadata": {},
   "outputs": [
    {
     "data": {
      "text/plain": [
       "Text(42.0, 0.5, 'Truth')"
      ]
     },
     "execution_count": 11,
     "metadata": {},
     "output_type": "execute_result"
    },
    {
     "data": {
      "image/png": "[encoded data removed]",
      "text/plain": [
       "<Figure size 504x360 with 2 Axes>"
      ]
     },
     "metadata": {
      "needs_background": "light"
     },
     "output_type": "display_data"
    }
   ],
   "source": [
    "%matplotlib inline\n",
    "import matplotlib.pyplot as plt\n",
    "import seaborn as sn\n",
    "plt.figure(figsize=(7,5))\n",
    "sn.heatmap(cm, annot=True)\n",
    "plt.xlabel('Predicted')\n",
    "plt.ylabel('Truth')"
   ]
  },
  {
   "cell_type": "code",
   "execution_count": 12,
   "id": "cfc066a1",
   "metadata": {},
   "outputs": [
    {
     "name": "stdout",
     "output_type": "stream",
     "text": [
      "              precision    recall  f1-score   support\n",
      "\n",
      "           0       0.80      0.65      0.71        31\n",
      "           1       0.63      0.79      0.70        24\n",
      "           2       0.96      0.92      0.94        25\n",
      "           3       0.94      1.00      0.97        16\n",
      "\n",
      "    accuracy                           0.81        96\n",
      "   macro avg       0.83      0.84      0.83        96\n",
      "weighted avg       0.82      0.81      0.81        96\n",
      "\n"
     ]
    }
   ],
   "source": [
    "from sklearn.metrics import classification_report\n",
    "\n",
    "print(classification_report(y_test, y_pred))"
   ]
  },
  {
   "cell_type": "code",
   "execution_count": 13,
   "id": "966812a0",
   "metadata": {},
   "outputs": [
    {
     "data": {
      "text/plain": [
       "array([1], dtype=int64)"
      ]
     },
     "execution_count": 13,
     "metadata": {},
     "output_type": "execute_result"
    }
   ],
   "source": [
    "knn.predict([[2,8,2,0.01,-0.15,650,0.05,0.01]])"
   ]
  },
  {
   "cell_type": "code",
   "execution_count": 14,
   "id": "2f2ccfc3",
   "metadata": {},
   "outputs": [],
   "source": [
    "df0 = dataset_process[:200]\n",
    "df1 = dataset_process[200:]\n"
   ]
  },
  {
   "cell_type": "code",
   "execution_count": 15,
   "id": "4d725bd3",
   "metadata": {},
   "outputs": [
    {
     "data": {
      "image/png": "[encoded data removed]",
      "text/plain": [
       "<Figure size 576x432 with 1 Axes>"
      ]
     },
     "metadata": {
      "needs_background": "light"
     },
     "output_type": "display_data"
    }
   ],
   "source": [
    "import matplotlib.pyplot as plt\n",
    "plt.figure(figsize=(8,6))\n",
    "plt.scatter(dataset_process['Kurtosis'],dataset_process['Label'])\n",
    "#plt.scatter(df0['Kurtosis'], df0['Label'],color=\"green\",marker='+')\n",
    "#plt.scatter(df1['Kurtosis'], df1['Label'],color=\"blue\",marker='.')\n",
    "plt.ylabel('Label')\n",
    "plt.xlabel('Kurtosis')\n",
    "plt.grid()\n"
   ]
  },
  {
   "cell_type": "code",
   "execution_count": 16,
   "id": "f0d4bd43",
   "metadata": {},
   "outputs": [
    {
     "data": {
      "image/png": "[encoded data removed]",
      "text/plain": [
       "<Figure size 576x432 with 1 Axes>"
      ]
     },
     "metadata": {
      "needs_background": "light"
     },
     "output_type": "display_data"
    }
   ],
   "source": [
    "import matplotlib.pyplot as plt\n",
    "plt.figure(figsize=(8,6))\n",
    "plt.scatter(dataset_process['Impulse factor'],dataset_process['Label'])\n",
    "#plt.scatter(df0['Kurtosis'], df0['Label'],color=\"green\",marker='+')\n",
    "#plt.scatter(df1['Kurtosis'], df1['Label'],color=\"blue\",marker='.')\n",
    "plt.ylabel('Label')\n",
    "plt.xlabel('Impulse factor')\n",
    "plt.grid()"
   ]
  },
  {
   "cell_type": "code",
   "execution_count": 17,
   "id": "75111351",
   "metadata": {},
   "outputs": [
    {
     "data": {
      "image/png": "[encoded data removed]",
      "text/plain": [
       "<Figure size 576x432 with 1 Axes>"
      ]
     },
     "metadata": {
      "needs_background": "light"
     },
     "output_type": "display_data"
    }
   ],
   "source": [
    "import matplotlib.pyplot as plt\n",
    "plt.figure(figsize=(8,6))\n",
    "plt.scatter(dataset_process['RMS'],dataset_process['Label'])\n",
    "#plt.scatter(df0['Kurtosis'], df0['Label'],color=\"green\",marker='+')\n",
    "#plt.scatter(df1['Kurtosis'], df1['Label'],color=\"blue\",marker='.')\n",
    "plt.ylabel('Label')\n",
    "plt.xlabel('RMS')\n",
    "plt.grid()"
   ]
  },
  {
   "cell_type": "code",
   "execution_count": 18,
   "id": "a5b17890",
   "metadata": {},
   "outputs": [
    {
     "data": {
      "image/png": "[encoded data removed]",
      "text/plain": [
       "<Figure size 576x432 with 1 Axes>"
      ]
     },
     "metadata": {
      "needs_background": "light"
     },
     "output_type": "display_data"
    }
   ],
   "source": [
    "import matplotlib.pyplot as plt\n",
    "plt.figure(figsize=(8,6))\n",
    "plt.scatter(dataset_process['Margin factor'],dataset_process['Label'])\n",
    "#plt.scatter(df0['Kurtosis'], df0['Label'],color=\"green\",marker='+')\n",
    "#plt.scatter(df1['Kurtosis'], df1['Label'],color=\"blue\",marker='.')\n",
    "plt.ylabel('Label')\n",
    "plt.xlabel('Margin factor')\n",
    "plt.grid()"
   ]
  },
  {
   "cell_type": "code",
   "execution_count": 19,
   "id": "404dc07c",
   "metadata": {},
   "outputs": [
    {
     "data": {
      "image/png": "[encoded data removed]",
      "text/plain": [
       "<Figure size 576x432 with 1 Axes>"
      ]
     },
     "metadata": {
      "needs_background": "light"
     },
     "output_type": "display_data"
    }
   ],
   "source": [
    "import matplotlib.pyplot as plt\n",
    "plt.figure(figsize=(8,6))\n",
    "plt.scatter(dataset_process['Skewness'],dataset_process['Label'])\n",
    "#plt.scatter(df0['Kurtosis'], df0['Label'],color=\"green\",marker='+')\n",
    "#plt.scatter(df1['Kurtosis'], df1['Label'],color=\"blue\",marker='.')\n",
    "plt.ylabel('Label')\n",
    "plt.xlabel('Skewness')\n",
    "plt.grid()"
   ]
  },
  {
   "cell_type": "code",
   "execution_count": 20,
   "id": "1b71bdad",
   "metadata": {},
   "outputs": [
    {
     "data": {
      "image/png": "[encoded data removed]",
      "text/plain": [
       "<Figure size 576x432 with 1 Axes>"
      ]
     },
     "metadata": {
      "needs_background": "light"
     },
     "output_type": "display_data"
    }
   ],
   "source": [
    "import matplotlib.pyplot as plt\n",
    "plt.figure(figsize=(8,6))\n",
    "plt.scatter(dataset_process['Shape factor'],dataset_process['Label'])\n",
    "#plt.scatter(df0['Kurtosis'], df0['Label'],color=\"green\",marker='+')\n",
    "#plt.scatter(df1['Kurtosis'], df1['Label'],color=\"blue\",marker='.')\n",
    "plt.ylabel('Label')\n",
    "plt.xlabel('Shape factor')\n",
    "plt.grid()"
   ]
  },
  {
   "cell_type": "code",
   "execution_count": 21,
   "id": "74f23860",
   "metadata": {},
   "outputs": [
    {
     "data": {
      "image/png": "[encoded data removed]",
      "text/plain": [
       "<Figure size 576x432 with 1 Axes>"
      ]
     },
     "metadata": {
      "needs_background": "light"
     },
     "output_type": "display_data"
    }
   ],
   "source": [
    "import matplotlib.pyplot as plt\n",
    "plt.figure(figsize=(8,6))\n",
    "plt.scatter(dataset_process['Peak to peak'],dataset_process['Label'])\n",
    "#plt.scatter(df0['Kurtosis'], df0['Label'],color=\"green\",marker='+')\n",
    "#plt.scatter(df1['Kurtosis'], df1['Label'],color=\"blue\",marker='.')\n",
    "plt.ylabel('Label')\n",
    "plt.xlabel('Peak to peak')\n",
    "plt.grid()"
   ]
  },
  {
   "cell_type": "code",
   "execution_count": 22,
   "id": "6bee114f",
   "metadata": {},
   "outputs": [
    {
     "data": {
      "image/png": "[encoded data removed]",
      "text/plain": [
       "<Figure size 576x432 with 1 Axes>"
      ]
     },
     "metadata": {
      "needs_background": "light"
     },
     "output_type": "display_data"
    }
   ],
   "source": [
    "import matplotlib.pyplot as plt\n",
    "plt.figure(figsize=(8,6))\n",
    "plt.scatter(dataset_process['Crest factor'],dataset_process['Label'])\n",
    "#plt.scatter(df0['Kurtosis'], df0['Label'],color=\"green\",marker='+')\n",
    "#plt.scatter(df1['Kurtosis'], df1['Label'],color=\"blue\",marker='.')\n",
    "plt.ylabel('Label')\n",
    "plt.xlabel('Crest factor')\n",
    "plt.grid()"
   ]
  },
  {
   "cell_type": "code",
   "execution_count": 23,
   "id": "998400b6",
   "metadata": {},
   "outputs": [
    {
     "data": {
      "text/plain": [
       "9"
      ]
     },
     "execution_count": 23,
     "metadata": {},
     "output_type": "execute_result"
    }
   ],
   "source": [
    "#Base_de_dados_3_6_casas.csv\n",
    "import pandas as pd\n",
    "import numpy as np\n",
    "import time\n",
    "\n",
    "dataset_process = pd.read_csv(\"Base_de_dados_3_6_casas.csv\", delimiter=';')\n",
    "X = dataset_process.loc[: , dataset_process.columns != 'Label'].values\n",
    "y = dataset_process[\"Label\"].values\n",
    "\n",
    "len(dataset_process.columns)"
   ]
  },
  {
   "cell_type": "code",
   "execution_count": 24,
   "id": "9b1b05cc",
   "metadata": {},
   "outputs": [
    {
     "data": {
      "text/html": [
       "<div>\n",
       "<style scoped>\n",
       "    .dataframe tbody tr th:only-of-type {\n",
       "        vertical-align: middle;\n",
       "    }\n",
       "\n",
       "    .dataframe tbody tr th {\n",
       "        vertical-align: top;\n",
       "    }\n",
       "\n",
       "    .dataframe thead th {\n",
       "        text-align: right;\n",
       "    }\n",
       "</style>\n",
       "<table border=\"1\" class=\"dataframe\">\n",
       "  <thead>\n",
       "    <tr style=\"text-align: right;\">\n",
       "      <th></th>\n",
       "      <th>Kurtosis</th>\n",
       "      <th>Impulse factor</th>\n",
       "      <th>RMS</th>\n",
       "      <th>Margin factor</th>\n",
       "      <th>Skewness</th>\n",
       "      <th>Shape factor</th>\n",
       "      <th>Peak to peak</th>\n",
       "      <th>Crest factor</th>\n",
       "      <th>Label</th>\n",
       "    </tr>\n",
       "  </thead>\n",
       "  <tbody>\n",
       "    <tr>\n",
       "      <th>0</th>\n",
       "      <td>2.330733</td>\n",
       "      <td>8.302993</td>\n",
       "      <td>1.830486</td>\n",
       "      <td>0.006951</td>\n",
       "      <td>-0.098411</td>\n",
       "      <td>652.599342</td>\n",
       "      <td>0.043449</td>\n",
       "      <td>0.012723</td>\n",
       "      <td>0</td>\n",
       "    </tr>\n",
       "    <tr>\n",
       "      <th>1</th>\n",
       "      <td>2.463654</td>\n",
       "      <td>8.665077</td>\n",
       "      <td>2.005024</td>\n",
       "      <td>0.006604</td>\n",
       "      <td>-0.022542</td>\n",
       "      <td>654.363553</td>\n",
       "      <td>0.051557</td>\n",
       "      <td>0.013242</td>\n",
       "      <td>0</td>\n",
       "    </tr>\n",
       "    <tr>\n",
       "      <th>2</th>\n",
       "      <td>2.258160</td>\n",
       "      <td>8.673627</td>\n",
       "      <td>2.286039</td>\n",
       "      <td>0.005824</td>\n",
       "      <td>-0.082665</td>\n",
       "      <td>651.474711</td>\n",
       "      <td>0.054922</td>\n",
       "      <td>0.013314</td>\n",
       "      <td>0</td>\n",
       "    </tr>\n",
       "    <tr>\n",
       "      <th>3</th>\n",
       "      <td>3.033233</td>\n",
       "      <td>11.401023</td>\n",
       "      <td>2.318546</td>\n",
       "      <td>0.007462</td>\n",
       "      <td>-0.069490</td>\n",
       "      <td>658.983054</td>\n",
       "      <td>0.072447</td>\n",
       "      <td>0.017301</td>\n",
       "      <td>0</td>\n",
       "    </tr>\n",
       "    <tr>\n",
       "      <th>4</th>\n",
       "      <td>2.510603</td>\n",
       "      <td>9.757039</td>\n",
       "      <td>2.404440</td>\n",
       "      <td>0.006203</td>\n",
       "      <td>-0.075536</td>\n",
       "      <td>654.195816</td>\n",
       "      <td>0.068288</td>\n",
       "      <td>0.014915</td>\n",
       "      <td>0</td>\n",
       "    </tr>\n",
       "    <tr>\n",
       "      <th>...</th>\n",
       "      <td>...</td>\n",
       "      <td>...</td>\n",
       "      <td>...</td>\n",
       "      <td>...</td>\n",
       "      <td>...</td>\n",
       "      <td>...</td>\n",
       "      <td>...</td>\n",
       "      <td>...</td>\n",
       "      <td>...</td>\n",
       "    </tr>\n",
       "    <tr>\n",
       "      <th>475</th>\n",
       "      <td>2.496437</td>\n",
       "      <td>9.369930</td>\n",
       "      <td>1.848370</td>\n",
       "      <td>0.007762</td>\n",
       "      <td>0.011085</td>\n",
       "      <td>653.097342</td>\n",
       "      <td>0.049579</td>\n",
       "      <td>0.014347</td>\n",
       "      <td>1</td>\n",
       "    </tr>\n",
       "    <tr>\n",
       "      <th>476</th>\n",
       "      <td>2.774307</td>\n",
       "      <td>9.350231</td>\n",
       "      <td>1.976207</td>\n",
       "      <td>0.007213</td>\n",
       "      <td>0.035016</td>\n",
       "      <td>655.956386</td>\n",
       "      <td>0.053221</td>\n",
       "      <td>0.014254</td>\n",
       "      <td>1</td>\n",
       "    </tr>\n",
       "    <tr>\n",
       "      <th>477</th>\n",
       "      <td>2.922228</td>\n",
       "      <td>9.695664</td>\n",
       "      <td>2.142425</td>\n",
       "      <td>0.006888</td>\n",
       "      <td>-0.020309</td>\n",
       "      <td>656.995447</td>\n",
       "      <td>0.061343</td>\n",
       "      <td>0.014758</td>\n",
       "      <td>1</td>\n",
       "    </tr>\n",
       "    <tr>\n",
       "      <th>478</th>\n",
       "      <td>3.462175</td>\n",
       "      <td>14.115464</td>\n",
       "      <td>2.436720</td>\n",
       "      <td>0.008715</td>\n",
       "      <td>-0.032077</td>\n",
       "      <td>664.662046</td>\n",
       "      <td>0.087687</td>\n",
       "      <td>0.021237</td>\n",
       "      <td>1</td>\n",
       "    </tr>\n",
       "    <tr>\n",
       "      <th>479</th>\n",
       "      <td>2.690229</td>\n",
       "      <td>8.594455</td>\n",
       "      <td>2.332266</td>\n",
       "      <td>0.005608</td>\n",
       "      <td>-0.040289</td>\n",
       "      <td>657.142000</td>\n",
       "      <td>0.060028</td>\n",
       "      <td>0.013079</td>\n",
       "      <td>1</td>\n",
       "    </tr>\n",
       "  </tbody>\n",
       "</table>\n",
       "<p>480 rows × 9 columns</p>\n",
       "</div>"
      ],
      "text/plain": [
       "     Kurtosis  Impulse factor       RMS  Margin factor  Skewness  \\\n",
       "0    2.330733        8.302993  1.830486       0.006951 -0.098411   \n",
       "1    2.463654        8.665077  2.005024       0.006604 -0.022542   \n",
       "2    2.258160        8.673627  2.286039       0.005824 -0.082665   \n",
       "3    3.033233       11.401023  2.318546       0.007462 -0.069490   \n",
       "4    2.510603        9.757039  2.404440       0.006203 -0.075536   \n",
       "..        ...             ...       ...            ...       ...   \n",
       "475  2.496437        9.369930  1.848370       0.007762  0.011085   \n",
       "476  2.774307        9.350231  1.976207       0.007213  0.035016   \n",
       "477  2.922228        9.695664  2.142425       0.006888 -0.020309   \n",
       "478  3.462175       14.115464  2.436720       0.008715 -0.032077   \n",
       "479  2.690229        8.594455  2.332266       0.005608 -0.040289   \n",
       "\n",
       "     Shape factor  Peak to peak  Crest factor  Label  \n",
       "0      652.599342      0.043449      0.012723      0  \n",
       "1      654.363553      0.051557      0.013242      0  \n",
       "2      651.474711      0.054922      0.013314      0  \n",
       "3      658.983054      0.072447      0.017301      0  \n",
       "4      654.195816      0.068288      0.014915      0  \n",
       "..            ...           ...           ...    ...  \n",
       "475    653.097342      0.049579      0.014347      1  \n",
       "476    655.956386      0.053221      0.014254      1  \n",
       "477    656.995447      0.061343      0.014758      1  \n",
       "478    664.662046      0.087687      0.021237      1  \n",
       "479    657.142000      0.060028      0.013079      1  \n",
       "\n",
       "[480 rows x 9 columns]"
      ]
     },
     "metadata": {},
     "output_type": "display_data"
    }
   ],
   "source": [
    "display(dataset_process)"
   ]
  },
  {
   "cell_type": "code",
   "execution_count": 25,
   "id": "508e7ae2",
   "metadata": {},
   "outputs": [],
   "source": [
    "from sklearn.model_selection import train_test_split"
   ]
  },
  {
   "cell_type": "code",
   "execution_count": 26,
   "id": "4f292eda",
   "metadata": {},
   "outputs": [],
   "source": [
    "X_train, X_test, y_train, y_test = train_test_split(X, y, test_size=0.25, random_state=1)"
   ]
  },
  {
   "cell_type": "code",
   "execution_count": 27,
   "id": "6c3a2fc7",
   "metadata": {},
   "outputs": [
    {
     "data": {
      "text/plain": [
       "360"
      ]
     },
     "execution_count": 27,
     "metadata": {},
     "output_type": "execute_result"
    }
   ],
   "source": [
    "len(X_train)"
   ]
  },
  {
   "cell_type": "code",
   "execution_count": 28,
   "id": "1f3e7157",
   "metadata": {},
   "outputs": [
    {
     "data": {
      "text/plain": [
       "120"
      ]
     },
     "execution_count": 28,
     "metadata": {},
     "output_type": "execute_result"
    }
   ],
   "source": [
    "len(X_test)"
   ]
  },
  {
   "cell_type": "code",
   "execution_count": 29,
   "id": "30a8b50a",
   "metadata": {},
   "outputs": [],
   "source": [
    "from sklearn.neighbors import KNeighborsClassifier\n",
    "knn = KNeighborsClassifier(n_neighbors=5)"
   ]
  },
  {
   "cell_type": "code",
   "execution_count": 30,
   "id": "1d5105a5",
   "metadata": {},
   "outputs": [
    {
     "data": {
      "text/plain": [
       "KNeighborsClassifier()"
      ]
     },
     "execution_count": 30,
     "metadata": {},
     "output_type": "execute_result"
    }
   ],
   "source": [
    "knn.fit(X_train, y_train)"
   ]
  },
  {
   "cell_type": "code",
   "execution_count": 31,
   "id": "1507d44b",
   "metadata": {},
   "outputs": [
    {
     "data": {
      "text/plain": [
       "0.8166666666666667"
      ]
     },
     "execution_count": 31,
     "metadata": {},
     "output_type": "execute_result"
    }
   ],
   "source": [
    "knn.score(X_test, y_test)"
   ]
  },
  {
   "cell_type": "code",
   "execution_count": 32,
   "id": "c3871368",
   "metadata": {},
   "outputs": [
    {
     "data": {
      "text/plain": [
       "array([[25, 11,  1,  1],\n",
       "       [ 5, 23,  0,  0],\n",
       "       [ 0,  4, 28,  0],\n",
       "       [ 0,  0,  0, 22]], dtype=int64)"
      ]
     },
     "execution_count": 32,
     "metadata": {},
     "output_type": "execute_result"
    }
   ],
   "source": [
    "from sklearn.metrics import confusion_matrix\n",
    "y_pred = knn.predict(X_test)\n",
    "cm = confusion_matrix(y_test, y_pred)\n",
    "cm"
   ]
  },
  {
   "cell_type": "code",
   "execution_count": 33,
   "id": "9d2f411b",
   "metadata": {},
   "outputs": [
    {
     "data": {
      "text/plain": [
       "Text(42.0, 0.5, 'Truth')"
      ]
     },
     "execution_count": 33,
     "metadata": {},
     "output_type": "execute_result"
    },
    {
     "data": {
      "image/png": "[encoded data removed]",
      "text/plain": [
       "<Figure size 504x360 with 2 Axes>"
      ]
     },
     "metadata": {
      "needs_background": "light"
     },
     "output_type": "display_data"
    }
   ],
   "source": [
    "%matplotlib inline\n",
    "import matplotlib.pyplot as plt\n",
    "import seaborn as sn\n",
    "plt.figure(figsize=(7,5))\n",
    "sn.heatmap(cm, annot=True)\n",
    "plt.xlabel('Predicted')\n",
    "plt.ylabel('Truth')"
   ]
  },
  {
   "cell_type": "code",
   "execution_count": 34,
   "id": "20ef4176",
   "metadata": {},
   "outputs": [
    {
     "data": {
      "image/png": "[encoded data removed]",
      "text/plain": [
       "<Figure size 576x432 with 1 Axes>"
      ]
     },
     "metadata": {
      "needs_background": "light"
     },
     "output_type": "display_data"
    }
   ],
   "source": [
    "import matplotlib.pyplot as plt\n",
    "plt.figure(figsize=(8,6))\n",
    "plt.scatter(dataset_process['Crest factor'],dataset_process['Label'])\n",
    "#plt.scatter(df0['Kurtosis'], df0['Label'],color=\"green\",marker='+')\n",
    "#plt.scatter(df1['Kurtosis'], df1['Label'],color=\"blue\",marker='.')\n",
    "plt.ylabel('Label')\n",
    "plt.xlabel('Crest factor')\n",
    "plt.grid()"
   ]
  },
  {
   "cell_type": "code",
   "execution_count": 35,
   "id": "32956277",
   "metadata": {},
   "outputs": [
    {
     "data": {
      "image/png": "[encoded data removed]",
      "text/plain": [
       "<Figure size 576x432 with 1 Axes>"
      ]
     },
     "metadata": {
      "needs_background": "light"
     },
     "output_type": "display_data"
    }
   ],
   "source": [
    "import matplotlib.pyplot as plt\n",
    "plt.figure(figsize=(8,6))\n",
    "plt.scatter(dataset_process['Margin factor'],dataset_process['Label'])\n",
    "#plt.scatter(df0['Kurtosis'], df0['Label'],color=\"green\",marker='+')\n",
    "#plt.scatter(df1['Kurtosis'], df1['Label'],color=\"blue\",marker='.')\n",
    "plt.ylabel('Label')\n",
    "plt.xlabel('Margin factor')\n",
    "plt.grid()"
   ]
  },
  {
   "cell_type": "code",
   "execution_count": null,
   "id": "196cb0ab",
   "metadata": {},
   "outputs": [],
   "source": []
  },
  {
   "cell_type": "code",
   "execution_count": null,
   "id": "26a7d6f7",
   "metadata": {},
   "outputs": [],
   "source": []
  },
  {
   "cell_type": "code",
   "execution_count": null,
   "id": "74193622",
   "metadata": {},
   "outputs": [],
   "source": []
  },
  {
   "cell_type": "code",
   "execution_count": null,
   "id": "4ed8121b",
   "metadata": {},
   "outputs": [],
   "source": []
  },
  {
   "cell_type": "code",
   "execution_count": null,
   "id": "49a852ef",
   "metadata": {},
   "outputs": [],
   "source": []
  }
 ],
 "metadata": {
  "kernelspec": {
   "display_name": "Python 3 (ipykernel)",
   "language": "python",
   "name": "python3"
  },
  "language_info": {
   "codemirror_mode": {
    "name": "ipython",
    "version": 3
   },
   "file_extension": ".py",
   "mimetype": "text/x-python",
   "name": "python",
   "nbconvert_exporter": "python",
   "pygments_lexer": "ipython3",
   "version": "3.9.7"
  }
 },
 "nbformat": 4,
 "nbformat_minor": 5
}
