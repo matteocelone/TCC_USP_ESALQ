{
 "cells": [
  {
   "cell_type": "code",
   "execution_count": 2,
   "id": "58c80236",
   "metadata": {},
   "outputs": [
    {
     "data": {
      "text/plain": [
       "9"
      ]
     },
     "execution_count": 2,
     "metadata": {},
     "output_type": "execute_result"
    }
   ],
   "source": [
    "import pandas as pd\n",
    "import numpy as np\n",
    "import time\n",
    "\n",
    "dataset_process = pd.read_csv(\"Base_de_dados_3.csv\", delimiter=';')\n",
    "X = dataset_process.loc[: , dataset_process.columns != 'Label'].values\n",
    "y = dataset_process[\"Label\"].values\n",
    "\n",
    "len(dataset_process.columns)"
   ]
  },
  {
   "cell_type": "code",
   "execution_count": 3,
   "id": "a4babbce",
   "metadata": {},
   "outputs": [
    {
     "data": {
      "text/html": [
       "<div>\n",
       "<style scoped>\n",
       "    .dataframe tbody tr th:only-of-type {\n",
       "        vertical-align: middle;\n",
       "    }\n",
       "\n",
       "    .dataframe tbody tr th {\n",
       "        vertical-align: top;\n",
       "    }\n",
       "\n",
       "    .dataframe thead th {\n",
       "        text-align: right;\n",
       "    }\n",
       "</style>\n",
       "<table border=\"1\" class=\"dataframe\">\n",
       "  <thead>\n",
       "    <tr style=\"text-align: right;\">\n",
       "      <th></th>\n",
       "      <th>Label</th>\n",
       "      <th>Kurtosis</th>\n",
       "      <th>Impulse factor</th>\n",
       "      <th>RMS</th>\n",
       "      <th>Margin factor</th>\n",
       "      <th>Skewness</th>\n",
       "      <th>Shape factor</th>\n",
       "      <th>Peak to peak</th>\n",
       "      <th>Crest factor</th>\n",
       "    </tr>\n",
       "  </thead>\n",
       "  <tbody>\n",
       "    <tr>\n",
       "      <th>0</th>\n",
       "      <td>BallFault</td>\n",
       "      <td>2.33</td>\n",
       "      <td>8.30</td>\n",
       "      <td>1.83</td>\n",
       "      <td>0.01</td>\n",
       "      <td>-0.10</td>\n",
       "      <td>652.60</td>\n",
       "      <td>0.04</td>\n",
       "      <td>0.01</td>\n",
       "    </tr>\n",
       "    <tr>\n",
       "      <th>1</th>\n",
       "      <td>BallFault</td>\n",
       "      <td>2.46</td>\n",
       "      <td>8.67</td>\n",
       "      <td>2.01</td>\n",
       "      <td>0.01</td>\n",
       "      <td>-0.02</td>\n",
       "      <td>654.36</td>\n",
       "      <td>0.05</td>\n",
       "      <td>0.01</td>\n",
       "    </tr>\n",
       "    <tr>\n",
       "      <th>2</th>\n",
       "      <td>BallFault</td>\n",
       "      <td>2.26</td>\n",
       "      <td>8.67</td>\n",
       "      <td>2.29</td>\n",
       "      <td>0.01</td>\n",
       "      <td>-0.08</td>\n",
       "      <td>651.47</td>\n",
       "      <td>0.05</td>\n",
       "      <td>0.01</td>\n",
       "    </tr>\n",
       "    <tr>\n",
       "      <th>3</th>\n",
       "      <td>BallFault</td>\n",
       "      <td>3.03</td>\n",
       "      <td>11.40</td>\n",
       "      <td>2.32</td>\n",
       "      <td>0.01</td>\n",
       "      <td>-0.07</td>\n",
       "      <td>658.98</td>\n",
       "      <td>0.07</td>\n",
       "      <td>0.02</td>\n",
       "    </tr>\n",
       "    <tr>\n",
       "      <th>4</th>\n",
       "      <td>BallFault</td>\n",
       "      <td>2.51</td>\n",
       "      <td>9.76</td>\n",
       "      <td>2.40</td>\n",
       "      <td>0.01</td>\n",
       "      <td>-0.08</td>\n",
       "      <td>654.20</td>\n",
       "      <td>0.07</td>\n",
       "      <td>0.01</td>\n",
       "    </tr>\n",
       "    <tr>\n",
       "      <th>...</th>\n",
       "      <td>...</td>\n",
       "      <td>...</td>\n",
       "      <td>...</td>\n",
       "      <td>...</td>\n",
       "      <td>...</td>\n",
       "      <td>...</td>\n",
       "      <td>...</td>\n",
       "      <td>...</td>\n",
       "      <td>...</td>\n",
       "    </tr>\n",
       "    <tr>\n",
       "      <th>475</th>\n",
       "      <td>Healthy</td>\n",
       "      <td>2.50</td>\n",
       "      <td>9.37</td>\n",
       "      <td>1.85</td>\n",
       "      <td>0.01</td>\n",
       "      <td>0.01</td>\n",
       "      <td>653.10</td>\n",
       "      <td>0.05</td>\n",
       "      <td>0.01</td>\n",
       "    </tr>\n",
       "    <tr>\n",
       "      <th>476</th>\n",
       "      <td>Healthy</td>\n",
       "      <td>2.77</td>\n",
       "      <td>9.35</td>\n",
       "      <td>1.98</td>\n",
       "      <td>0.01</td>\n",
       "      <td>0.04</td>\n",
       "      <td>655.96</td>\n",
       "      <td>0.05</td>\n",
       "      <td>0.01</td>\n",
       "    </tr>\n",
       "    <tr>\n",
       "      <th>477</th>\n",
       "      <td>Healthy</td>\n",
       "      <td>2.92</td>\n",
       "      <td>9.70</td>\n",
       "      <td>2.14</td>\n",
       "      <td>0.01</td>\n",
       "      <td>-0.02</td>\n",
       "      <td>657.00</td>\n",
       "      <td>0.06</td>\n",
       "      <td>0.01</td>\n",
       "    </tr>\n",
       "    <tr>\n",
       "      <th>478</th>\n",
       "      <td>Healthy</td>\n",
       "      <td>3.46</td>\n",
       "      <td>14.12</td>\n",
       "      <td>2.44</td>\n",
       "      <td>0.01</td>\n",
       "      <td>-0.03</td>\n",
       "      <td>664.66</td>\n",
       "      <td>0.09</td>\n",
       "      <td>0.02</td>\n",
       "    </tr>\n",
       "    <tr>\n",
       "      <th>479</th>\n",
       "      <td>Healthy</td>\n",
       "      <td>2.69</td>\n",
       "      <td>8.59</td>\n",
       "      <td>2.33</td>\n",
       "      <td>0.01</td>\n",
       "      <td>-0.04</td>\n",
       "      <td>657.14</td>\n",
       "      <td>0.06</td>\n",
       "      <td>0.01</td>\n",
       "    </tr>\n",
       "  </tbody>\n",
       "</table>\n",
       "<p>480 rows × 9 columns</p>\n",
       "</div>"
      ],
      "text/plain": [
       "         Label  Kurtosis  Impulse factor   RMS  Margin factor  Skewness  \\\n",
       "0    BallFault      2.33            8.30  1.83           0.01     -0.10   \n",
       "1    BallFault      2.46            8.67  2.01           0.01     -0.02   \n",
       "2    BallFault      2.26            8.67  2.29           0.01     -0.08   \n",
       "3    BallFault      3.03           11.40  2.32           0.01     -0.07   \n",
       "4    BallFault      2.51            9.76  2.40           0.01     -0.08   \n",
       "..         ...       ...             ...   ...            ...       ...   \n",
       "475    Healthy      2.50            9.37  1.85           0.01      0.01   \n",
       "476    Healthy      2.77            9.35  1.98           0.01      0.04   \n",
       "477    Healthy      2.92            9.70  2.14           0.01     -0.02   \n",
       "478    Healthy      3.46           14.12  2.44           0.01     -0.03   \n",
       "479    Healthy      2.69            8.59  2.33           0.01     -0.04   \n",
       "\n",
       "     Shape factor  Peak to peak  Crest factor  \n",
       "0          652.60          0.04          0.01  \n",
       "1          654.36          0.05          0.01  \n",
       "2          651.47          0.05          0.01  \n",
       "3          658.98          0.07          0.02  \n",
       "4          654.20          0.07          0.01  \n",
       "..            ...           ...           ...  \n",
       "475        653.10          0.05          0.01  \n",
       "476        655.96          0.05          0.01  \n",
       "477        657.00          0.06          0.01  \n",
       "478        664.66          0.09          0.02  \n",
       "479        657.14          0.06          0.01  \n",
       "\n",
       "[480 rows x 9 columns]"
      ]
     },
     "metadata": {},
     "output_type": "display_data"
    }
   ],
   "source": [
    "display(dataset_process)"
   ]
  },
  {
   "cell_type": "code",
   "execution_count": 4,
   "id": "efd7b4ec",
   "metadata": {},
   "outputs": [],
   "source": [
    "from sklearn import decomposition\n",
    "pca = decomposition.PCA(n_components=3)\n",
    "XPCA = pca.fit_transform(X)\n"
   ]
  },
  {
   "cell_type": "code",
   "execution_count": 5,
   "id": "b286d4bc",
   "metadata": {},
   "outputs": [
    {
     "name": "stdout",
     "output_type": "stream",
     "text": [
      "[0.96606985 0.02844139]\n"
     ]
    }
   ],
   "source": [
    "from sklearn.decomposition import PCA\n",
    "pca_viewer = PCA(n_components=2)\n",
    "principal_components = pca_viewer.fit_transform(XPCA)\n",
    "\n",
    "# Percentage of variance explained for each components\n",
    "print(pca_viewer.explained_variance_ratio_)"
   ]
  },
  {
   "cell_type": "code",
   "execution_count": 6,
   "id": "0c3b3b9a",
   "metadata": {},
   "outputs": [
    {
     "data": {
      "text/html": [
       "<div>\n",
       "<style scoped>\n",
       "    .dataframe tbody tr th:only-of-type {\n",
       "        vertical-align: middle;\n",
       "    }\n",
       "\n",
       "    .dataframe tbody tr th {\n",
       "        vertical-align: top;\n",
       "    }\n",
       "\n",
       "    .dataframe thead th {\n",
       "        text-align: right;\n",
       "    }\n",
       "</style>\n",
       "<table border=\"1\" class=\"dataframe\">\n",
       "  <thead>\n",
       "    <tr style=\"text-align: right;\">\n",
       "      <th></th>\n",
       "      <th>principal component 1</th>\n",
       "      <th>principal component 2</th>\n",
       "    </tr>\n",
       "  </thead>\n",
       "  <tbody>\n",
       "    <tr>\n",
       "      <th>0</th>\n",
       "      <td>-31.027837</td>\n",
       "      <td>-4.729307</td>\n",
       "    </tr>\n",
       "    <tr>\n",
       "      <th>1</th>\n",
       "      <td>-29.251455</td>\n",
       "      <td>-4.440945</td>\n",
       "    </tr>\n",
       "    <tr>\n",
       "      <th>2</th>\n",
       "      <td>-32.148177</td>\n",
       "      <td>-4.306648</td>\n",
       "    </tr>\n",
       "    <tr>\n",
       "      <th>3</th>\n",
       "      <td>-24.407109</td>\n",
       "      <td>-3.710444</td>\n",
       "    </tr>\n",
       "    <tr>\n",
       "      <th>4</th>\n",
       "      <td>-29.334234</td>\n",
       "      <td>-3.989487</td>\n",
       "    </tr>\n",
       "    <tr>\n",
       "      <th>...</th>\n",
       "      <td>...</td>\n",
       "      <td>...</td>\n",
       "    </tr>\n",
       "    <tr>\n",
       "      <th>475</th>\n",
       "      <td>-30.426489</td>\n",
       "      <td>-4.604111</td>\n",
       "    </tr>\n",
       "    <tr>\n",
       "      <th>476</th>\n",
       "      <td>-27.578377</td>\n",
       "      <td>-4.326389</td>\n",
       "    </tr>\n",
       "    <tr>\n",
       "      <th>477</th>\n",
       "      <td>-26.513739</td>\n",
       "      <td>-4.085701</td>\n",
       "    </tr>\n",
       "    <tr>\n",
       "      <th>478</th>\n",
       "      <td>-18.515705</td>\n",
       "      <td>-3.142510</td>\n",
       "    </tr>\n",
       "    <tr>\n",
       "      <th>479</th>\n",
       "      <td>-26.502280</td>\n",
       "      <td>-3.986700</td>\n",
       "    </tr>\n",
       "  </tbody>\n",
       "</table>\n",
       "<p>480 rows × 2 columns</p>\n",
       "</div>"
      ],
      "text/plain": [
       "     principal component 1  principal component 2\n",
       "0               -31.027837              -4.729307\n",
       "1               -29.251455              -4.440945\n",
       "2               -32.148177              -4.306648\n",
       "3               -24.407109              -3.710444\n",
       "4               -29.334234              -3.989487\n",
       "..                     ...                    ...\n",
       "475             -30.426489              -4.604111\n",
       "476             -27.578377              -4.326389\n",
       "477             -26.513739              -4.085701\n",
       "478             -18.515705              -3.142510\n",
       "479             -26.502280              -3.986700\n",
       "\n",
       "[480 rows x 2 columns]"
      ]
     },
     "metadata": {},
     "output_type": "display_data"
    }
   ],
   "source": [
    "principal_components_df = pd.DataFrame(data = principal_components, \n",
    "                                       columns = ['principal component 1', 'principal component 2'])\n",
    "\n",
    "display (principal_components_df)"
   ]
  },
  {
   "cell_type": "code",
   "execution_count": 7,
   "id": "eb300e0c",
   "metadata": {},
   "outputs": [
    {
     "data": {
      "image/png": "[encoded data removed]",
      "text/plain": [
       "<Figure size 576x432 with 1 Axes>"
      ]
     },
     "metadata": {
      "needs_background": "light"
     },
     "output_type": "display_data"
    }
   ],
   "source": [
    "import matplotlib.pyplot as plt\n",
    "plt.figure(figsize=(8,6))\n",
    "plt.scatter(XPCA[:,0],XPCA[:,1])\n",
    "plt.xlabel('First principle component')\n",
    "plt.ylabel('Second principle component')\n",
    "plt.grid()"
   ]
  },
  {
   "cell_type": "code",
   "execution_count": 8,
   "id": "456eb2ed",
   "metadata": {},
   "outputs": [],
   "source": [
    "principal_components_df.to_excel(\"PCA_banco_3.xlsx\")"
   ]
  },
  {
   "cell_type": "code",
   "execution_count": 2,
   "id": "75716417",
   "metadata": {},
   "outputs": [
    {
     "data": {
      "text/plain": [
       "7"
      ]
     },
     "execution_count": 2,
     "metadata": {},
     "output_type": "execute_result"
    }
   ],
   "source": [
    "import pandas as pd\n",
    "import numpy as np\n",
    "import time\n",
    "\n",
    "dataset_process = pd.read_csv(\"Base_de_dados_3_filtrada.csv\", delimiter=';')\n",
    "X = dataset_process.loc[: , dataset_process.columns != 'Label'].values\n",
    "y = dataset_process[\"Label\"].values\n",
    "\n",
    "len(dataset_process.columns)"
   ]
  },
  {
   "cell_type": "code",
   "execution_count": 3,
   "id": "75ce6dbf",
   "metadata": {},
   "outputs": [
    {
     "data": {
      "text/html": [
       "<div>\n",
       "<style scoped>\n",
       "    .dataframe tbody tr th:only-of-type {\n",
       "        vertical-align: middle;\n",
       "    }\n",
       "\n",
       "    .dataframe tbody tr th {\n",
       "        vertical-align: top;\n",
       "    }\n",
       "\n",
       "    .dataframe thead th {\n",
       "        text-align: right;\n",
       "    }\n",
       "</style>\n",
       "<table border=\"1\" class=\"dataframe\">\n",
       "  <thead>\n",
       "    <tr style=\"text-align: right;\">\n",
       "      <th></th>\n",
       "      <th>Label</th>\n",
       "      <th>Kurtosis</th>\n",
       "      <th>Impulse factor</th>\n",
       "      <th>RMS</th>\n",
       "      <th>Skewness</th>\n",
       "      <th>Shape factor</th>\n",
       "      <th>Peak to peak</th>\n",
       "    </tr>\n",
       "  </thead>\n",
       "  <tbody>\n",
       "    <tr>\n",
       "      <th>0</th>\n",
       "      <td>BallFault</td>\n",
       "      <td>2.33</td>\n",
       "      <td>8.30</td>\n",
       "      <td>1.83</td>\n",
       "      <td>-0.10</td>\n",
       "      <td>652.60</td>\n",
       "      <td>0.04</td>\n",
       "    </tr>\n",
       "    <tr>\n",
       "      <th>1</th>\n",
       "      <td>BallFault</td>\n",
       "      <td>2.46</td>\n",
       "      <td>8.67</td>\n",
       "      <td>2.01</td>\n",
       "      <td>-0.02</td>\n",
       "      <td>654.36</td>\n",
       "      <td>0.05</td>\n",
       "    </tr>\n",
       "    <tr>\n",
       "      <th>2</th>\n",
       "      <td>BallFault</td>\n",
       "      <td>2.26</td>\n",
       "      <td>8.67</td>\n",
       "      <td>2.29</td>\n",
       "      <td>-0.08</td>\n",
       "      <td>651.47</td>\n",
       "      <td>0.05</td>\n",
       "    </tr>\n",
       "    <tr>\n",
       "      <th>3</th>\n",
       "      <td>BallFault</td>\n",
       "      <td>3.03</td>\n",
       "      <td>11.40</td>\n",
       "      <td>2.32</td>\n",
       "      <td>-0.07</td>\n",
       "      <td>658.98</td>\n",
       "      <td>0.07</td>\n",
       "    </tr>\n",
       "    <tr>\n",
       "      <th>4</th>\n",
       "      <td>BallFault</td>\n",
       "      <td>2.51</td>\n",
       "      <td>9.76</td>\n",
       "      <td>2.40</td>\n",
       "      <td>-0.08</td>\n",
       "      <td>654.20</td>\n",
       "      <td>0.07</td>\n",
       "    </tr>\n",
       "    <tr>\n",
       "      <th>...</th>\n",
       "      <td>...</td>\n",
       "      <td>...</td>\n",
       "      <td>...</td>\n",
       "      <td>...</td>\n",
       "      <td>...</td>\n",
       "      <td>...</td>\n",
       "      <td>...</td>\n",
       "    </tr>\n",
       "    <tr>\n",
       "      <th>475</th>\n",
       "      <td>Healthy</td>\n",
       "      <td>2.50</td>\n",
       "      <td>9.37</td>\n",
       "      <td>1.85</td>\n",
       "      <td>0.01</td>\n",
       "      <td>653.10</td>\n",
       "      <td>0.05</td>\n",
       "    </tr>\n",
       "    <tr>\n",
       "      <th>476</th>\n",
       "      <td>Healthy</td>\n",
       "      <td>2.77</td>\n",
       "      <td>9.35</td>\n",
       "      <td>1.98</td>\n",
       "      <td>0.04</td>\n",
       "      <td>655.96</td>\n",
       "      <td>0.05</td>\n",
       "    </tr>\n",
       "    <tr>\n",
       "      <th>477</th>\n",
       "      <td>Healthy</td>\n",
       "      <td>2.92</td>\n",
       "      <td>9.70</td>\n",
       "      <td>2.14</td>\n",
       "      <td>-0.02</td>\n",
       "      <td>657.00</td>\n",
       "      <td>0.06</td>\n",
       "    </tr>\n",
       "    <tr>\n",
       "      <th>478</th>\n",
       "      <td>Healthy</td>\n",
       "      <td>3.46</td>\n",
       "      <td>14.12</td>\n",
       "      <td>2.44</td>\n",
       "      <td>-0.03</td>\n",
       "      <td>664.66</td>\n",
       "      <td>0.09</td>\n",
       "    </tr>\n",
       "    <tr>\n",
       "      <th>479</th>\n",
       "      <td>Healthy</td>\n",
       "      <td>2.69</td>\n",
       "      <td>8.59</td>\n",
       "      <td>2.33</td>\n",
       "      <td>-0.04</td>\n",
       "      <td>657.14</td>\n",
       "      <td>0.06</td>\n",
       "    </tr>\n",
       "  </tbody>\n",
       "</table>\n",
       "<p>480 rows × 7 columns</p>\n",
       "</div>"
      ],
      "text/plain": [
       "         Label  Kurtosis  Impulse factor   RMS  Skewness  Shape factor  \\\n",
       "0    BallFault      2.33            8.30  1.83     -0.10        652.60   \n",
       "1    BallFault      2.46            8.67  2.01     -0.02        654.36   \n",
       "2    BallFault      2.26            8.67  2.29     -0.08        651.47   \n",
       "3    BallFault      3.03           11.40  2.32     -0.07        658.98   \n",
       "4    BallFault      2.51            9.76  2.40     -0.08        654.20   \n",
       "..         ...       ...             ...   ...       ...           ...   \n",
       "475    Healthy      2.50            9.37  1.85      0.01        653.10   \n",
       "476    Healthy      2.77            9.35  1.98      0.04        655.96   \n",
       "477    Healthy      2.92            9.70  2.14     -0.02        657.00   \n",
       "478    Healthy      3.46           14.12  2.44     -0.03        664.66   \n",
       "479    Healthy      2.69            8.59  2.33     -0.04        657.14   \n",
       "\n",
       "     Peak to peak  \n",
       "0            0.04  \n",
       "1            0.05  \n",
       "2            0.05  \n",
       "3            0.07  \n",
       "4            0.07  \n",
       "..            ...  \n",
       "475          0.05  \n",
       "476          0.05  \n",
       "477          0.06  \n",
       "478          0.09  \n",
       "479          0.06  \n",
       "\n",
       "[480 rows x 7 columns]"
      ]
     },
     "metadata": {},
     "output_type": "display_data"
    }
   ],
   "source": [
    "display(dataset_process)"
   ]
  },
  {
   "cell_type": "code",
   "execution_count": 4,
   "id": "e64d4ae4",
   "metadata": {},
   "outputs": [],
   "source": [
    "from sklearn import decomposition\n",
    "pca = decomposition.PCA(n_components=3)\n",
    "XPCA = pca.fit_transform(X)"
   ]
  },
  {
   "cell_type": "code",
   "execution_count": 5,
   "id": "1347d9e4",
   "metadata": {},
   "outputs": [
    {
     "name": "stdout",
     "output_type": "stream",
     "text": [
      "[0.96606986 0.02844139]\n"
     ]
    }
   ],
   "source": [
    "from sklearn.decomposition import PCA\n",
    "pca_viewer = PCA(n_components=2)\n",
    "principal_components = pca_viewer.fit_transform(XPCA)\n",
    "\n",
    "# Percentage of variance explained for each components\n",
    "print(pca_viewer.explained_variance_ratio_)"
   ]
  },
  {
   "cell_type": "code",
   "execution_count": 6,
   "id": "803a0bda",
   "metadata": {},
   "outputs": [
    {
     "data": {
      "text/html": [
       "<div>\n",
       "<style scoped>\n",
       "    .dataframe tbody tr th:only-of-type {\n",
       "        vertical-align: middle;\n",
       "    }\n",
       "\n",
       "    .dataframe tbody tr th {\n",
       "        vertical-align: top;\n",
       "    }\n",
       "\n",
       "    .dataframe thead th {\n",
       "        text-align: right;\n",
       "    }\n",
       "</style>\n",
       "<table border=\"1\" class=\"dataframe\">\n",
       "  <thead>\n",
       "    <tr style=\"text-align: right;\">\n",
       "      <th></th>\n",
       "      <th>principal component 1</th>\n",
       "      <th>principal component 2</th>\n",
       "    </tr>\n",
       "  </thead>\n",
       "  <tbody>\n",
       "    <tr>\n",
       "      <th>0</th>\n",
       "      <td>-31.027836</td>\n",
       "      <td>-4.729306</td>\n",
       "    </tr>\n",
       "    <tr>\n",
       "      <th>1</th>\n",
       "      <td>-29.251454</td>\n",
       "      <td>-4.440944</td>\n",
       "    </tr>\n",
       "    <tr>\n",
       "      <th>2</th>\n",
       "      <td>-32.148176</td>\n",
       "      <td>-4.306647</td>\n",
       "    </tr>\n",
       "    <tr>\n",
       "      <th>3</th>\n",
       "      <td>-24.407109</td>\n",
       "      <td>-3.710444</td>\n",
       "    </tr>\n",
       "    <tr>\n",
       "      <th>4</th>\n",
       "      <td>-29.334233</td>\n",
       "      <td>-3.989486</td>\n",
       "    </tr>\n",
       "    <tr>\n",
       "      <th>...</th>\n",
       "      <td>...</td>\n",
       "      <td>...</td>\n",
       "    </tr>\n",
       "    <tr>\n",
       "      <th>475</th>\n",
       "      <td>-30.426489</td>\n",
       "      <td>-4.604110</td>\n",
       "    </tr>\n",
       "    <tr>\n",
       "      <th>476</th>\n",
       "      <td>-27.578376</td>\n",
       "      <td>-4.326388</td>\n",
       "    </tr>\n",
       "    <tr>\n",
       "      <th>477</th>\n",
       "      <td>-26.513739</td>\n",
       "      <td>-4.085700</td>\n",
       "    </tr>\n",
       "    <tr>\n",
       "      <th>478</th>\n",
       "      <td>-18.515706</td>\n",
       "      <td>-3.142510</td>\n",
       "    </tr>\n",
       "    <tr>\n",
       "      <th>479</th>\n",
       "      <td>-26.502279</td>\n",
       "      <td>-3.986699</td>\n",
       "    </tr>\n",
       "  </tbody>\n",
       "</table>\n",
       "<p>480 rows × 2 columns</p>\n",
       "</div>"
      ],
      "text/plain": [
       "     principal component 1  principal component 2\n",
       "0               -31.027836              -4.729306\n",
       "1               -29.251454              -4.440944\n",
       "2               -32.148176              -4.306647\n",
       "3               -24.407109              -3.710444\n",
       "4               -29.334233              -3.989486\n",
       "..                     ...                    ...\n",
       "475             -30.426489              -4.604110\n",
       "476             -27.578376              -4.326388\n",
       "477             -26.513739              -4.085700\n",
       "478             -18.515706              -3.142510\n",
       "479             -26.502279              -3.986699\n",
       "\n",
       "[480 rows x 2 columns]"
      ]
     },
     "metadata": {},
     "output_type": "display_data"
    }
   ],
   "source": [
    "principal_components_df = pd.DataFrame(data = principal_components, \n",
    "                                       columns = ['principal component 1', 'principal component 2'])\n",
    "\n",
    "display (principal_components_df)"
   ]
  },
  {
   "cell_type": "code",
   "execution_count": 7,
   "id": "015a6930",
   "metadata": {},
   "outputs": [
    {
     "data": {
      "text/plain": [
       "117.81980555555559"
      ]
     },
     "execution_count": 7,
     "metadata": {},
     "output_type": "execute_result"
    }
   ],
   "source": [
    "import seaborn as sns\n",
    "X.mean()"
   ]
  },
  {
   "cell_type": "code",
   "execution_count": 8,
   "id": "d28a9f8f",
   "metadata": {},
   "outputs": [
    {
     "data": {
      "text/plain": [
       "253.69669321910644"
      ]
     },
     "execution_count": 8,
     "metadata": {},
     "output_type": "execute_result"
    }
   ],
   "source": [
    "X.std()"
   ]
  },
  {
   "cell_type": "code",
   "execution_count": 9,
   "id": "b573b2c6",
   "metadata": {},
   "outputs": [
    {
     "data": {
      "text/plain": [
       "-1.5789838572446671e-16"
      ]
     },
     "execution_count": 9,
     "metadata": {},
     "output_type": "execute_result"
    }
   ],
   "source": [
    "z = (X-X.mean())/X.std()\n",
    "z.mean()"
   ]
  },
  {
   "cell_type": "code",
   "execution_count": 10,
   "id": "d4f7229f",
   "metadata": {},
   "outputs": [
    {
     "data": {
      "text/plain": [
       "1.0"
      ]
     },
     "execution_count": 10,
     "metadata": {},
     "output_type": "execute_result"
    }
   ],
   "source": [
    "z.std()"
   ]
  },
  {
   "cell_type": "code",
   "execution_count": 11,
   "id": "45558f41",
   "metadata": {},
   "outputs": [],
   "source": [
    "from sklearn import decomposition\n",
    "pca = decomposition.PCA(n_components=3)\n",
    "ZPCA = pca.fit_transform(z)"
   ]
  },
  {
   "cell_type": "code",
   "execution_count": 12,
   "id": "e4ad8d95",
   "metadata": {},
   "outputs": [
    {
     "name": "stdout",
     "output_type": "stream",
     "text": [
      "[0.96606986 0.02844139]\n"
     ]
    }
   ],
   "source": [
    "from sklearn.decomposition import PCA\n",
    "pca_viewer = PCA(n_components=2)\n",
    "principal_components = pca_viewer.fit_transform(ZPCA)\n",
    "\n",
    "# Percentage of variance explained for each components\n",
    "print(pca_viewer.explained_variance_ratio_)"
   ]
  },
  {
   "cell_type": "code",
   "execution_count": 13,
   "id": "355171f9",
   "metadata": {},
   "outputs": [
    {
     "data": {
      "text/html": [
       "<div>\n",
       "<style scoped>\n",
       "    .dataframe tbody tr th:only-of-type {\n",
       "        vertical-align: middle;\n",
       "    }\n",
       "\n",
       "    .dataframe tbody tr th {\n",
       "        vertical-align: top;\n",
       "    }\n",
       "\n",
       "    .dataframe thead th {\n",
       "        text-align: right;\n",
       "    }\n",
       "</style>\n",
       "<table border=\"1\" class=\"dataframe\">\n",
       "  <thead>\n",
       "    <tr style=\"text-align: right;\">\n",
       "      <th></th>\n",
       "      <th>principal component 1</th>\n",
       "      <th>principal component 2</th>\n",
       "    </tr>\n",
       "  </thead>\n",
       "  <tbody>\n",
       "    <tr>\n",
       "      <th>0</th>\n",
       "      <td>-0.122303</td>\n",
       "      <td>-0.018642</td>\n",
       "    </tr>\n",
       "    <tr>\n",
       "      <th>1</th>\n",
       "      <td>-0.115301</td>\n",
       "      <td>-0.017505</td>\n",
       "    </tr>\n",
       "    <tr>\n",
       "      <th>2</th>\n",
       "      <td>-0.126719</td>\n",
       "      <td>-0.016976</td>\n",
       "    </tr>\n",
       "    <tr>\n",
       "      <th>3</th>\n",
       "      <td>-0.096206</td>\n",
       "      <td>-0.014626</td>\n",
       "    </tr>\n",
       "    <tr>\n",
       "      <th>4</th>\n",
       "      <td>-0.115627</td>\n",
       "      <td>-0.015725</td>\n",
       "    </tr>\n",
       "    <tr>\n",
       "      <th>...</th>\n",
       "      <td>...</td>\n",
       "      <td>...</td>\n",
       "    </tr>\n",
       "    <tr>\n",
       "      <th>475</th>\n",
       "      <td>-0.119933</td>\n",
       "      <td>-0.018148</td>\n",
       "    </tr>\n",
       "    <tr>\n",
       "      <th>476</th>\n",
       "      <td>-0.108706</td>\n",
       "      <td>-0.017053</td>\n",
       "    </tr>\n",
       "    <tr>\n",
       "      <th>477</th>\n",
       "      <td>-0.104510</td>\n",
       "      <td>-0.016105</td>\n",
       "    </tr>\n",
       "    <tr>\n",
       "      <th>478</th>\n",
       "      <td>-0.072984</td>\n",
       "      <td>-0.012387</td>\n",
       "    </tr>\n",
       "    <tr>\n",
       "      <th>479</th>\n",
       "      <td>-0.104464</td>\n",
       "      <td>-0.015714</td>\n",
       "    </tr>\n",
       "  </tbody>\n",
       "</table>\n",
       "<p>480 rows × 2 columns</p>\n",
       "</div>"
      ],
      "text/plain": [
       "     principal component 1  principal component 2\n",
       "0                -0.122303              -0.018642\n",
       "1                -0.115301              -0.017505\n",
       "2                -0.126719              -0.016976\n",
       "3                -0.096206              -0.014626\n",
       "4                -0.115627              -0.015725\n",
       "..                     ...                    ...\n",
       "475              -0.119933              -0.018148\n",
       "476              -0.108706              -0.017053\n",
       "477              -0.104510              -0.016105\n",
       "478              -0.072984              -0.012387\n",
       "479              -0.104464              -0.015714\n",
       "\n",
       "[480 rows x 2 columns]"
      ]
     },
     "metadata": {},
     "output_type": "display_data"
    }
   ],
   "source": [
    "principal_components_df = pd.DataFrame(data = principal_components, \n",
    "                                       columns = ['principal component 1', 'principal component 2'])\n",
    "\n",
    "display (principal_components_df)"
   ]
  },
  {
   "cell_type": "code",
   "execution_count": 15,
   "id": "3db89bf6",
   "metadata": {},
   "outputs": [
    {
     "data": {
      "image/png": "[encoded data removed]",
      "text/plain": [
       "<Figure size 576x432 with 1 Axes>"
      ]
     },
     "metadata": {
      "needs_background": "light"
     },
     "output_type": "display_data"
    }
   ],
   "source": [
    "import matplotlib.pyplot as plt\n",
    "plt.figure(figsize=(8,6))\n",
    "plt.scatter(ZPCA[:,0],ZPCA[:,1])\n",
    "plt.xlabel('First principle component')\n",
    "plt.ylabel('Second principle component')\n",
    "plt.grid()"
   ]
  },
  {
   "cell_type": "code",
   "execution_count": 16,
   "id": "fc3dbb29",
   "metadata": {},
   "outputs": [],
   "source": [
    "principal_components_df.to_excel(\"PCA_banco_3_normalizado.xlsx\")"
   ]
  },
  {
   "cell_type": "code",
   "execution_count": null,
   "id": "6d554d60",
   "metadata": {},
   "outputs": [],
   "source": []
  }
 ],
 "metadata": {
  "kernelspec": {
   "display_name": "Python 3 (ipykernel)",
   "language": "python",
   "name": "python3"
  },
  "language_info": {
   "codemirror_mode": {
    "name": "ipython",
    "version": 3
   },
   "file_extension": ".py",
   "mimetype": "text/x-python",
   "name": "python",
   "nbconvert_exporter": "python",
   "pygments_lexer": "ipython3",
   "version": "3.9.7"
  }
 },
 "nbformat": 4,
 "nbformat_minor": 5
}
