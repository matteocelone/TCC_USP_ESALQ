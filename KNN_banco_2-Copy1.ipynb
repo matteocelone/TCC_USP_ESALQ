{
 "cells": [
  {
   "cell_type": "code",
   "execution_count": 1,
   "id": "2df74886",
   "metadata": {},
   "outputs": [
    {
     "data": {
      "text/plain": [
       "24"
      ]
     },
     "execution_count": 1,
     "metadata": {},
     "output_type": "execute_result"
    }
   ],
   "source": [
    "import pandas as pd\n",
    "import numpy as np\n",
    "import time\n",
    "\n",
    "dataset_process = pd.read_csv(\"Base de dados_2_KNN.csv\", delimiter=';')\n",
    "\n",
    "X = dataset_process.loc[: , dataset_process.columns != 'Risk'].values\n",
    "\n",
    "#XPCA = X.loc[: , dataset_process.columns != 'model'].values\n",
    "y = dataset_process[\"Risk\"].values\n",
    "\n",
    "len(dataset_process.columns)"
   ]
  },
  {
   "cell_type": "code",
   "execution_count": 2,
   "id": "c5e78c10",
   "metadata": {},
   "outputs": [
    {
     "data": {
      "text/html": [
       "<div>\n",
       "<style scoped>\n",
       "    .dataframe tbody tr th:only-of-type {\n",
       "        vertical-align: middle;\n",
       "    }\n",
       "\n",
       "    .dataframe tbody tr th {\n",
       "        vertical-align: top;\n",
       "    }\n",
       "\n",
       "    .dataframe thead th {\n",
       "        text-align: right;\n",
       "    }\n",
       "</style>\n",
       "<table border=\"1\" class=\"dataframe\">\n",
       "  <thead>\n",
       "    <tr style=\"text-align: right;\">\n",
       "      <th></th>\n",
       "      <th>machineID</th>\n",
       "      <th>time_in_cycles</th>\n",
       "      <th>voltmean_24h</th>\n",
       "      <th>rotatemean_24h</th>\n",
       "      <th>pressuremean_24h</th>\n",
       "      <th>vibrationmean_24h</th>\n",
       "      <th>voltsd_24h</th>\n",
       "      <th>rotatesd_24h</th>\n",
       "      <th>pressuresd_24h</th>\n",
       "      <th>vibrationsd_24h</th>\n",
       "      <th>...</th>\n",
       "      <th>voltsd_5d</th>\n",
       "      <th>rotatesd_5d</th>\n",
       "      <th>pressuresd_5d</th>\n",
       "      <th>vibrationsd_5d</th>\n",
       "      <th>model</th>\n",
       "      <th>age</th>\n",
       "      <th>failure</th>\n",
       "      <th>failed</th>\n",
       "      <th>RUL_I</th>\n",
       "      <th>Risk</th>\n",
       "    </tr>\n",
       "  </thead>\n",
       "  <tbody>\n",
       "    <tr>\n",
       "      <th>0</th>\n",
       "      <td>1</td>\n",
       "      <td>167</td>\n",
       "      <td>171.64</td>\n",
       "      <td>449.72</td>\n",
       "      <td>102.23</td>\n",
       "      <td>41.19</td>\n",
       "      <td>13.48</td>\n",
       "      <td>36.65</td>\n",
       "      <td>10.39</td>\n",
       "      <td>5.79</td>\n",
       "      <td>...</td>\n",
       "      <td>1.86</td>\n",
       "      <td>8.31</td>\n",
       "      <td>1.27</td>\n",
       "      <td>3.64</td>\n",
       "      <td>model3</td>\n",
       "      <td>18</td>\n",
       "      <td>none</td>\n",
       "      <td>0</td>\n",
       "      <td>74</td>\n",
       "      <td>low</td>\n",
       "    </tr>\n",
       "    <tr>\n",
       "      <th>1</th>\n",
       "      <td>1</td>\n",
       "      <td>168</td>\n",
       "      <td>166.01</td>\n",
       "      <td>437.82</td>\n",
       "      <td>101.38</td>\n",
       "      <td>39.62</td>\n",
       "      <td>15.91</td>\n",
       "      <td>47.27</td>\n",
       "      <td>9.80</td>\n",
       "      <td>4.71</td>\n",
       "      <td>...</td>\n",
       "      <td>3.20</td>\n",
       "      <td>11.81</td>\n",
       "      <td>0.54</td>\n",
       "      <td>3.86</td>\n",
       "      <td>model3</td>\n",
       "      <td>18</td>\n",
       "      <td>none</td>\n",
       "      <td>0</td>\n",
       "      <td>73</td>\n",
       "      <td>low</td>\n",
       "    </tr>\n",
       "    <tr>\n",
       "      <th>2</th>\n",
       "      <td>1</td>\n",
       "      <td>169</td>\n",
       "      <td>165.02</td>\n",
       "      <td>455.03</td>\n",
       "      <td>98.69</td>\n",
       "      <td>42.45</td>\n",
       "      <td>14.88</td>\n",
       "      <td>39.88</td>\n",
       "      <td>8.41</td>\n",
       "      <td>5.27</td>\n",
       "      <td>...</td>\n",
       "      <td>3.83</td>\n",
       "      <td>8.93</td>\n",
       "      <td>1.33</td>\n",
       "      <td>3.52</td>\n",
       "      <td>model3</td>\n",
       "      <td>18</td>\n",
       "      <td>none</td>\n",
       "      <td>0</td>\n",
       "      <td>72</td>\n",
       "      <td>low</td>\n",
       "    </tr>\n",
       "    <tr>\n",
       "      <th>3</th>\n",
       "      <td>1</td>\n",
       "      <td>170</td>\n",
       "      <td>167.47</td>\n",
       "      <td>430.98</td>\n",
       "      <td>101.78</td>\n",
       "      <td>39.30</td>\n",
       "      <td>15.25</td>\n",
       "      <td>55.78</td>\n",
       "      <td>9.42</td>\n",
       "      <td>4.15</td>\n",
       "      <td>...</td>\n",
       "      <td>3.91</td>\n",
       "      <td>12.24</td>\n",
       "      <td>1.38</td>\n",
       "      <td>1.43</td>\n",
       "      <td>model3</td>\n",
       "      <td>18</td>\n",
       "      <td>none</td>\n",
       "      <td>0</td>\n",
       "      <td>71</td>\n",
       "      <td>low</td>\n",
       "    </tr>\n",
       "    <tr>\n",
       "      <th>4</th>\n",
       "      <td>1</td>\n",
       "      <td>171</td>\n",
       "      <td>168.92</td>\n",
       "      <td>440.11</td>\n",
       "      <td>98.12</td>\n",
       "      <td>38.21</td>\n",
       "      <td>13.50</td>\n",
       "      <td>58.61</td>\n",
       "      <td>8.67</td>\n",
       "      <td>3.77</td>\n",
       "      <td>...</td>\n",
       "      <td>2.60</td>\n",
       "      <td>9.61</td>\n",
       "      <td>1.89</td>\n",
       "      <td>1.67</td>\n",
       "      <td>model3</td>\n",
       "      <td>18</td>\n",
       "      <td>none</td>\n",
       "      <td>0</td>\n",
       "      <td>70</td>\n",
       "      <td>low</td>\n",
       "    </tr>\n",
       "    <tr>\n",
       "      <th>...</th>\n",
       "      <td>...</td>\n",
       "      <td>...</td>\n",
       "      <td>...</td>\n",
       "      <td>...</td>\n",
       "      <td>...</td>\n",
       "      <td>...</td>\n",
       "      <td>...</td>\n",
       "      <td>...</td>\n",
       "      <td>...</td>\n",
       "      <td>...</td>\n",
       "      <td>...</td>\n",
       "      <td>...</td>\n",
       "      <td>...</td>\n",
       "      <td>...</td>\n",
       "      <td>...</td>\n",
       "      <td>...</td>\n",
       "      <td>...</td>\n",
       "      <td>...</td>\n",
       "      <td>...</td>\n",
       "      <td>...</td>\n",
       "      <td>...</td>\n",
       "    </tr>\n",
       "    <tr>\n",
       "      <th>7184</th>\n",
       "      <td>100</td>\n",
       "      <td>245</td>\n",
       "      <td>172.08</td>\n",
       "      <td>434.49</td>\n",
       "      <td>100.52</td>\n",
       "      <td>37.93</td>\n",
       "      <td>14.07</td>\n",
       "      <td>42.00</td>\n",
       "      <td>9.27</td>\n",
       "      <td>4.27</td>\n",
       "      <td>...</td>\n",
       "      <td>2.26</td>\n",
       "      <td>14.81</td>\n",
       "      <td>1.43</td>\n",
       "      <td>1.10</td>\n",
       "      <td>model4</td>\n",
       "      <td>5</td>\n",
       "      <td>none</td>\n",
       "      <td>0</td>\n",
       "      <td>4</td>\n",
       "      <td>high</td>\n",
       "    </tr>\n",
       "    <tr>\n",
       "      <th>7185</th>\n",
       "      <td>100</td>\n",
       "      <td>246</td>\n",
       "      <td>174.04</td>\n",
       "      <td>455.28</td>\n",
       "      <td>100.68</td>\n",
       "      <td>40.72</td>\n",
       "      <td>15.31</td>\n",
       "      <td>48.36</td>\n",
       "      <td>8.23</td>\n",
       "      <td>4.75</td>\n",
       "      <td>...</td>\n",
       "      <td>2.66</td>\n",
       "      <td>12.50</td>\n",
       "      <td>0.91</td>\n",
       "      <td>1.03</td>\n",
       "      <td>model4</td>\n",
       "      <td>5</td>\n",
       "      <td>none</td>\n",
       "      <td>0</td>\n",
       "      <td>3</td>\n",
       "      <td>high</td>\n",
       "    </tr>\n",
       "    <tr>\n",
       "      <th>7186</th>\n",
       "      <td>100</td>\n",
       "      <td>247</td>\n",
       "      <td>183.57</td>\n",
       "      <td>461.62</td>\n",
       "      <td>99.72</td>\n",
       "      <td>41.28</td>\n",
       "      <td>19.68</td>\n",
       "      <td>61.83</td>\n",
       "      <td>7.93</td>\n",
       "      <td>5.28</td>\n",
       "      <td>...</td>\n",
       "      <td>6.26</td>\n",
       "      <td>13.29</td>\n",
       "      <td>0.97</td>\n",
       "      <td>1.32</td>\n",
       "      <td>model4</td>\n",
       "      <td>5</td>\n",
       "      <td>none</td>\n",
       "      <td>0</td>\n",
       "      <td>2</td>\n",
       "      <td>high</td>\n",
       "    </tr>\n",
       "    <tr>\n",
       "      <th>7187</th>\n",
       "      <td>100</td>\n",
       "      <td>248</td>\n",
       "      <td>194.75</td>\n",
       "      <td>457.27</td>\n",
       "      <td>99.58</td>\n",
       "      <td>40.43</td>\n",
       "      <td>11.45</td>\n",
       "      <td>36.93</td>\n",
       "      <td>7.62</td>\n",
       "      <td>4.92</td>\n",
       "      <td>...</td>\n",
       "      <td>11.00</td>\n",
       "      <td>10.71</td>\n",
       "      <td>0.90</td>\n",
       "      <td>1.29</td>\n",
       "      <td>model4</td>\n",
       "      <td>5</td>\n",
       "      <td>none</td>\n",
       "      <td>0</td>\n",
       "      <td>1</td>\n",
       "      <td>high</td>\n",
       "    </tr>\n",
       "    <tr>\n",
       "      <th>7188</th>\n",
       "      <td>100</td>\n",
       "      <td>249</td>\n",
       "      <td>176.56</td>\n",
       "      <td>442.99</td>\n",
       "      <td>99.90</td>\n",
       "      <td>42.01</td>\n",
       "      <td>18.67</td>\n",
       "      <td>53.05</td>\n",
       "      <td>8.41</td>\n",
       "      <td>5.37</td>\n",
       "      <td>...</td>\n",
       "      <td>9.22</td>\n",
       "      <td>11.24</td>\n",
       "      <td>0.49</td>\n",
       "      <td>1.54</td>\n",
       "      <td>model4</td>\n",
       "      <td>5</td>\n",
       "      <td>comp1</td>\n",
       "      <td>1</td>\n",
       "      <td>0</td>\n",
       "      <td>high</td>\n",
       "    </tr>\n",
       "  </tbody>\n",
       "</table>\n",
       "<p>7189 rows × 24 columns</p>\n",
       "</div>"
      ],
      "text/plain": [
       "      machineID  time_in_cycles  voltmean_24h  rotatemean_24h  \\\n",
       "0             1             167        171.64          449.72   \n",
       "1             1             168        166.01          437.82   \n",
       "2             1             169        165.02          455.03   \n",
       "3             1             170        167.47          430.98   \n",
       "4             1             171        168.92          440.11   \n",
       "...         ...             ...           ...             ...   \n",
       "7184        100             245        172.08          434.49   \n",
       "7185        100             246        174.04          455.28   \n",
       "7186        100             247        183.57          461.62   \n",
       "7187        100             248        194.75          457.27   \n",
       "7188        100             249        176.56          442.99   \n",
       "\n",
       "      pressuremean_24h  vibrationmean_24h  voltsd_24h  rotatesd_24h  \\\n",
       "0               102.23              41.19       13.48         36.65   \n",
       "1               101.38              39.62       15.91         47.27   \n",
       "2                98.69              42.45       14.88         39.88   \n",
       "3               101.78              39.30       15.25         55.78   \n",
       "4                98.12              38.21       13.50         58.61   \n",
       "...                ...                ...         ...           ...   \n",
       "7184            100.52              37.93       14.07         42.00   \n",
       "7185            100.68              40.72       15.31         48.36   \n",
       "7186             99.72              41.28       19.68         61.83   \n",
       "7187             99.58              40.43       11.45         36.93   \n",
       "7188             99.90              42.01       18.67         53.05   \n",
       "\n",
       "      pressuresd_24h  vibrationsd_24h  ...  voltsd_5d  rotatesd_5d  \\\n",
       "0              10.39             5.79  ...       1.86         8.31   \n",
       "1               9.80             4.71  ...       3.20        11.81   \n",
       "2               8.41             5.27  ...       3.83         8.93   \n",
       "3               9.42             4.15  ...       3.91        12.24   \n",
       "4               8.67             3.77  ...       2.60         9.61   \n",
       "...              ...              ...  ...        ...          ...   \n",
       "7184            9.27             4.27  ...       2.26        14.81   \n",
       "7185            8.23             4.75  ...       2.66        12.50   \n",
       "7186            7.93             5.28  ...       6.26        13.29   \n",
       "7187            7.62             4.92  ...      11.00        10.71   \n",
       "7188            8.41             5.37  ...       9.22        11.24   \n",
       "\n",
       "      pressuresd_5d  vibrationsd_5d   model  age  failure  failed RUL_I  Risk  \n",
       "0              1.27            3.64  model3   18     none       0    74   low  \n",
       "1              0.54            3.86  model3   18     none       0    73   low  \n",
       "2              1.33            3.52  model3   18     none       0    72   low  \n",
       "3              1.38            1.43  model3   18     none       0    71   low  \n",
       "4              1.89            1.67  model3   18     none       0    70   low  \n",
       "...             ...             ...     ...  ...      ...     ...   ...   ...  \n",
       "7184           1.43            1.10  model4    5     none       0     4  high  \n",
       "7185           0.91            1.03  model4    5     none       0     3  high  \n",
       "7186           0.97            1.32  model4    5     none       0     2  high  \n",
       "7187           0.90            1.29  model4    5     none       0     1  high  \n",
       "7188           0.49            1.54  model4    5    comp1       1     0  high  \n",
       "\n",
       "[7189 rows x 24 columns]"
      ]
     },
     "metadata": {},
     "output_type": "display_data"
    }
   ],
   "source": [
    "display(dataset_process)"
   ]
  },
  {
   "cell_type": "code",
   "execution_count": 3,
   "id": "9a00191a",
   "metadata": {},
   "outputs": [],
   "source": [
    "dataset_process.drop(\"model\",axis=1,inplace=True)\n",
    "dataset_process.drop(\"machineID\",axis=1,inplace=True)\n",
    "dataset_process.drop(\"time_in_cycles\",axis=1,inplace=True)\n",
    "dataset_process.drop(\"failure\",axis=1,inplace=True)\n",
    "dataset_process.drop(\"failed\",axis=1,inplace=True)\n",
    "dataset_process.drop(\"RUL_I\",axis=1,inplace=True)\n",
    "dataset_process.head\n",
    "X = dataset_process.loc[: , dataset_process.columns != 'Risk'].values"
   ]
  },
  {
   "cell_type": "code",
   "execution_count": 4,
   "id": "5c6417e4",
   "metadata": {},
   "outputs": [],
   "source": [
    "from sklearn.model_selection import train_test_split"
   ]
  },
  {
   "cell_type": "code",
   "execution_count": 5,
   "id": "85bdfcb8",
   "metadata": {},
   "outputs": [],
   "source": [
    "X_train, X_test, y_train, y_test = train_test_split(X, y, test_size=0.2, random_state=1)"
   ]
  },
  {
   "cell_type": "code",
   "execution_count": 6,
   "id": "ac5e4fe5",
   "metadata": {},
   "outputs": [
    {
     "data": {
      "text/plain": [
       "5751"
      ]
     },
     "execution_count": 6,
     "metadata": {},
     "output_type": "execute_result"
    }
   ],
   "source": [
    "len(X_train)"
   ]
  },
  {
   "cell_type": "code",
   "execution_count": 7,
   "id": "e0d24b1c",
   "metadata": {},
   "outputs": [
    {
     "data": {
      "text/plain": [
       "1438"
      ]
     },
     "execution_count": 7,
     "metadata": {},
     "output_type": "execute_result"
    }
   ],
   "source": [
    "len(X_test)"
   ]
  },
  {
   "cell_type": "code",
   "execution_count": 28,
   "id": "4ebdd93b",
   "metadata": {},
   "outputs": [],
   "source": [
    "from sklearn.neighbors import KNeighborsClassifier\n",
    "knn = KNeighborsClassifier(n_neighbors=11)"
   ]
  },
  {
   "cell_type": "code",
   "execution_count": 29,
   "id": "188e2351",
   "metadata": {},
   "outputs": [
    {
     "data": {
      "text/plain": [
       "KNeighborsClassifier(n_neighbors=11)"
      ]
     },
     "execution_count": 29,
     "metadata": {},
     "output_type": "execute_result"
    }
   ],
   "source": [
    "knn.fit(X_train, y_train)"
   ]
  },
  {
   "cell_type": "code",
   "execution_count": 30,
   "id": "a8c5d109",
   "metadata": {},
   "outputs": [
    {
     "data": {
      "text/plain": [
       "0.4756606397774687"
      ]
     },
     "execution_count": 30,
     "metadata": {},
     "output_type": "execute_result"
    }
   ],
   "source": [
    "knn.score(X_test, y_test)"
   ]
  },
  {
   "cell_type": "code",
   "execution_count": 31,
   "id": "1a1feeca",
   "metadata": {},
   "outputs": [
    {
     "data": {
      "text/plain": [
       "array([[117,  40, 216],\n",
       "       [ 58,  78, 205],\n",
       "       [144,  91, 489]], dtype=int64)"
      ]
     },
     "execution_count": 31,
     "metadata": {},
     "output_type": "execute_result"
    }
   ],
   "source": [
    "from sklearn.metrics import confusion_matrix\n",
    "y_pred = knn.predict(X_test)\n",
    "cm = confusion_matrix(y_test, y_pred)\n",
    "cm"
   ]
  },
  {
   "cell_type": "code",
   "execution_count": 32,
   "id": "27a14ac7",
   "metadata": {},
   "outputs": [
    {
     "data": {
      "text/plain": [
       "Text(60.0, 0.5, 'Truth')"
      ]
     },
     "execution_count": 32,
     "metadata": {},
     "output_type": "execute_result"
    },
    {
     "data": {
      "image/png": "[encoded data removed]",
      "text/plain": [
       "<Figure size 648x504 with 2 Axes>"
      ]
     },
     "metadata": {
      "needs_background": "light"
     },
     "output_type": "display_data"
    }
   ],
   "source": [
    "%matplotlib inline\n",
    "import matplotlib.pyplot as plt\n",
    "import seaborn as sn\n",
    "plt.figure(figsize=(9,7))\n",
    "sn.heatmap(cm, annot=True)\n",
    "plt.xlabel('Predicted')\n",
    "plt.ylabel('Truth')"
   ]
  },
  {
   "cell_type": "code",
   "execution_count": 33,
   "id": "fee60ca9",
   "metadata": {},
   "outputs": [
    {
     "name": "stdout",
     "output_type": "stream",
     "text": [
      "              precision    recall  f1-score   support\n",
      "\n",
      "        high       0.37      0.31      0.34       373\n",
      "intermediate       0.37      0.23      0.28       341\n",
      "         low       0.54      0.68      0.60       724\n",
      "\n",
      "    accuracy                           0.48      1438\n",
      "   macro avg       0.43      0.41      0.41      1438\n",
      "weighted avg       0.45      0.48      0.46      1438\n",
      "\n"
     ]
    }
   ],
   "source": [
    "from sklearn.metrics import classification_report\n",
    "\n",
    "print(classification_report(y_test, y_pred))"
   ]
  },
  {
   "cell_type": "code",
   "execution_count": 35,
   "id": "348cde26",
   "metadata": {},
   "outputs": [
    {
     "data": {
      "image/png": "[encoded data removed]",
      "text/plain": [
       "<Figure size 576x432 with 1 Axes>"
      ]
     },
     "metadata": {
      "needs_background": "light"
     },
     "output_type": "display_data"
    }
   ],
   "source": [
    "import matplotlib.pyplot as plt\n",
    "plt.figure(figsize=(8,6))\n",
    "plt.scatter(dataset_process['vibrationsd_24h'],dataset_process['Risk'])\n",
    "#plt.scatter(df0['principal component 1'], df0['Label'],color=\"green\",marker='+')\n",
    "#plt.scatter(df1['principal component 1'], df1['Label'],color=\"blue\",marker='.')\n",
    "plt.ylabel('Risk')\n",
    "plt.xlabel('vibrationsd_24h')\n",
    "plt.grid()"
   ]
  },
  {
   "cell_type": "code",
   "execution_count": 36,
   "id": "e967c047",
   "metadata": {},
   "outputs": [
    {
     "data": {
      "image/png": "[encoded data removed]",
      "text/plain": [
       "<Figure size 576x432 with 1 Axes>"
      ]
     },
     "metadata": {
      "needs_background": "light"
     },
     "output_type": "display_data"
    }
   ],
   "source": [
    "import matplotlib.pyplot as plt\n",
    "plt.figure(figsize=(8,6))\n",
    "plt.scatter(dataset_process['vibrationsd_5d'],dataset_process['Risk'])\n",
    "#plt.scatter(df0['principal component 1'], df0['Label'],color=\"green\",marker='+')\n",
    "#plt.scatter(df1['principal component 1'], df1['Label'],color=\"blue\",marker='.')\n",
    "plt.ylabel('Risk')\n",
    "plt.xlabel('vibrationsd_5d')\n",
    "plt.grid()"
   ]
  },
  {
   "cell_type": "code",
   "execution_count": 37,
   "id": "76d6853e",
   "metadata": {},
   "outputs": [
    {
     "data": {
      "image/png": "[encoded data removed]",
      "text/plain": [
       "<Figure size 576x432 with 1 Axes>"
      ]
     },
     "metadata": {
      "needs_background": "light"
     },
     "output_type": "display_data"
    }
   ],
   "source": [
    "import matplotlib.pyplot as plt\n",
    "plt.figure(figsize=(8,6))\n",
    "plt.scatter(dataset_process['vibrationmean_24h'],dataset_process['Risk'])\n",
    "#plt.scatter(df0['principal component 1'], df0['Label'],color=\"green\",marker='+')\n",
    "#plt.scatter(df1['principal component 1'], df1['Label'],color=\"blue\",marker='.')\n",
    "plt.ylabel('Risk')\n",
    "plt.xlabel('vibrationmean_24h')\n",
    "plt.grid()"
   ]
  },
  {
   "cell_type": "code",
   "execution_count": null,
   "id": "790a995f",
   "metadata": {},
   "outputs": [],
   "source": [
    "#PCA_banco_2_normalizado.csv"
   ]
  }
 ],
 "metadata": {
  "kernelspec": {
   "display_name": "Python 3 (ipykernel)",
   "language": "python",
   "name": "python3"
  },
  "language_info": {
   "codemirror_mode": {
    "name": "ipython",
    "version": 3
   },
   "file_extension": ".py",
   "mimetype": "text/x-python",
   "name": "python",
   "nbconvert_exporter": "python",
   "pygments_lexer": "ipython3",
   "version": "3.9.7"
  }
 },
 "nbformat": 4,
 "nbformat_minor": 5
}
