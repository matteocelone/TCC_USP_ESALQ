{
 "cells": [
  {
   "cell_type": "code",
   "execution_count": 1,
   "id": "e5935263",
   "metadata": {},
   "outputs": [
    {
     "data": {
      "text/plain": [
       "5"
      ]
     },
     "execution_count": 1,
     "metadata": {},
     "output_type": "execute_result"
    }
   ],
   "source": [
    "import pandas as pd\n",
    "import numpy as np\n",
    "import time\n",
    "\n",
    "dataset_process = pd.read_csv(\"PCA_banco_2.csv\", delimiter=';')\n",
    "\n",
    "X = dataset_process.loc[: , dataset_process.columns != 'Risk'].values\n",
    "\n",
    "#XPCA = X.loc[: , dataset_process.columns != 'model'].values\n",
    "y = dataset_process[\"Risk\"].values\n",
    "\n",
    "len(dataset_process.columns)"
   ]
  },
  {
   "cell_type": "code",
   "execution_count": 2,
   "id": "e664d443",
   "metadata": {},
   "outputs": [
    {
     "data": {
      "text/html": [
       "<div>\n",
       "<style scoped>\n",
       "    .dataframe tbody tr th:only-of-type {\n",
       "        vertical-align: middle;\n",
       "    }\n",
       "\n",
       "    .dataframe tbody tr th {\n",
       "        vertical-align: top;\n",
       "    }\n",
       "\n",
       "    .dataframe thead th {\n",
       "        text-align: right;\n",
       "    }\n",
       "</style>\n",
       "<table border=\"1\" class=\"dataframe\">\n",
       "  <thead>\n",
       "    <tr style=\"text-align: right;\">\n",
       "      <th></th>\n",
       "      <th>principal component 1</th>\n",
       "      <th>principal component 2</th>\n",
       "      <th>model</th>\n",
       "      <th>age</th>\n",
       "      <th>Risk</th>\n",
       "    </tr>\n",
       "  </thead>\n",
       "  <tbody>\n",
       "    <tr>\n",
       "      <th>0</th>\n",
       "      <td>-11.001838</td>\n",
       "      <td>-10.138161</td>\n",
       "      <td>model3</td>\n",
       "      <td>18</td>\n",
       "      <td>low</td>\n",
       "    </tr>\n",
       "    <tr>\n",
       "      <th>1</th>\n",
       "      <td>3.576911</td>\n",
       "      <td>-10.193448</td>\n",
       "      <td>model3</td>\n",
       "      <td>18</td>\n",
       "      <td>low</td>\n",
       "    </tr>\n",
       "    <tr>\n",
       "      <th>2</th>\n",
       "      <td>-11.538517</td>\n",
       "      <td>-1.409215</td>\n",
       "      <td>model3</td>\n",
       "      <td>18</td>\n",
       "      <td>low</td>\n",
       "    </tr>\n",
       "    <tr>\n",
       "      <th>3</th>\n",
       "      <td>13.332087</td>\n",
       "      <td>-8.439301</td>\n",
       "      <td>model3</td>\n",
       "      <td>18</td>\n",
       "      <td>low</td>\n",
       "    </tr>\n",
       "    <tr>\n",
       "      <th>4</th>\n",
       "      <td>6.450094</td>\n",
       "      <td>-2.742246</td>\n",
       "      <td>model3</td>\n",
       "      <td>18</td>\n",
       "      <td>low</td>\n",
       "    </tr>\n",
       "    <tr>\n",
       "      <th>...</th>\n",
       "      <td>...</td>\n",
       "      <td>...</td>\n",
       "      <td>...</td>\n",
       "      <td>...</td>\n",
       "      <td>...</td>\n",
       "    </tr>\n",
       "    <tr>\n",
       "      <th>7184</th>\n",
       "      <td>10.079966</td>\n",
       "      <td>-5.402769</td>\n",
       "      <td>model4</td>\n",
       "      <td>5</td>\n",
       "      <td>high</td>\n",
       "    </tr>\n",
       "    <tr>\n",
       "      <th>7185</th>\n",
       "      <td>-9.780569</td>\n",
       "      <td>1.209335</td>\n",
       "      <td>model4</td>\n",
       "      <td>5</td>\n",
       "      <td>high</td>\n",
       "    </tr>\n",
       "    <tr>\n",
       "      <th>7186</th>\n",
       "      <td>-14.652508</td>\n",
       "      <td>4.054376</td>\n",
       "      <td>model4</td>\n",
       "      <td>5</td>\n",
       "      <td>high</td>\n",
       "    </tr>\n",
       "    <tr>\n",
       "      <th>7187</th>\n",
       "      <td>-12.716552</td>\n",
       "      <td>1.436108</td>\n",
       "      <td>model4</td>\n",
       "      <td>5</td>\n",
       "      <td>high</td>\n",
       "    </tr>\n",
       "    <tr>\n",
       "      <th>7188</th>\n",
       "      <td>1.153254</td>\n",
       "      <td>-4.989378</td>\n",
       "      <td>model4</td>\n",
       "      <td>5</td>\n",
       "      <td>high</td>\n",
       "    </tr>\n",
       "  </tbody>\n",
       "</table>\n",
       "<p>7189 rows × 5 columns</p>\n",
       "</div>"
      ],
      "text/plain": [
       "      principal component 1  principal component 2   model  age  Risk\n",
       "0                -11.001838             -10.138161  model3   18   low\n",
       "1                  3.576911             -10.193448  model3   18   low\n",
       "2                -11.538517              -1.409215  model3   18   low\n",
       "3                 13.332087              -8.439301  model3   18   low\n",
       "4                  6.450094              -2.742246  model3   18   low\n",
       "...                     ...                    ...     ...  ...   ...\n",
       "7184              10.079966              -5.402769  model4    5  high\n",
       "7185              -9.780569               1.209335  model4    5  high\n",
       "7186             -14.652508               4.054376  model4    5  high\n",
       "7187             -12.716552               1.436108  model4    5  high\n",
       "7188               1.153254              -4.989378  model4    5  high\n",
       "\n",
       "[7189 rows x 5 columns]"
      ]
     },
     "metadata": {},
     "output_type": "display_data"
    }
   ],
   "source": [
    "display(dataset_process)"
   ]
  },
  {
   "cell_type": "code",
   "execution_count": 3,
   "id": "f6b2361e",
   "metadata": {},
   "outputs": [],
   "source": [
    "dataset_process.drop(\"model\",axis=1,inplace=True)\n",
    "dataset_process.head\n",
    "X = dataset_process.loc[: , dataset_process.columns != 'Risk'].values"
   ]
  },
  {
   "cell_type": "code",
   "execution_count": 4,
   "id": "09194412",
   "metadata": {},
   "outputs": [],
   "source": [
    "from sklearn.model_selection import train_test_split"
   ]
  },
  {
   "cell_type": "code",
   "execution_count": 5,
   "id": "50c2b8d8",
   "metadata": {},
   "outputs": [],
   "source": [
    "#X_train, X_test, y_train, y_test = train_test_split(X, y, test_size=0.2, random_state=1)\n",
    "X_train = X [:5545]\n",
    "X_test = X [5545:]\n",
    "y_train = y [:5545]\n",
    "y_test = y [5545:]"
   ]
  },
  {
   "cell_type": "code",
   "execution_count": 6,
   "id": "d5adb9bf",
   "metadata": {},
   "outputs": [
    {
     "data": {
      "text/plain": [
       "5545"
      ]
     },
     "execution_count": 6,
     "metadata": {},
     "output_type": "execute_result"
    }
   ],
   "source": [
    "len(X_train)"
   ]
  },
  {
   "cell_type": "code",
   "execution_count": 7,
   "id": "61e3b277",
   "metadata": {},
   "outputs": [
    {
     "data": {
      "text/plain": [
       "1644"
      ]
     },
     "execution_count": 7,
     "metadata": {},
     "output_type": "execute_result"
    }
   ],
   "source": [
    "len(X_test)"
   ]
  },
  {
   "cell_type": "code",
   "execution_count": 8,
   "id": "f5936d78",
   "metadata": {},
   "outputs": [
    {
     "name": "stdout",
     "output_type": "stream",
     "text": [
      "Iteration 1, loss = 1.72686637\n",
      "Iteration 2, loss = 1.14220805\n",
      "Iteration 3, loss = 1.07836442\n",
      "Iteration 4, loss = 1.06056614\n",
      "Iteration 5, loss = 1.04830457\n",
      "Iteration 6, loss = 1.04525958\n",
      "Iteration 7, loss = 1.04484711\n",
      "Iteration 8, loss = 1.04337593\n",
      "Iteration 9, loss = 1.04117186\n",
      "Iteration 10, loss = 1.03746768\n",
      "Iteration 11, loss = 1.04287836\n",
      "Iteration 12, loss = 1.03705812\n",
      "Iteration 13, loss = 1.04164176\n",
      "Iteration 14, loss = 1.03408254\n",
      "Iteration 15, loss = 1.03455062\n",
      "Iteration 16, loss = 1.03747392\n",
      "Iteration 17, loss = 1.03202115\n",
      "Iteration 18, loss = 1.03595605\n",
      "Iteration 19, loss = 1.03602385\n",
      "Iteration 20, loss = 1.03500726\n",
      "Iteration 21, loss = 1.03323967\n",
      "Iteration 22, loss = 1.03434216\n",
      "Iteration 23, loss = 1.03429051\n",
      "Iteration 24, loss = 1.03197289\n",
      "Iteration 25, loss = 1.03374363\n",
      "Iteration 26, loss = 1.03728250\n",
      "Iteration 27, loss = 1.03365298\n",
      "Iteration 28, loss = 1.03222041\n",
      "Iteration 29, loss = 1.03408568\n",
      "Iteration 30, loss = 1.03446095\n",
      "Iteration 31, loss = 1.02921334\n",
      "Iteration 32, loss = 1.02977375\n",
      "Iteration 33, loss = 1.02785964\n",
      "Iteration 34, loss = 1.02900136\n",
      "Iteration 35, loss = 1.02972477\n",
      "Iteration 36, loss = 1.02994999\n",
      "Iteration 37, loss = 1.02813334\n",
      "Iteration 38, loss = 1.03217823\n",
      "Iteration 39, loss = 1.03227807\n",
      "Iteration 40, loss = 1.03409457\n",
      "Iteration 41, loss = 1.03467792\n",
      "Iteration 42, loss = 1.02991120\n",
      "Iteration 43, loss = 1.03192410\n",
      "Iteration 44, loss = 1.03046954\n",
      "Training loss did not improve more than tol=0.000010 for 10 consecutive epochs. Stopping.\n"
     ]
    },
    {
     "data": {
      "text/plain": [
       "MLPClassifier(tol=1e-05, verbose=True)"
      ]
     },
     "execution_count": 8,
     "metadata": {},
     "output_type": "execute_result"
    }
   ],
   "source": [
    "from sklearn.neural_network import MLPClassifier\n",
    "rede_neural=MLPClassifier(verbose=True,tol=0.00001, activation='relu')\n",
    "rede_neural.fit(X_train,y_train)"
   ]
  },
  {
   "cell_type": "code",
   "execution_count": 9,
   "id": "6f0d2f98",
   "metadata": {},
   "outputs": [
    {
     "data": {
      "text/plain": [
       "0.4981751824817518"
      ]
     },
     "execution_count": 9,
     "metadata": {},
     "output_type": "execute_result"
    }
   ],
   "source": [
    "rede_neural.score(X_test, y_test)"
   ]
  },
  {
   "cell_type": "code",
   "execution_count": 10,
   "id": "8cda9139",
   "metadata": {},
   "outputs": [
    {
     "data": {
      "text/plain": [
       "array([[  3,   5, 424],\n",
       "       [  4,   2, 384],\n",
       "       [  1,   7, 814]], dtype=int64)"
      ]
     },
     "execution_count": 10,
     "metadata": {},
     "output_type": "execute_result"
    }
   ],
   "source": [
    "from sklearn.metrics import confusion_matrix\n",
    "y_pred = rede_neural.predict(X_test)\n",
    "cm = confusion_matrix(y_test, y_pred)\n",
    "cm"
   ]
  },
  {
   "cell_type": "code",
   "execution_count": 11,
   "id": "5179362d",
   "metadata": {},
   "outputs": [
    {
     "data": {
      "text/plain": [
       "Text(60.0, 0.5, 'Truth')"
      ]
     },
     "execution_count": 11,
     "metadata": {},
     "output_type": "execute_result"
    },
    {
     "data": {
      "image/png": "[encoded data removed]",
      "text/plain": [
       "<Figure size 648x504 with 2 Axes>"
      ]
     },
     "metadata": {
      "needs_background": "light"
     },
     "output_type": "display_data"
    }
   ],
   "source": [
    "%matplotlib inline\n",
    "import matplotlib.pyplot as plt\n",
    "import seaborn as sn\n",
    "plt.figure(figsize=(9,7))\n",
    "sn.heatmap(cm, annot=True)\n",
    "plt.xlabel('Predicted')\n",
    "plt.ylabel('Truth')"
   ]
  },
  {
   "cell_type": "code",
   "execution_count": 12,
   "id": "6aeac183",
   "metadata": {},
   "outputs": [
    {
     "name": "stdout",
     "output_type": "stream",
     "text": [
      "              precision    recall  f1-score   support\n",
      "\n",
      "        high       0.38      0.01      0.01       432\n",
      "intermediate       0.14      0.01      0.01       390\n",
      "         low       0.50      0.99      0.67       822\n",
      "\n",
      "    accuracy                           0.50      1644\n",
      "   macro avg       0.34      0.33      0.23      1644\n",
      "weighted avg       0.38      0.50      0.34      1644\n",
      "\n"
     ]
    }
   ],
   "source": [
    "from sklearn.metrics import classification_report\n",
    "\n",
    "print(classification_report(y_test, y_pred))"
   ]
  },
  {
   "cell_type": "code",
   "execution_count": 13,
   "id": "dc5f87e0",
   "metadata": {},
   "outputs": [
    {
     "data": {
      "image/png": "[encoded data removed]",
      "text/plain": [
       "<Figure size 576x432 with 1 Axes>"
      ]
     },
     "metadata": {
      "needs_background": "light"
     },
     "output_type": "display_data"
    }
   ],
   "source": [
    "import matplotlib.pyplot as plt\n",
    "plt.figure(figsize=(8,6))\n",
    "plt.scatter(dataset_process['principal component 1'],dataset_process['Risk'])\n",
    "#plt.scatter(df0['principal component 1'], df0['Label'],color=\"green\",marker='+')\n",
    "#plt.scatter(df1['principal component 1'], df1['Label'],color=\"blue\",marker='.')\n",
    "plt.ylabel('Label')\n",
    "plt.xlabel('principle component 1')\n",
    "plt.grid()"
   ]
  },
  {
   "cell_type": "code",
   "execution_count": 14,
   "id": "b8f0b537",
   "metadata": {},
   "outputs": [
    {
     "data": {
      "text/plain": [
       "5"
      ]
     },
     "execution_count": 14,
     "metadata": {},
     "output_type": "execute_result"
    }
   ],
   "source": [
    "import pandas as pd\n",
    "import numpy as np\n",
    "import time\n",
    "\n",
    "dataset_process = pd.read_csv(\"PCA_banco_2_model.csv\", delimiter=';')\n",
    "\n",
    "X = dataset_process.loc[: , dataset_process.columns != 'Risk'].values\n",
    "\n",
    "#XPCA = X.loc[: , dataset_process.columns != 'model'].values\n",
    "y = dataset_process[\"Risk\"].values\n",
    "\n",
    "len(dataset_process.columns)"
   ]
  },
  {
   "cell_type": "code",
   "execution_count": 15,
   "id": "f0992950",
   "metadata": {},
   "outputs": [
    {
     "data": {
      "text/html": [
       "<div>\n",
       "<style scoped>\n",
       "    .dataframe tbody tr th:only-of-type {\n",
       "        vertical-align: middle;\n",
       "    }\n",
       "\n",
       "    .dataframe tbody tr th {\n",
       "        vertical-align: top;\n",
       "    }\n",
       "\n",
       "    .dataframe thead th {\n",
       "        text-align: right;\n",
       "    }\n",
       "</style>\n",
       "<table border=\"1\" class=\"dataframe\">\n",
       "  <thead>\n",
       "    <tr style=\"text-align: right;\">\n",
       "      <th></th>\n",
       "      <th>principal component 1</th>\n",
       "      <th>principal component 2</th>\n",
       "      <th>age</th>\n",
       "      <th>Risk</th>\n",
       "      <th>model</th>\n",
       "    </tr>\n",
       "  </thead>\n",
       "  <tbody>\n",
       "    <tr>\n",
       "      <th>0</th>\n",
       "      <td>-11.001838</td>\n",
       "      <td>-10.138161</td>\n",
       "      <td>18</td>\n",
       "      <td>low</td>\n",
       "      <td>3</td>\n",
       "    </tr>\n",
       "    <tr>\n",
       "      <th>1</th>\n",
       "      <td>3.576911</td>\n",
       "      <td>-10.193448</td>\n",
       "      <td>18</td>\n",
       "      <td>low</td>\n",
       "      <td>3</td>\n",
       "    </tr>\n",
       "    <tr>\n",
       "      <th>2</th>\n",
       "      <td>-11.538517</td>\n",
       "      <td>-1.409215</td>\n",
       "      <td>18</td>\n",
       "      <td>low</td>\n",
       "      <td>3</td>\n",
       "    </tr>\n",
       "    <tr>\n",
       "      <th>3</th>\n",
       "      <td>13.332087</td>\n",
       "      <td>-8.439301</td>\n",
       "      <td>18</td>\n",
       "      <td>low</td>\n",
       "      <td>3</td>\n",
       "    </tr>\n",
       "    <tr>\n",
       "      <th>4</th>\n",
       "      <td>6.450094</td>\n",
       "      <td>-2.742246</td>\n",
       "      <td>18</td>\n",
       "      <td>low</td>\n",
       "      <td>3</td>\n",
       "    </tr>\n",
       "    <tr>\n",
       "      <th>...</th>\n",
       "      <td>...</td>\n",
       "      <td>...</td>\n",
       "      <td>...</td>\n",
       "      <td>...</td>\n",
       "      <td>...</td>\n",
       "    </tr>\n",
       "    <tr>\n",
       "      <th>7184</th>\n",
       "      <td>10.079966</td>\n",
       "      <td>-5.402769</td>\n",
       "      <td>5</td>\n",
       "      <td>high</td>\n",
       "      <td>4</td>\n",
       "    </tr>\n",
       "    <tr>\n",
       "      <th>7185</th>\n",
       "      <td>-9.780569</td>\n",
       "      <td>1.209335</td>\n",
       "      <td>5</td>\n",
       "      <td>high</td>\n",
       "      <td>4</td>\n",
       "    </tr>\n",
       "    <tr>\n",
       "      <th>7186</th>\n",
       "      <td>-14.652508</td>\n",
       "      <td>4.054376</td>\n",
       "      <td>5</td>\n",
       "      <td>high</td>\n",
       "      <td>4</td>\n",
       "    </tr>\n",
       "    <tr>\n",
       "      <th>7187</th>\n",
       "      <td>-12.716552</td>\n",
       "      <td>1.436108</td>\n",
       "      <td>5</td>\n",
       "      <td>high</td>\n",
       "      <td>4</td>\n",
       "    </tr>\n",
       "    <tr>\n",
       "      <th>7188</th>\n",
       "      <td>1.153254</td>\n",
       "      <td>-4.989378</td>\n",
       "      <td>5</td>\n",
       "      <td>high</td>\n",
       "      <td>4</td>\n",
       "    </tr>\n",
       "  </tbody>\n",
       "</table>\n",
       "<p>7189 rows × 5 columns</p>\n",
       "</div>"
      ],
      "text/plain": [
       "      principal component 1  principal component 2  age  Risk  model\n",
       "0                -11.001838             -10.138161   18   low      3\n",
       "1                  3.576911             -10.193448   18   low      3\n",
       "2                -11.538517              -1.409215   18   low      3\n",
       "3                 13.332087              -8.439301   18   low      3\n",
       "4                  6.450094              -2.742246   18   low      3\n",
       "...                     ...                    ...  ...   ...    ...\n",
       "7184              10.079966              -5.402769    5  high      4\n",
       "7185              -9.780569               1.209335    5  high      4\n",
       "7186             -14.652508               4.054376    5  high      4\n",
       "7187             -12.716552               1.436108    5  high      4\n",
       "7188               1.153254              -4.989378    5  high      4\n",
       "\n",
       "[7189 rows x 5 columns]"
      ]
     },
     "metadata": {},
     "output_type": "display_data"
    }
   ],
   "source": [
    "display(dataset_process)"
   ]
  },
  {
   "cell_type": "code",
   "execution_count": 16,
   "id": "4597c9f0",
   "metadata": {},
   "outputs": [],
   "source": [
    "from sklearn.model_selection import train_test_split"
   ]
  },
  {
   "cell_type": "code",
   "execution_count": 17,
   "id": "ae8b4f22",
   "metadata": {},
   "outputs": [],
   "source": [
    "X_train = X [:5545]\n",
    "X_test = X [5545:]\n",
    "y_train = y [:5545]\n",
    "y_test = y [5545:]"
   ]
  },
  {
   "cell_type": "code",
   "execution_count": 27,
   "id": "8a7ea6eb",
   "metadata": {},
   "outputs": [
    {
     "name": "stdout",
     "output_type": "stream",
     "text": [
      "Iteration 1, loss = 0.66680988\n",
      "Iteration 2, loss = 0.31462288\n",
      "Iteration 3, loss = 0.28575141\n",
      "Iteration 4, loss = 0.27851005\n",
      "Iteration 5, loss = 0.27460583\n",
      "Iteration 6, loss = 0.27264724\n",
      "Iteration 7, loss = 0.27007301\n",
      "Iteration 8, loss = 0.26936348\n",
      "Iteration 9, loss = 0.26884567\n",
      "Iteration 10, loss = 0.26582726\n",
      "Iteration 11, loss = 0.26647383\n",
      "Iteration 12, loss = 0.26556054\n",
      "Iteration 13, loss = 0.26489656\n",
      "Iteration 14, loss = 0.26408180\n",
      "Iteration 15, loss = 0.26456476\n",
      "Iteration 16, loss = 0.26345628\n",
      "Iteration 17, loss = 0.26188732\n",
      "Iteration 18, loss = 0.26288113\n",
      "Iteration 19, loss = 0.26257441\n",
      "Iteration 20, loss = 0.26097536\n",
      "Iteration 21, loss = 0.26036549\n",
      "Iteration 22, loss = 0.26093961\n",
      "Iteration 23, loss = 0.25963002\n",
      "Iteration 24, loss = 0.25970178\n",
      "Iteration 25, loss = 0.25810299\n",
      "Iteration 26, loss = 0.25999744\n",
      "Iteration 27, loss = 0.26062474\n",
      "Iteration 28, loss = 0.25725530\n",
      "Iteration 29, loss = 0.25977369\n",
      "Iteration 30, loss = 0.26136911\n",
      "Iteration 31, loss = 0.25825072\n",
      "Iteration 32, loss = 0.26069669\n",
      "Iteration 33, loss = 0.25821792\n",
      "Iteration 34, loss = 0.25818819\n",
      "Iteration 35, loss = 0.25909997\n",
      "Iteration 36, loss = 0.25775005\n",
      "Iteration 37, loss = 0.25853501\n",
      "Iteration 38, loss = 0.25718642\n",
      "Iteration 39, loss = 0.25596092\n",
      "Iteration 40, loss = 0.25816932\n",
      "Iteration 41, loss = 0.25605385\n",
      "Iteration 42, loss = 0.25497822\n",
      "Iteration 43, loss = 0.25494092\n",
      "Iteration 44, loss = 0.25649837\n",
      "Iteration 45, loss = 0.25688692\n",
      "Iteration 46, loss = 0.25739510\n",
      "Iteration 47, loss = 0.25864126\n",
      "Iteration 48, loss = 0.25929314\n",
      "Iteration 49, loss = 0.26134136\n",
      "Iteration 50, loss = 0.25695185\n",
      "Iteration 51, loss = 0.25668571\n",
      "Iteration 52, loss = 0.25492374\n",
      "Iteration 53, loss = 0.25646466\n",
      "Iteration 54, loss = 0.25524717\n",
      "Iteration 55, loss = 0.25405185\n",
      "Iteration 56, loss = 0.25617868\n",
      "Iteration 57, loss = 0.25519369\n",
      "Iteration 58, loss = 0.25799778\n",
      "Iteration 59, loss = 0.25845443\n",
      "Iteration 60, loss = 0.25509447\n",
      "Iteration 61, loss = 0.25431702\n",
      "Iteration 62, loss = 0.25643902\n",
      "Iteration 63, loss = 0.25441293\n",
      "Iteration 64, loss = 0.25708063\n",
      "Iteration 65, loss = 0.25866979\n",
      "Iteration 66, loss = 0.25519646\n",
      "Training loss did not improve more than tol=0.000010 for 10 consecutive epochs. Stopping.\n"
     ]
    },
    {
     "data": {
      "text/plain": [
       "MLPClassifier(tol=1e-05, verbose=True)"
      ]
     },
     "execution_count": 27,
     "metadata": {},
     "output_type": "execute_result"
    }
   ],
   "source": [
    "rede_neural=MLPClassifier(verbose=True,tol=0.00001, activation='relu')\n",
    "rede_neural.fit(X_train,y_train)"
   ]
  },
  {
   "cell_type": "code",
   "execution_count": 28,
   "id": "416fff8c",
   "metadata": {},
   "outputs": [
    {
     "data": {
      "text/plain": [
       "0.9190997566909975"
      ]
     },
     "execution_count": 28,
     "metadata": {},
     "output_type": "execute_result"
    }
   ],
   "source": [
    "rede_neural.score(X_test, y_test)"
   ]
  },
  {
   "cell_type": "code",
   "execution_count": 29,
   "id": "b8b03d81",
   "metadata": {},
   "outputs": [
    {
     "data": {
      "text/plain": [
       "array([[   7,  128],\n",
       "       [   5, 1504]], dtype=int64)"
      ]
     },
     "execution_count": 29,
     "metadata": {},
     "output_type": "execute_result"
    }
   ],
   "source": [
    "from sklearn.metrics import confusion_matrix\n",
    "y_pred = rede_neural.predict(X_test)\n",
    "cm = confusion_matrix(y_test, y_pred)\n",
    "cm"
   ]
  },
  {
   "cell_type": "code",
   "execution_count": 30,
   "id": "8bd665dc",
   "metadata": {},
   "outputs": [
    {
     "data": {
      "text/plain": [
       "Text(60.0, 0.5, 'Truth')"
      ]
     },
     "execution_count": 30,
     "metadata": {},
     "output_type": "execute_result"
    },
    {
     "data": {
      "image/png": "[encoded data removed]",
      "text/plain": [
       "<Figure size 648x504 with 2 Axes>"
      ]
     },
     "metadata": {
      "needs_background": "light"
     },
     "output_type": "display_data"
    }
   ],
   "source": [
    "%matplotlib inline\n",
    "import matplotlib.pyplot as plt\n",
    "import seaborn as sn\n",
    "plt.figure(figsize=(9,7))\n",
    "sn.heatmap(cm, annot=True)\n",
    "plt.xlabel('Predicted')\n",
    "plt.ylabel('Truth')"
   ]
  },
  {
   "cell_type": "code",
   "execution_count": 31,
   "id": "5a80913f",
   "metadata": {},
   "outputs": [
    {
     "name": "stdout",
     "output_type": "stream",
     "text": [
      "              precision    recall  f1-score   support\n",
      "\n",
      "        high       0.58      0.05      0.10       135\n",
      "         low       0.92      1.00      0.96      1509\n",
      "\n",
      "    accuracy                           0.92      1644\n",
      "   macro avg       0.75      0.52      0.53      1644\n",
      "weighted avg       0.89      0.92      0.89      1644\n",
      "\n"
     ]
    }
   ],
   "source": [
    "from sklearn.metrics import classification_report\n",
    "\n",
    "print(classification_report(y_test, y_pred))"
   ]
  },
  {
   "cell_type": "code",
   "execution_count": 32,
   "id": "dde7ace5",
   "metadata": {},
   "outputs": [
    {
     "data": {
      "image/png": "[encoded data removed]",
      "text/plain": [
       "<Figure size 576x432 with 1 Axes>"
      ]
     },
     "metadata": {
      "needs_background": "light"
     },
     "output_type": "display_data"
    }
   ],
   "source": [
    "import matplotlib.pyplot as plt\n",
    "plt.figure(figsize=(8,6))\n",
    "plt.scatter(dataset_process['principal component 1'],dataset_process['Risk'])\n",
    "#plt.scatter(df0['principal component 1'], df0['Label'],color=\"green\",marker='+')\n",
    "#plt.scatter(df1['principal component 1'], df1['Label'],color=\"blue\",marker='.')\n",
    "plt.ylabel('Label')\n",
    "plt.xlabel('principle component 1')\n",
    "plt.grid()"
   ]
  },
  {
   "cell_type": "code",
   "execution_count": 33,
   "id": "44071efd",
   "metadata": {},
   "outputs": [
    {
     "data": {
      "text/plain": [
       "5"
      ]
     },
     "execution_count": 33,
     "metadata": {},
     "output_type": "execute_result"
    }
   ],
   "source": [
    "import pandas as pd\n",
    "import numpy as np\n",
    "import time\n",
    "\n",
    "dataset_process = pd.read_csv(\"PCA_banco_2_normalizado.csv\", delimiter=';')\n",
    "\n",
    "X = dataset_process.loc[: , dataset_process.columns != 'Risk'].values\n",
    "\n",
    "#XPCA = X.loc[: , dataset_process.columns != 'model'].values\n",
    "y = dataset_process[\"Risk\"].values\n",
    "\n",
    "len(dataset_process.columns)"
   ]
  },
  {
   "cell_type": "code",
   "execution_count": 34,
   "id": "e4e2b5e5",
   "metadata": {},
   "outputs": [
    {
     "data": {
      "text/html": [
       "<div>\n",
       "<style scoped>\n",
       "    .dataframe tbody tr th:only-of-type {\n",
       "        vertical-align: middle;\n",
       "    }\n",
       "\n",
       "    .dataframe tbody tr th {\n",
       "        vertical-align: top;\n",
       "    }\n",
       "\n",
       "    .dataframe thead th {\n",
       "        text-align: right;\n",
       "    }\n",
       "</style>\n",
       "<table border=\"1\" class=\"dataframe\">\n",
       "  <thead>\n",
       "    <tr style=\"text-align: right;\">\n",
       "      <th></th>\n",
       "      <th>principal component 1</th>\n",
       "      <th>principal component 2</th>\n",
       "      <th>age</th>\n",
       "      <th>Risk</th>\n",
       "      <th>model</th>\n",
       "    </tr>\n",
       "  </thead>\n",
       "  <tbody>\n",
       "    <tr>\n",
       "      <th>0</th>\n",
       "      <td>1.620206</td>\n",
       "      <td>2.836273</td>\n",
       "      <td>18</td>\n",
       "      <td>low</td>\n",
       "      <td>3</td>\n",
       "    </tr>\n",
       "    <tr>\n",
       "      <th>1</th>\n",
       "      <td>0.988283</td>\n",
       "      <td>2.097243</td>\n",
       "      <td>18</td>\n",
       "      <td>low</td>\n",
       "      <td>3</td>\n",
       "    </tr>\n",
       "    <tr>\n",
       "      <th>2</th>\n",
       "      <td>0.693608</td>\n",
       "      <td>2.677868</td>\n",
       "      <td>18</td>\n",
       "      <td>low</td>\n",
       "      <td>3</td>\n",
       "    </tr>\n",
       "    <tr>\n",
       "      <th>3</th>\n",
       "      <td>-0.475364</td>\n",
       "      <td>-0.254849</td>\n",
       "      <td>18</td>\n",
       "      <td>low</td>\n",
       "      <td>3</td>\n",
       "    </tr>\n",
       "    <tr>\n",
       "      <th>4</th>\n",
       "      <td>-1.381431</td>\n",
       "      <td>-0.423865</td>\n",
       "      <td>18</td>\n",
       "      <td>low</td>\n",
       "      <td>3</td>\n",
       "    </tr>\n",
       "    <tr>\n",
       "      <th>...</th>\n",
       "      <td>...</td>\n",
       "      <td>...</td>\n",
       "      <td>...</td>\n",
       "      <td>...</td>\n",
       "      <td>...</td>\n",
       "    </tr>\n",
       "    <tr>\n",
       "      <th>7184</th>\n",
       "      <td>-1.238952</td>\n",
       "      <td>-0.761555</td>\n",
       "      <td>5</td>\n",
       "      <td>high</td>\n",
       "      <td>4</td>\n",
       "    </tr>\n",
       "    <tr>\n",
       "      <th>7185</th>\n",
       "      <td>-0.823301</td>\n",
       "      <td>0.151602</td>\n",
       "      <td>5</td>\n",
       "      <td>high</td>\n",
       "      <td>4</td>\n",
       "    </tr>\n",
       "    <tr>\n",
       "      <th>7186</th>\n",
       "      <td>0.133513</td>\n",
       "      <td>0.974139</td>\n",
       "      <td>5</td>\n",
       "      <td>high</td>\n",
       "      <td>4</td>\n",
       "    </tr>\n",
       "    <tr>\n",
       "      <th>7187</th>\n",
       "      <td>0.893660</td>\n",
       "      <td>1.467202</td>\n",
       "      <td>5</td>\n",
       "      <td>high</td>\n",
       "      <td>4</td>\n",
       "    </tr>\n",
       "    <tr>\n",
       "      <th>7188</th>\n",
       "      <td>0.902701</td>\n",
       "      <td>1.592453</td>\n",
       "      <td>5</td>\n",
       "      <td>high</td>\n",
       "      <td>4</td>\n",
       "    </tr>\n",
       "  </tbody>\n",
       "</table>\n",
       "<p>7189 rows × 5 columns</p>\n",
       "</div>"
      ],
      "text/plain": [
       "      principal component 1  principal component 2  age  Risk  model\n",
       "0                  1.620206               2.836273   18   low      3\n",
       "1                  0.988283               2.097243   18   low      3\n",
       "2                  0.693608               2.677868   18   low      3\n",
       "3                 -0.475364              -0.254849   18   low      3\n",
       "4                 -1.381431              -0.423865   18   low      3\n",
       "...                     ...                    ...  ...   ...    ...\n",
       "7184              -1.238952              -0.761555    5  high      4\n",
       "7185              -0.823301               0.151602    5  high      4\n",
       "7186               0.133513               0.974139    5  high      4\n",
       "7187               0.893660               1.467202    5  high      4\n",
       "7188               0.902701               1.592453    5  high      4\n",
       "\n",
       "[7189 rows x 5 columns]"
      ]
     },
     "metadata": {},
     "output_type": "display_data"
    }
   ],
   "source": [
    "display(dataset_process)"
   ]
  },
  {
   "cell_type": "code",
   "execution_count": 94,
   "id": "70887423",
   "metadata": {},
   "outputs": [],
   "source": [
    "from sklearn.model_selection import train_test_split"
   ]
  },
  {
   "cell_type": "code",
   "execution_count": 95,
   "id": "8f2bf828",
   "metadata": {},
   "outputs": [],
   "source": [
    "X_train = X [:5545]\n",
    "X_test = X [5545:]\n",
    "y_train = y [:5545]\n",
    "y_test = y [5545:]"
   ]
  },
  {
   "cell_type": "code",
   "execution_count": 35,
   "id": "8deeee2e",
   "metadata": {},
   "outputs": [
    {
     "name": "stdout",
     "output_type": "stream",
     "text": [
      "Iteration 1, loss = 0.57344664\n",
      "Iteration 2, loss = 0.31282604\n",
      "Iteration 3, loss = 0.29209648\n",
      "Iteration 4, loss = 0.28225614\n",
      "Iteration 5, loss = 0.27776180\n",
      "Iteration 6, loss = 0.27434601\n",
      "Iteration 7, loss = 0.27253157\n",
      "Iteration 8, loss = 0.27231973\n",
      "Iteration 9, loss = 0.27138528\n",
      "Iteration 10, loss = 0.26939702\n",
      "Iteration 11, loss = 0.26980947\n",
      "Iteration 12, loss = 0.26797448\n",
      "Iteration 13, loss = 0.26901628\n",
      "Iteration 14, loss = 0.26777667\n",
      "Iteration 15, loss = 0.26660279\n",
      "Iteration 16, loss = 0.26621841\n",
      "Iteration 17, loss = 0.26595714\n",
      "Iteration 18, loss = 0.26617729\n",
      "Iteration 19, loss = 0.26768597\n",
      "Iteration 20, loss = 0.26547693\n",
      "Iteration 21, loss = 0.26556355\n",
      "Iteration 22, loss = 0.26434658\n",
      "Iteration 23, loss = 0.26417270\n",
      "Iteration 24, loss = 0.26316493\n",
      "Iteration 25, loss = 0.26417679\n",
      "Iteration 26, loss = 0.26337942\n",
      "Iteration 27, loss = 0.26282968\n",
      "Iteration 28, loss = 0.26265913\n",
      "Iteration 29, loss = 0.26174717\n",
      "Iteration 30, loss = 0.26221797\n",
      "Iteration 31, loss = 0.26207550\n",
      "Iteration 32, loss = 0.26174111\n",
      "Iteration 33, loss = 0.26276710\n",
      "Iteration 34, loss = 0.26175573\n",
      "Iteration 35, loss = 0.26017691\n",
      "Iteration 36, loss = 0.26109993\n",
      "Iteration 37, loss = 0.25984367\n",
      "Iteration 38, loss = 0.26315544\n",
      "Iteration 39, loss = 0.26034670\n",
      "Iteration 40, loss = 0.25960818\n",
      "Iteration 41, loss = 0.26098788\n",
      "Iteration 42, loss = 0.26025348\n",
      "Iteration 43, loss = 0.26226711\n",
      "Iteration 44, loss = 0.25808162\n",
      "Iteration 45, loss = 0.25826074\n",
      "Iteration 46, loss = 0.25897003\n",
      "Iteration 47, loss = 0.25856422\n",
      "Iteration 48, loss = 0.26029248\n",
      "Iteration 49, loss = 0.26198219\n",
      "Iteration 50, loss = 0.26039308\n",
      "Iteration 51, loss = 0.25811990\n",
      "Iteration 52, loss = 0.25713188\n",
      "Iteration 53, loss = 0.25917674\n",
      "Iteration 54, loss = 0.26037933\n",
      "Iteration 55, loss = 0.25831491\n",
      "Iteration 56, loss = 0.26158312\n",
      "Iteration 57, loss = 0.25760324\n",
      "Iteration 58, loss = 0.25582151\n",
      "Iteration 59, loss = 0.25686382\n",
      "Iteration 60, loss = 0.25677850\n",
      "Iteration 61, loss = 0.25680153\n",
      "Iteration 62, loss = 0.25792118\n",
      "Iteration 63, loss = 0.25559111\n",
      "Iteration 64, loss = 0.25606981\n",
      "Iteration 65, loss = 0.25649777\n",
      "Iteration 66, loss = 0.25794656\n",
      "Iteration 67, loss = 0.25516339\n",
      "Iteration 68, loss = 0.25585018\n",
      "Iteration 69, loss = 0.25596791\n",
      "Iteration 70, loss = 0.25494676\n",
      "Iteration 71, loss = 0.25723763\n",
      "Iteration 72, loss = 0.25532334\n",
      "Iteration 73, loss = 0.25532766\n",
      "Iteration 74, loss = 0.25456971\n",
      "Iteration 75, loss = 0.25539404\n",
      "Iteration 76, loss = 0.25552525\n",
      "Iteration 77, loss = 0.25603981\n",
      "Iteration 78, loss = 0.25754845\n",
      "Iteration 79, loss = 0.25403474\n",
      "Iteration 80, loss = 0.25442515\n",
      "Iteration 81, loss = 0.25552772\n",
      "Iteration 82, loss = 0.25594643\n",
      "Iteration 83, loss = 0.25563981\n",
      "Iteration 84, loss = 0.25562424\n",
      "Iteration 85, loss = 0.25529017\n",
      "Iteration 86, loss = 0.25472599\n",
      "Iteration 87, loss = 0.25614751\n",
      "Iteration 88, loss = 0.25475491\n",
      "Iteration 89, loss = 0.25876668\n",
      "Iteration 90, loss = 0.25506177\n",
      "Training loss did not improve more than tol=0.000010 for 10 consecutive epochs. Stopping.\n"
     ]
    },
    {
     "data": {
      "text/plain": [
       "MLPClassifier(tol=1e-05, verbose=True)"
      ]
     },
     "execution_count": 35,
     "metadata": {},
     "output_type": "execute_result"
    }
   ],
   "source": [
    "rede_neural=MLPClassifier(verbose=True,tol=0.00001, activation='relu')\n",
    "rede_neural.fit(X_train,y_train)"
   ]
  },
  {
   "cell_type": "code",
   "execution_count": 36,
   "id": "1af889ee",
   "metadata": {},
   "outputs": [
    {
     "data": {
      "text/plain": [
       "0.9166666666666666"
      ]
     },
     "execution_count": 36,
     "metadata": {},
     "output_type": "execute_result"
    }
   ],
   "source": [
    "rede_neural.score(X_test, y_test)"
   ]
  },
  {
   "cell_type": "code",
   "execution_count": 37,
   "id": "b3d55726",
   "metadata": {},
   "outputs": [
    {
     "data": {
      "text/plain": [
       "array([[   3,  132],\n",
       "       [   5, 1504]], dtype=int64)"
      ]
     },
     "execution_count": 37,
     "metadata": {},
     "output_type": "execute_result"
    }
   ],
   "source": [
    "from sklearn.metrics import confusion_matrix\n",
    "y_pred = rede_neural.predict(X_test)\n",
    "cm = confusion_matrix(y_test, y_pred)\n",
    "cm"
   ]
  },
  {
   "cell_type": "code",
   "execution_count": 38,
   "id": "6ab14a4d",
   "metadata": {},
   "outputs": [
    {
     "data": {
      "text/plain": [
       "Text(60.0, 0.5, 'Truth')"
      ]
     },
     "execution_count": 38,
     "metadata": {},
     "output_type": "execute_result"
    },
    {
     "data": {
      "image/png": "[encoded data removed]",
      "text/plain": [
       "<Figure size 648x504 with 2 Axes>"
      ]
     },
     "metadata": {
      "needs_background": "light"
     },
     "output_type": "display_data"
    }
   ],
   "source": [
    "%matplotlib inline\n",
    "import matplotlib.pyplot as plt\n",
    "import seaborn as sn\n",
    "plt.figure(figsize=(9,7))\n",
    "sn.heatmap(cm, annot=True)\n",
    "plt.xlabel('Predicted')\n",
    "plt.ylabel('Truth')"
   ]
  },
  {
   "cell_type": "code",
   "execution_count": 39,
   "id": "26fe33f9",
   "metadata": {},
   "outputs": [
    {
     "name": "stdout",
     "output_type": "stream",
     "text": [
      "              precision    recall  f1-score   support\n",
      "\n",
      "        high       0.38      0.02      0.04       135\n",
      "         low       0.92      1.00      0.96      1509\n",
      "\n",
      "    accuracy                           0.92      1644\n",
      "   macro avg       0.65      0.51      0.50      1644\n",
      "weighted avg       0.87      0.92      0.88      1644\n",
      "\n"
     ]
    }
   ],
   "source": [
    "from sklearn.metrics import classification_report\n",
    "\n",
    "print(classification_report(y_test, y_pred))"
   ]
  },
  {
   "cell_type": "code",
   "execution_count": 40,
   "id": "7595f2ba",
   "metadata": {},
   "outputs": [
    {
     "data": {
      "image/png": "[encoded data removed]",
      "text/plain": [
       "<Figure size 576x432 with 1 Axes>"
      ]
     },
     "metadata": {
      "needs_background": "light"
     },
     "output_type": "display_data"
    }
   ],
   "source": [
    "import matplotlib.pyplot as plt\n",
    "plt.figure(figsize=(8,6))\n",
    "plt.scatter(dataset_process['principal component 2'],dataset_process['Risk'])\n",
    "#plt.scatter(df0['principal component 1'], df0['Label'],color=\"green\",marker='+')\n",
    "#plt.scatter(df1['principal component 1'], df1['Label'],color=\"blue\",marker='.')\n",
    "plt.ylabel('Label')\n",
    "plt.xlabel('principle component 2')\n",
    "plt.grid()"
   ]
  },
  {
   "cell_type": "code",
   "execution_count": null,
   "id": "22887e94",
   "metadata": {},
   "outputs": [],
   "source": []
  }
 ],
 "metadata": {
  "kernelspec": {
   "display_name": "Python 3 (ipykernel)",
   "language": "python",
   "name": "python3"
  },
  "language_info": {
   "codemirror_mode": {
    "name": "ipython",
    "version": 3
   },
   "file_extension": ".py",
   "mimetype": "text/x-python",
   "name": "python",
   "nbconvert_exporter": "python",
   "pygments_lexer": "ipython3",
   "version": "3.9.7"
  }
 },
 "nbformat": 4,
 "nbformat_minor": 5
}
