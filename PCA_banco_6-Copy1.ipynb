{
 "cells": [
  {
   "cell_type": "code",
   "execution_count": 2,
   "id": "58c80236",
   "metadata": {},
   "outputs": [
    {
     "data": {
      "text/plain": [
       "5"
      ]
     },
     "execution_count": 2,
     "metadata": {},
     "output_type": "execute_result"
    }
   ],
   "source": [
    "import pandas as pd\n",
    "import numpy as np\n",
    "import time\n",
    "\n",
    "dataset_process = pd.read_csv(\"Base_6_unida_1000_PCA.csv\", delimiter=';')\n",
    "X = dataset_process.loc[: , dataset_process.columns != 'failure'].values\n",
    "y = dataset_process[\"failure\"].values\n",
    "\n",
    "len(dataset_process.columns)"
   ]
  },
  {
   "cell_type": "code",
   "execution_count": 3,
   "id": "a4babbce",
   "metadata": {},
   "outputs": [
    {
     "data": {
      "text/html": [
       "<div>\n",
       "<style scoped>\n",
       "    .dataframe tbody tr th:only-of-type {\n",
       "        vertical-align: middle;\n",
       "    }\n",
       "\n",
       "    .dataframe tbody tr th {\n",
       "        vertical-align: top;\n",
       "    }\n",
       "\n",
       "    .dataframe thead th {\n",
       "        text-align: right;\n",
       "    }\n",
       "</style>\n",
       "<table border=\"1\" class=\"dataframe\">\n",
       "  <thead>\n",
       "    <tr style=\"text-align: right;\">\n",
       "      <th></th>\n",
       "      <th>a1</th>\n",
       "      <th>a2</th>\n",
       "      <th>a3</th>\n",
       "      <th>a4</th>\n",
       "      <th>failure</th>\n",
       "    </tr>\n",
       "  </thead>\n",
       "  <tbody>\n",
       "    <tr>\n",
       "      <th>0</th>\n",
       "      <td>5.550695</td>\n",
       "      <td>3.915708</td>\n",
       "      <td>2.954724</td>\n",
       "      <td>3.101977</td>\n",
       "      <td>0</td>\n",
       "    </tr>\n",
       "    <tr>\n",
       "      <th>1</th>\n",
       "      <td>6.204721</td>\n",
       "      <td>3.743655</td>\n",
       "      <td>3.266856</td>\n",
       "      <td>3.577366</td>\n",
       "      <td>0</td>\n",
       "    </tr>\n",
       "    <tr>\n",
       "      <th>2</th>\n",
       "      <td>5.112671</td>\n",
       "      <td>4.248774</td>\n",
       "      <td>3.006690</td>\n",
       "      <td>2.940574</td>\n",
       "      <td>0</td>\n",
       "    </tr>\n",
       "    <tr>\n",
       "      <th>3</th>\n",
       "      <td>5.795922</td>\n",
       "      <td>4.159701</td>\n",
       "      <td>3.154457</td>\n",
       "      <td>3.352785</td>\n",
       "      <td>0</td>\n",
       "    </tr>\n",
       "    <tr>\n",
       "      <th>4</th>\n",
       "      <td>6.106459</td>\n",
       "      <td>4.168643</td>\n",
       "      <td>3.314856</td>\n",
       "      <td>3.712539</td>\n",
       "      <td>0</td>\n",
       "    </tr>\n",
       "    <tr>\n",
       "      <th>...</th>\n",
       "      <td>...</td>\n",
       "      <td>...</td>\n",
       "      <td>...</td>\n",
       "      <td>...</td>\n",
       "      <td>...</td>\n",
       "    </tr>\n",
       "    <tr>\n",
       "      <th>2004</th>\n",
       "      <td>5.269118</td>\n",
       "      <td>5.057932</td>\n",
       "      <td>4.166866</td>\n",
       "      <td>5.026991</td>\n",
       "      <td>1</td>\n",
       "    </tr>\n",
       "    <tr>\n",
       "      <th>2005</th>\n",
       "      <td>4.597010</td>\n",
       "      <td>4.576745</td>\n",
       "      <td>3.743260</td>\n",
       "      <td>4.538569</td>\n",
       "      <td>1</td>\n",
       "    </tr>\n",
       "    <tr>\n",
       "      <th>2006</th>\n",
       "      <td>5.103344</td>\n",
       "      <td>4.857237</td>\n",
       "      <td>4.164715</td>\n",
       "      <td>5.288770</td>\n",
       "      <td>1</td>\n",
       "    </tr>\n",
       "    <tr>\n",
       "      <th>2007</th>\n",
       "      <td>5.485759</td>\n",
       "      <td>4.998180</td>\n",
       "      <td>4.260211</td>\n",
       "      <td>5.058880</td>\n",
       "      <td>1</td>\n",
       "    </tr>\n",
       "    <tr>\n",
       "      <th>2008</th>\n",
       "      <td>5.214383</td>\n",
       "      <td>4.913732</td>\n",
       "      <td>4.279562</td>\n",
       "      <td>5.780847</td>\n",
       "      <td>1</td>\n",
       "    </tr>\n",
       "  </tbody>\n",
       "</table>\n",
       "<p>2009 rows × 5 columns</p>\n",
       "</div>"
      ],
      "text/plain": [
       "            a1        a2        a3        a4  failure\n",
       "0     5.550695  3.915708  2.954724  3.101977        0\n",
       "1     6.204721  3.743655  3.266856  3.577366        0\n",
       "2     5.112671  4.248774  3.006690  2.940574        0\n",
       "3     5.795922  4.159701  3.154457  3.352785        0\n",
       "4     6.106459  4.168643  3.314856  3.712539        0\n",
       "...        ...       ...       ...       ...      ...\n",
       "2004  5.269118  5.057932  4.166866  5.026991        1\n",
       "2005  4.597010  4.576745  3.743260  4.538569        1\n",
       "2006  5.103344  4.857237  4.164715  5.288770        1\n",
       "2007  5.485759  4.998180  4.260211  5.058880        1\n",
       "2008  5.214383  4.913732  4.279562  5.780847        1\n",
       "\n",
       "[2009 rows x 5 columns]"
      ]
     },
     "metadata": {},
     "output_type": "display_data"
    }
   ],
   "source": [
    "display(dataset_process)"
   ]
  },
  {
   "cell_type": "code",
   "execution_count": 4,
   "id": "efd7b4ec",
   "metadata": {},
   "outputs": [],
   "source": [
    "from sklearn import decomposition\n",
    "pca = decomposition.PCA(n_components=3)\n",
    "XPCA = pca.fit_transform(X)\n"
   ]
  },
  {
   "cell_type": "code",
   "execution_count": 5,
   "id": "b286d4bc",
   "metadata": {},
   "outputs": [
    {
     "name": "stdout",
     "output_type": "stream",
     "text": [
      "[0.8428347  0.13833328]\n"
     ]
    }
   ],
   "source": [
    "from sklearn.decomposition import PCA\n",
    "pca_viewer = PCA(n_components=2)\n",
    "principal_components = pca_viewer.fit_transform(XPCA)\n",
    "\n",
    "# Percentage of variance explained for each components\n",
    "print(pca_viewer.explained_variance_ratio_)"
   ]
  },
  {
   "cell_type": "code",
   "execution_count": 6,
   "id": "0c3b3b9a",
   "metadata": {},
   "outputs": [
    {
     "data": {
      "text/html": [
       "<div>\n",
       "<style scoped>\n",
       "    .dataframe tbody tr th:only-of-type {\n",
       "        vertical-align: middle;\n",
       "    }\n",
       "\n",
       "    .dataframe tbody tr th {\n",
       "        vertical-align: top;\n",
       "    }\n",
       "\n",
       "    .dataframe thead th {\n",
       "        text-align: right;\n",
       "    }\n",
       "</style>\n",
       "<table border=\"1\" class=\"dataframe\">\n",
       "  <thead>\n",
       "    <tr style=\"text-align: right;\">\n",
       "      <th></th>\n",
       "      <th>principal component 1</th>\n",
       "      <th>principal component 2</th>\n",
       "    </tr>\n",
       "  </thead>\n",
       "  <tbody>\n",
       "    <tr>\n",
       "      <th>0</th>\n",
       "      <td>-1.040307</td>\n",
       "      <td>-1.365580</td>\n",
       "    </tr>\n",
       "    <tr>\n",
       "      <th>1</th>\n",
       "      <td>-0.245312</td>\n",
       "      <td>-1.203647</td>\n",
       "    </tr>\n",
       "    <tr>\n",
       "      <th>2</th>\n",
       "      <td>-1.433976</td>\n",
       "      <td>-1.178570</td>\n",
       "    </tr>\n",
       "    <tr>\n",
       "      <th>3</th>\n",
       "      <td>-0.661566</td>\n",
       "      <td>-1.112824</td>\n",
       "    </tr>\n",
       "    <tr>\n",
       "      <th>4</th>\n",
       "      <td>-0.229793</td>\n",
       "      <td>-0.899308</td>\n",
       "    </tr>\n",
       "    <tr>\n",
       "      <th>...</th>\n",
       "      <td>...</td>\n",
       "      <td>...</td>\n",
       "    </tr>\n",
       "    <tr>\n",
       "      <th>2004</th>\n",
       "      <td>-0.280103</td>\n",
       "      <td>1.065320</td>\n",
       "    </tr>\n",
       "    <tr>\n",
       "      <th>2005</th>\n",
       "      <td>-1.204678</td>\n",
       "      <td>0.635181</td>\n",
       "    </tr>\n",
       "    <tr>\n",
       "      <th>2006</th>\n",
       "      <td>-0.379011</td>\n",
       "      <td>1.260117</td>\n",
       "    </tr>\n",
       "    <tr>\n",
       "      <th>2007</th>\n",
       "      <td>-0.057049</td>\n",
       "      <td>1.019355</td>\n",
       "    </tr>\n",
       "    <tr>\n",
       "      <th>2008</th>\n",
       "      <td>-0.095334</td>\n",
       "      <td>1.651329</td>\n",
       "    </tr>\n",
       "  </tbody>\n",
       "</table>\n",
       "<p>2009 rows × 2 columns</p>\n",
       "</div>"
      ],
      "text/plain": [
       "      principal component 1  principal component 2\n",
       "0                 -1.040307              -1.365580\n",
       "1                 -0.245312              -1.203647\n",
       "2                 -1.433976              -1.178570\n",
       "3                 -0.661566              -1.112824\n",
       "4                 -0.229793              -0.899308\n",
       "...                     ...                    ...\n",
       "2004              -0.280103               1.065320\n",
       "2005              -1.204678               0.635181\n",
       "2006              -0.379011               1.260117\n",
       "2007              -0.057049               1.019355\n",
       "2008              -0.095334               1.651329\n",
       "\n",
       "[2009 rows x 2 columns]"
      ]
     },
     "metadata": {},
     "output_type": "display_data"
    }
   ],
   "source": [
    "principal_components_df = pd.DataFrame(data = principal_components, \n",
    "                                       columns = ['principal component 1', 'principal component 2'])\n",
    "\n",
    "display (principal_components_df)"
   ]
  },
  {
   "cell_type": "code",
   "execution_count": 7,
   "id": "eb300e0c",
   "metadata": {},
   "outputs": [
    {
     "data": {
      "image/png": "[encoded data removed]",
      "text/plain": [
       "<Figure size 576x432 with 1 Axes>"
      ]
     },
     "metadata": {
      "needs_background": "light"
     },
     "output_type": "display_data"
    }
   ],
   "source": [
    "import matplotlib.pyplot as plt\n",
    "plt.figure(figsize=(8,6))\n",
    "plt.scatter(XPCA[:,0],XPCA[:,1])\n",
    "plt.xlabel('First principle component')\n",
    "plt.ylabel('Second principle component')\n",
    "plt.grid()"
   ]
  },
  {
   "cell_type": "code",
   "execution_count": 8,
   "id": "456eb2ed",
   "metadata": {},
   "outputs": [],
   "source": [
    "principal_components_df.to_excel(\"PCA_4_acelerações.xlsx\")"
   ]
  },
  {
   "cell_type": "code",
   "execution_count": 9,
   "id": "75716417",
   "metadata": {},
   "outputs": [
    {
     "data": {
      "text/plain": [
       "4.663175281691265"
      ]
     },
     "execution_count": 9,
     "metadata": {},
     "output_type": "execute_result"
    }
   ],
   "source": [
    "import seaborn as sns\n",
    "X.mean()"
   ]
  },
  {
   "cell_type": "code",
   "execution_count": 10,
   "id": "ed4a846f",
   "metadata": {},
   "outputs": [
    {
     "data": {
      "text/plain": [
       "1.2307211938759712"
      ]
     },
     "execution_count": 10,
     "metadata": {},
     "output_type": "execute_result"
    }
   ],
   "source": [
    "X.std()"
   ]
  },
  {
   "cell_type": "code",
   "execution_count": 11,
   "id": "393b5562",
   "metadata": {},
   "outputs": [
    {
     "data": {
      "text/plain": [
       "-3.6782700109034555e-16"
      ]
     },
     "execution_count": 11,
     "metadata": {},
     "output_type": "execute_result"
    }
   ],
   "source": [
    "z = (X-X.mean())/X.std()\n",
    "z.mean()"
   ]
  },
  {
   "cell_type": "code",
   "execution_count": 12,
   "id": "8793ae16",
   "metadata": {},
   "outputs": [
    {
     "data": {
      "text/plain": [
       "0.9999999999999999"
      ]
     },
     "execution_count": 12,
     "metadata": {},
     "output_type": "execute_result"
    }
   ],
   "source": [
    "z.std()"
   ]
  },
  {
   "cell_type": "code",
   "execution_count": 13,
   "id": "948b1d9e",
   "metadata": {},
   "outputs": [],
   "source": [
    "from sklearn import decomposition\n",
    "pca = decomposition.PCA(n_components=3)\n",
    "ZPCA = pca.fit_transform(z)"
   ]
  },
  {
   "cell_type": "code",
   "execution_count": 14,
   "id": "912ec11c",
   "metadata": {},
   "outputs": [
    {
     "name": "stdout",
     "output_type": "stream",
     "text": [
      "[0.8428347  0.13833328]\n"
     ]
    }
   ],
   "source": [
    "from sklearn.decomposition import PCA\n",
    "pca_viewer = PCA(n_components=2)\n",
    "principal_components = pca_viewer.fit_transform(ZPCA)\n",
    "\n",
    "# Percentage of variance explained for each components\n",
    "print(pca_viewer.explained_variance_ratio_)"
   ]
  },
  {
   "cell_type": "code",
   "execution_count": 15,
   "id": "aafa87e0",
   "metadata": {},
   "outputs": [
    {
     "data": {
      "text/html": [
       "<div>\n",
       "<style scoped>\n",
       "    .dataframe tbody tr th:only-of-type {\n",
       "        vertical-align: middle;\n",
       "    }\n",
       "\n",
       "    .dataframe tbody tr th {\n",
       "        vertical-align: top;\n",
       "    }\n",
       "\n",
       "    .dataframe thead th {\n",
       "        text-align: right;\n",
       "    }\n",
       "</style>\n",
       "<table border=\"1\" class=\"dataframe\">\n",
       "  <thead>\n",
       "    <tr style=\"text-align: right;\">\n",
       "      <th></th>\n",
       "      <th>principal component 1</th>\n",
       "      <th>principal component 2</th>\n",
       "    </tr>\n",
       "  </thead>\n",
       "  <tbody>\n",
       "    <tr>\n",
       "      <th>0</th>\n",
       "      <td>-0.845282</td>\n",
       "      <td>-1.109577</td>\n",
       "    </tr>\n",
       "    <tr>\n",
       "      <th>1</th>\n",
       "      <td>-0.199324</td>\n",
       "      <td>-0.978002</td>\n",
       "    </tr>\n",
       "    <tr>\n",
       "      <th>2</th>\n",
       "      <td>-1.165151</td>\n",
       "      <td>-0.957625</td>\n",
       "    </tr>\n",
       "    <tr>\n",
       "      <th>3</th>\n",
       "      <td>-0.537543</td>\n",
       "      <td>-0.904205</td>\n",
       "    </tr>\n",
       "    <tr>\n",
       "      <th>4</th>\n",
       "      <td>-0.186714</td>\n",
       "      <td>-0.730716</td>\n",
       "    </tr>\n",
       "    <tr>\n",
       "      <th>...</th>\n",
       "      <td>...</td>\n",
       "      <td>...</td>\n",
       "    </tr>\n",
       "    <tr>\n",
       "      <th>2004</th>\n",
       "      <td>-0.227593</td>\n",
       "      <td>0.865606</td>\n",
       "    </tr>\n",
       "    <tr>\n",
       "      <th>2005</th>\n",
       "      <td>-0.978839</td>\n",
       "      <td>0.516105</td>\n",
       "    </tr>\n",
       "    <tr>\n",
       "      <th>2006</th>\n",
       "      <td>-0.307958</td>\n",
       "      <td>1.023885</td>\n",
       "    </tr>\n",
       "    <tr>\n",
       "      <th>2007</th>\n",
       "      <td>-0.046354</td>\n",
       "      <td>0.828258</td>\n",
       "    </tr>\n",
       "    <tr>\n",
       "      <th>2008</th>\n",
       "      <td>-0.077462</td>\n",
       "      <td>1.341757</td>\n",
       "    </tr>\n",
       "  </tbody>\n",
       "</table>\n",
       "<p>2009 rows × 2 columns</p>\n",
       "</div>"
      ],
      "text/plain": [
       "      principal component 1  principal component 2\n",
       "0                 -0.845282              -1.109577\n",
       "1                 -0.199324              -0.978002\n",
       "2                 -1.165151              -0.957625\n",
       "3                 -0.537543              -0.904205\n",
       "4                 -0.186714              -0.730716\n",
       "...                     ...                    ...\n",
       "2004              -0.227593               0.865606\n",
       "2005              -0.978839               0.516105\n",
       "2006              -0.307958               1.023885\n",
       "2007              -0.046354               0.828258\n",
       "2008              -0.077462               1.341757\n",
       "\n",
       "[2009 rows x 2 columns]"
      ]
     },
     "metadata": {},
     "output_type": "display_data"
    }
   ],
   "source": [
    "principal_components_df = pd.DataFrame(data = principal_components, \n",
    "                                       columns = ['principal component 1', 'principal component 2'])\n",
    "\n",
    "display (principal_components_df)"
   ]
  },
  {
   "cell_type": "code",
   "execution_count": 16,
   "id": "0d30ce40",
   "metadata": {},
   "outputs": [
    {
     "data": {
      "image/png": "[encoded data removed]",
      "text/plain": [
       "<Figure size 576x432 with 1 Axes>"
      ]
     },
     "metadata": {
      "needs_background": "light"
     },
     "output_type": "display_data"
    }
   ],
   "source": [
    "import matplotlib.pyplot as plt\n",
    "plt.figure(figsize=(8,6))\n",
    "plt.scatter(ZPCA[:,0],ZPCA[:,1])\n",
    "plt.xlabel('First principle component')\n",
    "plt.ylabel('Second principle component')\n",
    "plt.grid()"
   ]
  },
  {
   "cell_type": "code",
   "execution_count": null,
   "id": "c77cf316",
   "metadata": {},
   "outputs": [],
   "source": []
  }
 ],
 "metadata": {
  "kernelspec": {
   "display_name": "Python 3 (ipykernel)",
   "language": "python",
   "name": "python3"
  },
  "language_info": {
   "codemirror_mode": {
    "name": "ipython",
    "version": 3
   },
   "file_extension": ".py",
   "mimetype": "text/x-python",
   "name": "python",
   "nbconvert_exporter": "python",
   "pygments_lexer": "ipython3",
   "version": "3.9.7"
  }
 },
 "nbformat": 4,
 "nbformat_minor": 5
}
