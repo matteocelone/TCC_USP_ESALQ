{
 "cells": [
  {
   "cell_type": "code",
   "execution_count": 40,
   "id": "e5935263",
   "metadata": {},
   "outputs": [
    {
     "data": {
      "text/plain": [
       "5"
      ]
     },
     "execution_count": 40,
     "metadata": {},
     "output_type": "execute_result"
    }
   ],
   "source": [
    "import pandas as pd\n",
    "import numpy as np\n",
    "import time\n",
    "\n",
    "dataset_process = pd.read_csv(\"PCA_banco_2.csv\", delimiter=';')\n",
    "\n",
    "X = dataset_process.loc[: , dataset_process.columns != 'Risk'].values\n",
    "\n",
    "#XPCA = X.loc[: , dataset_process.columns != 'model'].values\n",
    "y = dataset_process[\"Risk\"].values\n",
    "\n",
    "len(dataset_process.columns)"
   ]
  },
  {
   "cell_type": "code",
   "execution_count": 41,
   "id": "e664d443",
   "metadata": {},
   "outputs": [
    {
     "data": {
      "text/html": [
       "<div>\n",
       "<style scoped>\n",
       "    .dataframe tbody tr th:only-of-type {\n",
       "        vertical-align: middle;\n",
       "    }\n",
       "\n",
       "    .dataframe tbody tr th {\n",
       "        vertical-align: top;\n",
       "    }\n",
       "\n",
       "    .dataframe thead th {\n",
       "        text-align: right;\n",
       "    }\n",
       "</style>\n",
       "<table border=\"1\" class=\"dataframe\">\n",
       "  <thead>\n",
       "    <tr style=\"text-align: right;\">\n",
       "      <th></th>\n",
       "      <th>principal component 1</th>\n",
       "      <th>principal component 2</th>\n",
       "      <th>model</th>\n",
       "      <th>age</th>\n",
       "      <th>Risk</th>\n",
       "    </tr>\n",
       "  </thead>\n",
       "  <tbody>\n",
       "    <tr>\n",
       "      <th>0</th>\n",
       "      <td>-11.001838</td>\n",
       "      <td>-10.138161</td>\n",
       "      <td>model3</td>\n",
       "      <td>18</td>\n",
       "      <td>low</td>\n",
       "    </tr>\n",
       "    <tr>\n",
       "      <th>1</th>\n",
       "      <td>3.576911</td>\n",
       "      <td>-10.193448</td>\n",
       "      <td>model3</td>\n",
       "      <td>18</td>\n",
       "      <td>low</td>\n",
       "    </tr>\n",
       "    <tr>\n",
       "      <th>2</th>\n",
       "      <td>-11.538517</td>\n",
       "      <td>-1.409215</td>\n",
       "      <td>model3</td>\n",
       "      <td>18</td>\n",
       "      <td>low</td>\n",
       "    </tr>\n",
       "    <tr>\n",
       "      <th>3</th>\n",
       "      <td>13.332087</td>\n",
       "      <td>-8.439301</td>\n",
       "      <td>model3</td>\n",
       "      <td>18</td>\n",
       "      <td>low</td>\n",
       "    </tr>\n",
       "    <tr>\n",
       "      <th>4</th>\n",
       "      <td>6.450094</td>\n",
       "      <td>-2.742246</td>\n",
       "      <td>model3</td>\n",
       "      <td>18</td>\n",
       "      <td>low</td>\n",
       "    </tr>\n",
       "    <tr>\n",
       "      <th>...</th>\n",
       "      <td>...</td>\n",
       "      <td>...</td>\n",
       "      <td>...</td>\n",
       "      <td>...</td>\n",
       "      <td>...</td>\n",
       "    </tr>\n",
       "    <tr>\n",
       "      <th>7184</th>\n",
       "      <td>10.079966</td>\n",
       "      <td>-5.402769</td>\n",
       "      <td>model4</td>\n",
       "      <td>5</td>\n",
       "      <td>high</td>\n",
       "    </tr>\n",
       "    <tr>\n",
       "      <th>7185</th>\n",
       "      <td>-9.780569</td>\n",
       "      <td>1.209335</td>\n",
       "      <td>model4</td>\n",
       "      <td>5</td>\n",
       "      <td>high</td>\n",
       "    </tr>\n",
       "    <tr>\n",
       "      <th>7186</th>\n",
       "      <td>-14.652508</td>\n",
       "      <td>4.054376</td>\n",
       "      <td>model4</td>\n",
       "      <td>5</td>\n",
       "      <td>high</td>\n",
       "    </tr>\n",
       "    <tr>\n",
       "      <th>7187</th>\n",
       "      <td>-12.716552</td>\n",
       "      <td>1.436108</td>\n",
       "      <td>model4</td>\n",
       "      <td>5</td>\n",
       "      <td>high</td>\n",
       "    </tr>\n",
       "    <tr>\n",
       "      <th>7188</th>\n",
       "      <td>1.153254</td>\n",
       "      <td>-4.989378</td>\n",
       "      <td>model4</td>\n",
       "      <td>5</td>\n",
       "      <td>high</td>\n",
       "    </tr>\n",
       "  </tbody>\n",
       "</table>\n",
       "<p>7189 rows × 5 columns</p>\n",
       "</div>"
      ],
      "text/plain": [
       "      principal component 1  principal component 2   model  age  Risk\n",
       "0                -11.001838             -10.138161  model3   18   low\n",
       "1                  3.576911             -10.193448  model3   18   low\n",
       "2                -11.538517              -1.409215  model3   18   low\n",
       "3                 13.332087              -8.439301  model3   18   low\n",
       "4                  6.450094              -2.742246  model3   18   low\n",
       "...                     ...                    ...     ...  ...   ...\n",
       "7184              10.079966              -5.402769  model4    5  high\n",
       "7185              -9.780569               1.209335  model4    5  high\n",
       "7186             -14.652508               4.054376  model4    5  high\n",
       "7187             -12.716552               1.436108  model4    5  high\n",
       "7188               1.153254              -4.989378  model4    5  high\n",
       "\n",
       "[7189 rows x 5 columns]"
      ]
     },
     "metadata": {},
     "output_type": "display_data"
    }
   ],
   "source": [
    "display(dataset_process)"
   ]
  },
  {
   "cell_type": "code",
   "execution_count": 42,
   "id": "f6b2361e",
   "metadata": {},
   "outputs": [],
   "source": [
    "dataset_process.drop(\"model\",axis=1,inplace=True)\n",
    "dataset_process.head\n",
    "X = dataset_process.loc[: , dataset_process.columns != 'Risk'].values"
   ]
  },
  {
   "cell_type": "code",
   "execution_count": 43,
   "id": "09194412",
   "metadata": {},
   "outputs": [],
   "source": [
    "from sklearn.model_selection import train_test_split"
   ]
  },
  {
   "cell_type": "code",
   "execution_count": 58,
   "id": "50c2b8d8",
   "metadata": {},
   "outputs": [],
   "source": [
    "#X_train, X_test, y_train, y_test = train_test_split(X, y, test_size=0.2, random_state=1)\n",
    "X_train = X [:5545]\n",
    "X_test = X [5545:]\n",
    "y_train = y [:5545]\n",
    "y_test = y [5545:]"
   ]
  },
  {
   "cell_type": "code",
   "execution_count": 59,
   "id": "d5adb9bf",
   "metadata": {},
   "outputs": [
    {
     "data": {
      "text/plain": [
       "5545"
      ]
     },
     "execution_count": 59,
     "metadata": {},
     "output_type": "execute_result"
    }
   ],
   "source": [
    "len(X_train)"
   ]
  },
  {
   "cell_type": "code",
   "execution_count": 60,
   "id": "61e3b277",
   "metadata": {},
   "outputs": [
    {
     "data": {
      "text/plain": [
       "1644"
      ]
     },
     "execution_count": 60,
     "metadata": {},
     "output_type": "execute_result"
    }
   ],
   "source": [
    "len(X_test)"
   ]
  },
  {
   "cell_type": "code",
   "execution_count": 61,
   "id": "f5936d78",
   "metadata": {},
   "outputs": [],
   "source": [
    "from sklearn.neighbors import KNeighborsClassifier\n",
    "knn = KNeighborsClassifier(n_neighbors=5)"
   ]
  },
  {
   "cell_type": "code",
   "execution_count": 62,
   "id": "878c6260",
   "metadata": {},
   "outputs": [
    {
     "data": {
      "text/plain": [
       "KNeighborsClassifier()"
      ]
     },
     "execution_count": 62,
     "metadata": {},
     "output_type": "execute_result"
    }
   ],
   "source": [
    "knn.fit(X_train, y_train)"
   ]
  },
  {
   "cell_type": "code",
   "execution_count": 63,
   "id": "6f0d2f98",
   "metadata": {},
   "outputs": [
    {
     "data": {
      "text/plain": [
       "0.4276155717761557"
      ]
     },
     "execution_count": 63,
     "metadata": {},
     "output_type": "execute_result"
    }
   ],
   "source": [
    "knn.score(X_test, y_test)"
   ]
  },
  {
   "cell_type": "code",
   "execution_count": 64,
   "id": "8cda9139",
   "metadata": {},
   "outputs": [
    {
     "data": {
      "text/plain": [
       "array([[161,  83, 188],\n",
       "       [ 98, 100, 192],\n",
       "       [205, 175, 442]], dtype=int64)"
      ]
     },
     "execution_count": 64,
     "metadata": {},
     "output_type": "execute_result"
    }
   ],
   "source": [
    "from sklearn.metrics import confusion_matrix\n",
    "y_pred = knn.predict(X_test)\n",
    "cm = confusion_matrix(y_test, y_pred)\n",
    "cm"
   ]
  },
  {
   "cell_type": "code",
   "execution_count": 65,
   "id": "5179362d",
   "metadata": {},
   "outputs": [
    {
     "data": {
      "text/plain": [
       "Text(60.0, 0.5, 'Truth')"
      ]
     },
     "execution_count": 65,
     "metadata": {},
     "output_type": "execute_result"
    },
    {
     "data": {
      "image/png": "[encoded data removed]",
      "text/plain": [
       "<Figure size 648x504 with 2 Axes>"
      ]
     },
     "metadata": {
      "needs_background": "light"
     },
     "output_type": "display_data"
    }
   ],
   "source": [
    "%matplotlib inline\n",
    "import matplotlib.pyplot as plt\n",
    "import seaborn as sn\n",
    "plt.figure(figsize=(9,7))\n",
    "sn.heatmap(cm, annot=True)\n",
    "plt.xlabel('Predicted')\n",
    "plt.ylabel('Truth')"
   ]
  },
  {
   "cell_type": "code",
   "execution_count": 53,
   "id": "6aeac183",
   "metadata": {},
   "outputs": [
    {
     "name": "stdout",
     "output_type": "stream",
     "text": [
      "              precision    recall  f1-score   support\n",
      "\n",
      "        high       0.33      0.40      0.36       373\n",
      "intermediate       0.28      0.23      0.25       341\n",
      "         low       0.55      0.54      0.54       724\n",
      "\n",
      "    accuracy                           0.43      1438\n",
      "   macro avg       0.39      0.39      0.39      1438\n",
      "weighted avg       0.43      0.43      0.43      1438\n",
      "\n"
     ]
    }
   ],
   "source": [
    "from sklearn.metrics import classification_report\n",
    "\n",
    "print(classification_report(y_test, y_pred))"
   ]
  },
  {
   "cell_type": "code",
   "execution_count": 57,
   "id": "dc5f87e0",
   "metadata": {},
   "outputs": [
    {
     "data": {
      "image/png": "[encoded data removed]",
      "text/plain": [
       "<Figure size 576x432 with 1 Axes>"
      ]
     },
     "metadata": {
      "needs_background": "light"
     },
     "output_type": "display_data"
    }
   ],
   "source": [
    "import matplotlib.pyplot as plt\n",
    "plt.figure(figsize=(8,6))\n",
    "plt.scatter(dataset_process['principal component 1'],dataset_process['Risk'])\n",
    "#plt.scatter(df0['principal component 1'], df0['Label'],color=\"green\",marker='+')\n",
    "#plt.scatter(df1['principal component 1'], df1['Label'],color=\"blue\",marker='.')\n",
    "plt.ylabel('Label')\n",
    "plt.xlabel('principle component 1')\n",
    "plt.grid()"
   ]
  },
  {
   "cell_type": "code",
   "execution_count": 82,
   "id": "b8f0b537",
   "metadata": {},
   "outputs": [
    {
     "data": {
      "text/plain": [
       "5"
      ]
     },
     "execution_count": 82,
     "metadata": {},
     "output_type": "execute_result"
    }
   ],
   "source": [
    "import pandas as pd\n",
    "import numpy as np\n",
    "import time\n",
    "\n",
    "dataset_process = pd.read_csv(\"PCA_banco_2_model.csv\", delimiter=';')\n",
    "\n",
    "X = dataset_process.loc[: , dataset_process.columns != 'Risk'].values\n",
    "\n",
    "#XPCA = X.loc[: , dataset_process.columns != 'model'].values\n",
    "y = dataset_process[\"Risk\"].values\n",
    "\n",
    "len(dataset_process.columns)"
   ]
  },
  {
   "cell_type": "code",
   "execution_count": 83,
   "id": "f0992950",
   "metadata": {},
   "outputs": [
    {
     "data": {
      "text/html": [
       "<div>\n",
       "<style scoped>\n",
       "    .dataframe tbody tr th:only-of-type {\n",
       "        vertical-align: middle;\n",
       "    }\n",
       "\n",
       "    .dataframe tbody tr th {\n",
       "        vertical-align: top;\n",
       "    }\n",
       "\n",
       "    .dataframe thead th {\n",
       "        text-align: right;\n",
       "    }\n",
       "</style>\n",
       "<table border=\"1\" class=\"dataframe\">\n",
       "  <thead>\n",
       "    <tr style=\"text-align: right;\">\n",
       "      <th></th>\n",
       "      <th>principal component 1</th>\n",
       "      <th>principal component 2</th>\n",
       "      <th>age</th>\n",
       "      <th>Risk</th>\n",
       "      <th>model</th>\n",
       "    </tr>\n",
       "  </thead>\n",
       "  <tbody>\n",
       "    <tr>\n",
       "      <th>0</th>\n",
       "      <td>-11.001838</td>\n",
       "      <td>-10.138161</td>\n",
       "      <td>18</td>\n",
       "      <td>low</td>\n",
       "      <td>3</td>\n",
       "    </tr>\n",
       "    <tr>\n",
       "      <th>1</th>\n",
       "      <td>3.576911</td>\n",
       "      <td>-10.193448</td>\n",
       "      <td>18</td>\n",
       "      <td>low</td>\n",
       "      <td>3</td>\n",
       "    </tr>\n",
       "    <tr>\n",
       "      <th>2</th>\n",
       "      <td>-11.538517</td>\n",
       "      <td>-1.409215</td>\n",
       "      <td>18</td>\n",
       "      <td>low</td>\n",
       "      <td>3</td>\n",
       "    </tr>\n",
       "    <tr>\n",
       "      <th>3</th>\n",
       "      <td>13.332087</td>\n",
       "      <td>-8.439301</td>\n",
       "      <td>18</td>\n",
       "      <td>low</td>\n",
       "      <td>3</td>\n",
       "    </tr>\n",
       "    <tr>\n",
       "      <th>4</th>\n",
       "      <td>6.450094</td>\n",
       "      <td>-2.742246</td>\n",
       "      <td>18</td>\n",
       "      <td>low</td>\n",
       "      <td>3</td>\n",
       "    </tr>\n",
       "    <tr>\n",
       "      <th>...</th>\n",
       "      <td>...</td>\n",
       "      <td>...</td>\n",
       "      <td>...</td>\n",
       "      <td>...</td>\n",
       "      <td>...</td>\n",
       "    </tr>\n",
       "    <tr>\n",
       "      <th>7184</th>\n",
       "      <td>10.079966</td>\n",
       "      <td>-5.402769</td>\n",
       "      <td>5</td>\n",
       "      <td>high</td>\n",
       "      <td>4</td>\n",
       "    </tr>\n",
       "    <tr>\n",
       "      <th>7185</th>\n",
       "      <td>-9.780569</td>\n",
       "      <td>1.209335</td>\n",
       "      <td>5</td>\n",
       "      <td>high</td>\n",
       "      <td>4</td>\n",
       "    </tr>\n",
       "    <tr>\n",
       "      <th>7186</th>\n",
       "      <td>-14.652508</td>\n",
       "      <td>4.054376</td>\n",
       "      <td>5</td>\n",
       "      <td>high</td>\n",
       "      <td>4</td>\n",
       "    </tr>\n",
       "    <tr>\n",
       "      <th>7187</th>\n",
       "      <td>-12.716552</td>\n",
       "      <td>1.436108</td>\n",
       "      <td>5</td>\n",
       "      <td>high</td>\n",
       "      <td>4</td>\n",
       "    </tr>\n",
       "    <tr>\n",
       "      <th>7188</th>\n",
       "      <td>1.153254</td>\n",
       "      <td>-4.989378</td>\n",
       "      <td>5</td>\n",
       "      <td>high</td>\n",
       "      <td>4</td>\n",
       "    </tr>\n",
       "  </tbody>\n",
       "</table>\n",
       "<p>7189 rows × 5 columns</p>\n",
       "</div>"
      ],
      "text/plain": [
       "      principal component 1  principal component 2  age  Risk  model\n",
       "0                -11.001838             -10.138161   18   low      3\n",
       "1                  3.576911             -10.193448   18   low      3\n",
       "2                -11.538517              -1.409215   18   low      3\n",
       "3                 13.332087              -8.439301   18   low      3\n",
       "4                  6.450094              -2.742246   18   low      3\n",
       "...                     ...                    ...  ...   ...    ...\n",
       "7184              10.079966              -5.402769    5  high      4\n",
       "7185              -9.780569               1.209335    5  high      4\n",
       "7186             -14.652508               4.054376    5  high      4\n",
       "7187             -12.716552               1.436108    5  high      4\n",
       "7188               1.153254              -4.989378    5  high      4\n",
       "\n",
       "[7189 rows x 5 columns]"
      ]
     },
     "metadata": {},
     "output_type": "display_data"
    }
   ],
   "source": [
    "display(dataset_process)"
   ]
  },
  {
   "cell_type": "code",
   "execution_count": 84,
   "id": "4597c9f0",
   "metadata": {},
   "outputs": [],
   "source": [
    "from sklearn.model_selection import train_test_split"
   ]
  },
  {
   "cell_type": "code",
   "execution_count": 85,
   "id": "ae8b4f22",
   "metadata": {},
   "outputs": [],
   "source": [
    "X_train = X [:5545]\n",
    "X_test = X [5545:]\n",
    "y_train = y [:5545]\n",
    "y_test = y [5545:]"
   ]
  },
  {
   "cell_type": "code",
   "execution_count": 86,
   "id": "8a7ea6eb",
   "metadata": {},
   "outputs": [
    {
     "data": {
      "text/plain": [
       "KNeighborsClassifier()"
      ]
     },
     "execution_count": 86,
     "metadata": {},
     "output_type": "execute_result"
    }
   ],
   "source": [
    "knn.fit(X_train, y_train)"
   ]
  },
  {
   "cell_type": "code",
   "execution_count": 87,
   "id": "416fff8c",
   "metadata": {},
   "outputs": [
    {
     "data": {
      "text/plain": [
       "0.9251824817518248"
      ]
     },
     "execution_count": 87,
     "metadata": {},
     "output_type": "execute_result"
    }
   ],
   "source": [
    "knn.score(X_test, y_test)"
   ]
  },
  {
   "cell_type": "code",
   "execution_count": 88,
   "id": "b8b03d81",
   "metadata": {},
   "outputs": [
    {
     "data": {
      "text/plain": [
       "array([[  25,  110],\n",
       "       [  13, 1496]], dtype=int64)"
      ]
     },
     "execution_count": 88,
     "metadata": {},
     "output_type": "execute_result"
    }
   ],
   "source": [
    "from sklearn.metrics import confusion_matrix\n",
    "y_pred = knn.predict(X_test)\n",
    "cm = confusion_matrix(y_test, y_pred)\n",
    "cm"
   ]
  },
  {
   "cell_type": "code",
   "execution_count": 89,
   "id": "8bd665dc",
   "metadata": {},
   "outputs": [
    {
     "data": {
      "text/plain": [
       "Text(60.0, 0.5, 'Truth')"
      ]
     },
     "execution_count": 89,
     "metadata": {},
     "output_type": "execute_result"
    },
    {
     "data": {
      "image/png": "[encoded data removed]",
      "text/plain": [
       "<Figure size 648x504 with 2 Axes>"
      ]
     },
     "metadata": {
      "needs_background": "light"
     },
     "output_type": "display_data"
    }
   ],
   "source": [
    "%matplotlib inline\n",
    "import matplotlib.pyplot as plt\n",
    "import seaborn as sn\n",
    "plt.figure(figsize=(9,7))\n",
    "sn.heatmap(cm, annot=True)\n",
    "plt.xlabel('Predicted')\n",
    "plt.ylabel('Truth')"
   ]
  },
  {
   "cell_type": "code",
   "execution_count": 90,
   "id": "5a80913f",
   "metadata": {},
   "outputs": [
    {
     "name": "stdout",
     "output_type": "stream",
     "text": [
      "              precision    recall  f1-score   support\n",
      "\n",
      "        high       0.66      0.19      0.29       135\n",
      "         low       0.93      0.99      0.96      1509\n",
      "\n",
      "    accuracy                           0.93      1644\n",
      "   macro avg       0.79      0.59      0.62      1644\n",
      "weighted avg       0.91      0.93      0.91      1644\n",
      "\n"
     ]
    }
   ],
   "source": [
    "from sklearn.metrics import classification_report\n",
    "\n",
    "print(classification_report(y_test, y_pred))"
   ]
  },
  {
   "cell_type": "code",
   "execution_count": 91,
   "id": "dde7ace5",
   "metadata": {},
   "outputs": [
    {
     "data": {
      "image/png": "[encoded data removed]",
      "text/plain": [
       "<Figure size 576x432 with 1 Axes>"
      ]
     },
     "metadata": {
      "needs_background": "light"
     },
     "output_type": "display_data"
    }
   ],
   "source": [
    "import matplotlib.pyplot as plt\n",
    "plt.figure(figsize=(8,6))\n",
    "plt.scatter(dataset_process['principal component 1'],dataset_process['Risk'])\n",
    "#plt.scatter(df0['principal component 1'], df0['Label'],color=\"green\",marker='+')\n",
    "#plt.scatter(df1['principal component 1'], df1['Label'],color=\"blue\",marker='.')\n",
    "plt.ylabel('Label')\n",
    "plt.xlabel('principle component 1')\n",
    "plt.grid()"
   ]
  },
  {
   "cell_type": "code",
   "execution_count": 92,
   "id": "44071efd",
   "metadata": {},
   "outputs": [
    {
     "data": {
      "text/plain": [
       "5"
      ]
     },
     "execution_count": 92,
     "metadata": {},
     "output_type": "execute_result"
    }
   ],
   "source": [
    "import pandas as pd\n",
    "import numpy as np\n",
    "import time\n",
    "\n",
    "dataset_process = pd.read_csv(\"PCA_banco_2_normalizado.csv\", delimiter=';')\n",
    "\n",
    "X = dataset_process.loc[: , dataset_process.columns != 'Risk'].values\n",
    "\n",
    "#XPCA = X.loc[: , dataset_process.columns != 'model'].values\n",
    "y = dataset_process[\"Risk\"].values\n",
    "\n",
    "len(dataset_process.columns)"
   ]
  },
  {
   "cell_type": "code",
   "execution_count": 93,
   "id": "e4e2b5e5",
   "metadata": {},
   "outputs": [
    {
     "data": {
      "text/html": [
       "<div>\n",
       "<style scoped>\n",
       "    .dataframe tbody tr th:only-of-type {\n",
       "        vertical-align: middle;\n",
       "    }\n",
       "\n",
       "    .dataframe tbody tr th {\n",
       "        vertical-align: top;\n",
       "    }\n",
       "\n",
       "    .dataframe thead th {\n",
       "        text-align: right;\n",
       "    }\n",
       "</style>\n",
       "<table border=\"1\" class=\"dataframe\">\n",
       "  <thead>\n",
       "    <tr style=\"text-align: right;\">\n",
       "      <th></th>\n",
       "      <th>principal component 1</th>\n",
       "      <th>principal component 2</th>\n",
       "      <th>age</th>\n",
       "      <th>Risk</th>\n",
       "      <th>model</th>\n",
       "    </tr>\n",
       "  </thead>\n",
       "  <tbody>\n",
       "    <tr>\n",
       "      <th>0</th>\n",
       "      <td>1.620206</td>\n",
       "      <td>2.836273</td>\n",
       "      <td>18</td>\n",
       "      <td>low</td>\n",
       "      <td>3</td>\n",
       "    </tr>\n",
       "    <tr>\n",
       "      <th>1</th>\n",
       "      <td>0.988283</td>\n",
       "      <td>2.097243</td>\n",
       "      <td>18</td>\n",
       "      <td>low</td>\n",
       "      <td>3</td>\n",
       "    </tr>\n",
       "    <tr>\n",
       "      <th>2</th>\n",
       "      <td>0.693608</td>\n",
       "      <td>2.677868</td>\n",
       "      <td>18</td>\n",
       "      <td>low</td>\n",
       "      <td>3</td>\n",
       "    </tr>\n",
       "    <tr>\n",
       "      <th>3</th>\n",
       "      <td>-0.475364</td>\n",
       "      <td>-0.254849</td>\n",
       "      <td>18</td>\n",
       "      <td>low</td>\n",
       "      <td>3</td>\n",
       "    </tr>\n",
       "    <tr>\n",
       "      <th>4</th>\n",
       "      <td>-1.381431</td>\n",
       "      <td>-0.423865</td>\n",
       "      <td>18</td>\n",
       "      <td>low</td>\n",
       "      <td>3</td>\n",
       "    </tr>\n",
       "    <tr>\n",
       "      <th>...</th>\n",
       "      <td>...</td>\n",
       "      <td>...</td>\n",
       "      <td>...</td>\n",
       "      <td>...</td>\n",
       "      <td>...</td>\n",
       "    </tr>\n",
       "    <tr>\n",
       "      <th>7184</th>\n",
       "      <td>-1.238952</td>\n",
       "      <td>-0.761555</td>\n",
       "      <td>5</td>\n",
       "      <td>high</td>\n",
       "      <td>4</td>\n",
       "    </tr>\n",
       "    <tr>\n",
       "      <th>7185</th>\n",
       "      <td>-0.823301</td>\n",
       "      <td>0.151602</td>\n",
       "      <td>5</td>\n",
       "      <td>high</td>\n",
       "      <td>4</td>\n",
       "    </tr>\n",
       "    <tr>\n",
       "      <th>7186</th>\n",
       "      <td>0.133513</td>\n",
       "      <td>0.974139</td>\n",
       "      <td>5</td>\n",
       "      <td>high</td>\n",
       "      <td>4</td>\n",
       "    </tr>\n",
       "    <tr>\n",
       "      <th>7187</th>\n",
       "      <td>0.893660</td>\n",
       "      <td>1.467202</td>\n",
       "      <td>5</td>\n",
       "      <td>high</td>\n",
       "      <td>4</td>\n",
       "    </tr>\n",
       "    <tr>\n",
       "      <th>7188</th>\n",
       "      <td>0.902701</td>\n",
       "      <td>1.592453</td>\n",
       "      <td>5</td>\n",
       "      <td>high</td>\n",
       "      <td>4</td>\n",
       "    </tr>\n",
       "  </tbody>\n",
       "</table>\n",
       "<p>7189 rows × 5 columns</p>\n",
       "</div>"
      ],
      "text/plain": [
       "      principal component 1  principal component 2  age  Risk  model\n",
       "0                  1.620206               2.836273   18   low      3\n",
       "1                  0.988283               2.097243   18   low      3\n",
       "2                  0.693608               2.677868   18   low      3\n",
       "3                 -0.475364              -0.254849   18   low      3\n",
       "4                 -1.381431              -0.423865   18   low      3\n",
       "...                     ...                    ...  ...   ...    ...\n",
       "7184              -1.238952              -0.761555    5  high      4\n",
       "7185              -0.823301               0.151602    5  high      4\n",
       "7186               0.133513               0.974139    5  high      4\n",
       "7187               0.893660               1.467202    5  high      4\n",
       "7188               0.902701               1.592453    5  high      4\n",
       "\n",
       "[7189 rows x 5 columns]"
      ]
     },
     "metadata": {},
     "output_type": "display_data"
    }
   ],
   "source": [
    "display(dataset_process)"
   ]
  },
  {
   "cell_type": "code",
   "execution_count": 94,
   "id": "70887423",
   "metadata": {},
   "outputs": [],
   "source": [
    "from sklearn.model_selection import train_test_split"
   ]
  },
  {
   "cell_type": "code",
   "execution_count": 95,
   "id": "8f2bf828",
   "metadata": {},
   "outputs": [],
   "source": [
    "X_train = X [:5545]\n",
    "X_test = X [5545:]\n",
    "y_train = y [:5545]\n",
    "y_test = y [5545:]"
   ]
  },
  {
   "cell_type": "code",
   "execution_count": 96,
   "id": "8deeee2e",
   "metadata": {},
   "outputs": [
    {
     "data": {
      "text/plain": [
       "KNeighborsClassifier()"
      ]
     },
     "execution_count": 96,
     "metadata": {},
     "output_type": "execute_result"
    }
   ],
   "source": [
    "knn.fit(X_train, y_train)"
   ]
  },
  {
   "cell_type": "code",
   "execution_count": 97,
   "id": "1af889ee",
   "metadata": {},
   "outputs": [
    {
     "data": {
      "text/plain": [
       "0.9178832116788321"
      ]
     },
     "execution_count": 97,
     "metadata": {},
     "output_type": "execute_result"
    }
   ],
   "source": [
    "knn.score(X_test, y_test)"
   ]
  },
  {
   "cell_type": "code",
   "execution_count": 98,
   "id": "b3d55726",
   "metadata": {},
   "outputs": [
    {
     "data": {
      "text/plain": [
       "array([[  10,  125],\n",
       "       [  10, 1499]], dtype=int64)"
      ]
     },
     "execution_count": 98,
     "metadata": {},
     "output_type": "execute_result"
    }
   ],
   "source": [
    "from sklearn.metrics import confusion_matrix\n",
    "y_pred = knn.predict(X_test)\n",
    "cm = confusion_matrix(y_test, y_pred)\n",
    "cm"
   ]
  },
  {
   "cell_type": "code",
   "execution_count": 99,
   "id": "6ab14a4d",
   "metadata": {},
   "outputs": [
    {
     "data": {
      "text/plain": [
       "Text(60.0, 0.5, 'Truth')"
      ]
     },
     "execution_count": 99,
     "metadata": {},
     "output_type": "execute_result"
    },
    {
     "data": {
      "image/png": "[encoded data removed]",
      "text/plain": [
       "<Figure size 648x504 with 2 Axes>"
      ]
     },
     "metadata": {
      "needs_background": "light"
     },
     "output_type": "display_data"
    }
   ],
   "source": [
    "%matplotlib inline\n",
    "import matplotlib.pyplot as plt\n",
    "import seaborn as sn\n",
    "plt.figure(figsize=(9,7))\n",
    "sn.heatmap(cm, annot=True)\n",
    "plt.xlabel('Predicted')\n",
    "plt.ylabel('Truth')"
   ]
  },
  {
   "cell_type": "code",
   "execution_count": 100,
   "id": "26fe33f9",
   "metadata": {},
   "outputs": [
    {
     "name": "stdout",
     "output_type": "stream",
     "text": [
      "              precision    recall  f1-score   support\n",
      "\n",
      "        high       0.50      0.07      0.13       135\n",
      "         low       0.92      0.99      0.96      1509\n",
      "\n",
      "    accuracy                           0.92      1644\n",
      "   macro avg       0.71      0.53      0.54      1644\n",
      "weighted avg       0.89      0.92      0.89      1644\n",
      "\n"
     ]
    }
   ],
   "source": [
    "from sklearn.metrics import classification_report\n",
    "\n",
    "print(classification_report(y_test, y_pred))"
   ]
  },
  {
   "cell_type": "code",
   "execution_count": 102,
   "id": "7595f2ba",
   "metadata": {},
   "outputs": [
    {
     "data": {
      "image/png": "[encoded data removed]",
      "text/plain": [
       "<Figure size 576x432 with 1 Axes>"
      ]
     },
     "metadata": {
      "needs_background": "light"
     },
     "output_type": "display_data"
    }
   ],
   "source": [
    "import matplotlib.pyplot as plt\n",
    "plt.figure(figsize=(8,6))\n",
    "plt.scatter(dataset_process['principal component 2'],dataset_process['Risk'])\n",
    "#plt.scatter(df0['principal component 1'], df0['Label'],color=\"green\",marker='+')\n",
    "#plt.scatter(df1['principal component 1'], df1['Label'],color=\"blue\",marker='.')\n",
    "plt.ylabel('Label')\n",
    "plt.xlabel('principle component 2')\n",
    "plt.grid()"
   ]
  },
  {
   "cell_type": "code",
   "execution_count": null,
   "id": "22887e94",
   "metadata": {},
   "outputs": [],
   "source": []
  }
 ],
 "metadata": {
  "kernelspec": {
   "display_name": "Python 3 (ipykernel)",
   "language": "python",
   "name": "python3"
  },
  "language_info": {
   "codemirror_mode": {
    "name": "ipython",
    "version": 3
   },
   "file_extension": ".py",
   "mimetype": "text/x-python",
   "name": "python",
   "nbconvert_exporter": "python",
   "pygments_lexer": "ipython3",
   "version": "3.9.7"
  }
 },
 "nbformat": 4,
 "nbformat_minor": 5
}
