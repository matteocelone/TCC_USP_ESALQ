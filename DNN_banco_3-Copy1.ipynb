{
 "cells": [
  {
   "cell_type": "code",
   "execution_count": 3,
   "id": "cd2b9a79",
   "metadata": {},
   "outputs": [
    {
     "data": {
      "text/plain": [
       "9"
      ]
     },
     "execution_count": 3,
     "metadata": {},
     "output_type": "execute_result"
    }
   ],
   "source": [
    "#Base_de_dados_3_6_casas.csv\n",
    "import pandas as pd\n",
    "import numpy as np\n",
    "import time\n",
    "\n",
    "dataset_process = pd.read_csv(\"Base_de_dados_3_6_casas.csv\", delimiter=';')\n",
    "X = dataset_process.loc[: , dataset_process.columns != 'Label'].values\n",
    "y = dataset_process[\"Label\"].values\n",
    "\n",
    "len(dataset_process.columns)"
   ]
  },
  {
   "cell_type": "code",
   "execution_count": 4,
   "id": "32f1cd3e",
   "metadata": {},
   "outputs": [
    {
     "data": {
      "text/html": [
       "<div>\n",
       "<style scoped>\n",
       "    .dataframe tbody tr th:only-of-type {\n",
       "        vertical-align: middle;\n",
       "    }\n",
       "\n",
       "    .dataframe tbody tr th {\n",
       "        vertical-align: top;\n",
       "    }\n",
       "\n",
       "    .dataframe thead th {\n",
       "        text-align: right;\n",
       "    }\n",
       "</style>\n",
       "<table border=\"1\" class=\"dataframe\">\n",
       "  <thead>\n",
       "    <tr style=\"text-align: right;\">\n",
       "      <th></th>\n",
       "      <th>Kurtosis</th>\n",
       "      <th>Impulse factor</th>\n",
       "      <th>RMS</th>\n",
       "      <th>Margin factor</th>\n",
       "      <th>Skewness</th>\n",
       "      <th>Shape factor</th>\n",
       "      <th>Peak to peak</th>\n",
       "      <th>Crest factor</th>\n",
       "      <th>Label</th>\n",
       "    </tr>\n",
       "  </thead>\n",
       "  <tbody>\n",
       "    <tr>\n",
       "      <th>0</th>\n",
       "      <td>2.330733</td>\n",
       "      <td>8.302993</td>\n",
       "      <td>1.830486</td>\n",
       "      <td>0.006951</td>\n",
       "      <td>-0.098411</td>\n",
       "      <td>652.599342</td>\n",
       "      <td>0.043449</td>\n",
       "      <td>0.012723</td>\n",
       "      <td>0</td>\n",
       "    </tr>\n",
       "    <tr>\n",
       "      <th>1</th>\n",
       "      <td>2.463654</td>\n",
       "      <td>8.665077</td>\n",
       "      <td>2.005024</td>\n",
       "      <td>0.006604</td>\n",
       "      <td>-0.022542</td>\n",
       "      <td>654.363553</td>\n",
       "      <td>0.051557</td>\n",
       "      <td>0.013242</td>\n",
       "      <td>0</td>\n",
       "    </tr>\n",
       "    <tr>\n",
       "      <th>2</th>\n",
       "      <td>2.258160</td>\n",
       "      <td>8.673627</td>\n",
       "      <td>2.286039</td>\n",
       "      <td>0.005824</td>\n",
       "      <td>-0.082665</td>\n",
       "      <td>651.474711</td>\n",
       "      <td>0.054922</td>\n",
       "      <td>0.013314</td>\n",
       "      <td>0</td>\n",
       "    </tr>\n",
       "    <tr>\n",
       "      <th>3</th>\n",
       "      <td>3.033233</td>\n",
       "      <td>11.401023</td>\n",
       "      <td>2.318546</td>\n",
       "      <td>0.007462</td>\n",
       "      <td>-0.069490</td>\n",
       "      <td>658.983054</td>\n",
       "      <td>0.072447</td>\n",
       "      <td>0.017301</td>\n",
       "      <td>0</td>\n",
       "    </tr>\n",
       "    <tr>\n",
       "      <th>4</th>\n",
       "      <td>2.510603</td>\n",
       "      <td>9.757039</td>\n",
       "      <td>2.404440</td>\n",
       "      <td>0.006203</td>\n",
       "      <td>-0.075536</td>\n",
       "      <td>654.195816</td>\n",
       "      <td>0.068288</td>\n",
       "      <td>0.014915</td>\n",
       "      <td>0</td>\n",
       "    </tr>\n",
       "    <tr>\n",
       "      <th>...</th>\n",
       "      <td>...</td>\n",
       "      <td>...</td>\n",
       "      <td>...</td>\n",
       "      <td>...</td>\n",
       "      <td>...</td>\n",
       "      <td>...</td>\n",
       "      <td>...</td>\n",
       "      <td>...</td>\n",
       "      <td>...</td>\n",
       "    </tr>\n",
       "    <tr>\n",
       "      <th>475</th>\n",
       "      <td>2.496437</td>\n",
       "      <td>9.369930</td>\n",
       "      <td>1.848370</td>\n",
       "      <td>0.007762</td>\n",
       "      <td>0.011085</td>\n",
       "      <td>653.097342</td>\n",
       "      <td>0.049579</td>\n",
       "      <td>0.014347</td>\n",
       "      <td>1</td>\n",
       "    </tr>\n",
       "    <tr>\n",
       "      <th>476</th>\n",
       "      <td>2.774307</td>\n",
       "      <td>9.350231</td>\n",
       "      <td>1.976207</td>\n",
       "      <td>0.007213</td>\n",
       "      <td>0.035016</td>\n",
       "      <td>655.956386</td>\n",
       "      <td>0.053221</td>\n",
       "      <td>0.014254</td>\n",
       "      <td>1</td>\n",
       "    </tr>\n",
       "    <tr>\n",
       "      <th>477</th>\n",
       "      <td>2.922228</td>\n",
       "      <td>9.695664</td>\n",
       "      <td>2.142425</td>\n",
       "      <td>0.006888</td>\n",
       "      <td>-0.020309</td>\n",
       "      <td>656.995447</td>\n",
       "      <td>0.061343</td>\n",
       "      <td>0.014758</td>\n",
       "      <td>1</td>\n",
       "    </tr>\n",
       "    <tr>\n",
       "      <th>478</th>\n",
       "      <td>3.462175</td>\n",
       "      <td>14.115464</td>\n",
       "      <td>2.436720</td>\n",
       "      <td>0.008715</td>\n",
       "      <td>-0.032077</td>\n",
       "      <td>664.662046</td>\n",
       "      <td>0.087687</td>\n",
       "      <td>0.021237</td>\n",
       "      <td>1</td>\n",
       "    </tr>\n",
       "    <tr>\n",
       "      <th>479</th>\n",
       "      <td>2.690229</td>\n",
       "      <td>8.594455</td>\n",
       "      <td>2.332266</td>\n",
       "      <td>0.005608</td>\n",
       "      <td>-0.040289</td>\n",
       "      <td>657.142000</td>\n",
       "      <td>0.060028</td>\n",
       "      <td>0.013079</td>\n",
       "      <td>1</td>\n",
       "    </tr>\n",
       "  </tbody>\n",
       "</table>\n",
       "<p>480 rows × 9 columns</p>\n",
       "</div>"
      ],
      "text/plain": [
       "     Kurtosis  Impulse factor       RMS  Margin factor  Skewness  \\\n",
       "0    2.330733        8.302993  1.830486       0.006951 -0.098411   \n",
       "1    2.463654        8.665077  2.005024       0.006604 -0.022542   \n",
       "2    2.258160        8.673627  2.286039       0.005824 -0.082665   \n",
       "3    3.033233       11.401023  2.318546       0.007462 -0.069490   \n",
       "4    2.510603        9.757039  2.404440       0.006203 -0.075536   \n",
       "..        ...             ...       ...            ...       ...   \n",
       "475  2.496437        9.369930  1.848370       0.007762  0.011085   \n",
       "476  2.774307        9.350231  1.976207       0.007213  0.035016   \n",
       "477  2.922228        9.695664  2.142425       0.006888 -0.020309   \n",
       "478  3.462175       14.115464  2.436720       0.008715 -0.032077   \n",
       "479  2.690229        8.594455  2.332266       0.005608 -0.040289   \n",
       "\n",
       "     Shape factor  Peak to peak  Crest factor  Label  \n",
       "0      652.599342      0.043449      0.012723      0  \n",
       "1      654.363553      0.051557      0.013242      0  \n",
       "2      651.474711      0.054922      0.013314      0  \n",
       "3      658.983054      0.072447      0.017301      0  \n",
       "4      654.195816      0.068288      0.014915      0  \n",
       "..            ...           ...           ...    ...  \n",
       "475    653.097342      0.049579      0.014347      1  \n",
       "476    655.956386      0.053221      0.014254      1  \n",
       "477    656.995447      0.061343      0.014758      1  \n",
       "478    664.662046      0.087687      0.021237      1  \n",
       "479    657.142000      0.060028      0.013079      1  \n",
       "\n",
       "[480 rows x 9 columns]"
      ]
     },
     "metadata": {},
     "output_type": "display_data"
    }
   ],
   "source": [
    "display(dataset_process)"
   ]
  },
  {
   "cell_type": "code",
   "execution_count": 5,
   "id": "2d460522",
   "metadata": {},
   "outputs": [],
   "source": [
    "from sklearn.model_selection import train_test_split"
   ]
  },
  {
   "cell_type": "code",
   "execution_count": 6,
   "id": "f646be33",
   "metadata": {},
   "outputs": [],
   "source": [
    "X_train, X_test, y_train, y_test = train_test_split(X, y, test_size=0.2, random_state=1)"
   ]
  },
  {
   "cell_type": "code",
   "execution_count": 7,
   "id": "195a1416",
   "metadata": {},
   "outputs": [
    {
     "data": {
      "text/plain": [
       "384"
      ]
     },
     "execution_count": 7,
     "metadata": {},
     "output_type": "execute_result"
    }
   ],
   "source": [
    "len(X_train)"
   ]
  },
  {
   "cell_type": "code",
   "execution_count": 8,
   "id": "f6225dcd",
   "metadata": {},
   "outputs": [
    {
     "data": {
      "text/plain": [
       "96"
      ]
     },
     "execution_count": 8,
     "metadata": {},
     "output_type": "execute_result"
    }
   ],
   "source": [
    "len(X_test)"
   ]
  },
  {
   "cell_type": "code",
   "execution_count": 9,
   "id": "6813ad38",
   "metadata": {},
   "outputs": [
    {
     "name": "stdout",
     "output_type": "stream",
     "text": [
      "Iteration 1, loss = 22.45035864\n",
      "Iteration 2, loss = 17.27866889\n",
      "Iteration 3, loss = 14.41232682\n",
      "Iteration 4, loss = 10.37057673\n",
      "Iteration 5, loss = 8.84297798\n",
      "Iteration 6, loss = 3.85718618\n",
      "Iteration 7, loss = 4.99067128\n",
      "Iteration 8, loss = 5.22737862\n",
      "Iteration 9, loss = 4.75288231\n",
      "Iteration 10, loss = 3.64954505\n",
      "Iteration 11, loss = 3.24900301\n",
      "Iteration 12, loss = 2.19000237\n",
      "Iteration 13, loss = 2.91145776\n",
      "Iteration 14, loss = 2.09372732\n",
      "Iteration 15, loss = 1.95255257\n",
      "Iteration 16, loss = 1.82426610\n",
      "Iteration 17, loss = 1.94801462\n",
      "Iteration 18, loss = 1.41041704\n",
      "Iteration 19, loss = 1.49849993\n",
      "Iteration 20, loss = 1.45189579\n",
      "Iteration 21, loss = 1.38401051\n",
      "Iteration 22, loss = 1.23113371\n",
      "Iteration 23, loss = 1.31484044\n",
      "Iteration 24, loss = 1.17972104\n",
      "Iteration 25, loss = 1.15512027\n",
      "Iteration 26, loss = 1.15582893\n",
      "Iteration 27, loss = 1.06818190\n",
      "Iteration 28, loss = 1.12971850\n",
      "Iteration 29, loss = 1.04479525\n",
      "Iteration 30, loss = 1.05940110\n",
      "Iteration 31, loss = 1.03018415\n",
      "Iteration 32, loss = 1.01416580\n",
      "Iteration 33, loss = 1.02430145\n",
      "Iteration 34, loss = 1.00185913\n",
      "Iteration 35, loss = 1.01259397\n",
      "Iteration 36, loss = 0.99240038\n",
      "Iteration 37, loss = 0.99770774\n",
      "Iteration 38, loss = 0.99232072\n",
      "Iteration 39, loss = 0.98230648\n",
      "Iteration 40, loss = 0.97729277\n",
      "Iteration 41, loss = 0.97561981\n",
      "Iteration 42, loss = 0.96458930\n",
      "Iteration 43, loss = 0.96637355\n",
      "Iteration 44, loss = 0.95669053\n",
      "Iteration 45, loss = 0.95352238\n",
      "Iteration 46, loss = 0.95534600\n",
      "Iteration 47, loss = 0.94709412\n",
      "Iteration 48, loss = 0.94450686\n",
      "Iteration 49, loss = 0.94048549\n",
      "Iteration 50, loss = 0.94095462\n",
      "Iteration 51, loss = 0.93563458\n",
      "Iteration 52, loss = 0.93556620\n",
      "Iteration 53, loss = 0.92763189\n",
      "Iteration 54, loss = 0.92840764\n",
      "Iteration 55, loss = 0.92341318\n",
      "Iteration 56, loss = 0.92042733\n",
      "Iteration 57, loss = 0.91633032\n",
      "Iteration 58, loss = 0.91333616\n",
      "Iteration 59, loss = 0.90610908\n",
      "Iteration 60, loss = 0.89923272\n",
      "Iteration 61, loss = 0.87923381\n",
      "Iteration 62, loss = 0.88233649\n",
      "Iteration 63, loss = 0.86814970\n",
      "Iteration 64, loss = 0.88115952\n",
      "Iteration 65, loss = 0.86063928\n",
      "Iteration 66, loss = 0.86929686\n",
      "Iteration 67, loss = 0.85425145\n",
      "Iteration 68, loss = 0.85892837\n",
      "Iteration 69, loss = 0.84044150\n",
      "Iteration 70, loss = 0.85252772\n",
      "Iteration 71, loss = 0.84225900\n",
      "Iteration 72, loss = 0.83750402\n",
      "Iteration 73, loss = 0.83127882\n",
      "Iteration 74, loss = 0.83708436\n",
      "Iteration 75, loss = 0.83577273\n",
      "Iteration 76, loss = 0.82718192\n",
      "Iteration 77, loss = 0.82635009\n",
      "Iteration 78, loss = 0.81232144\n",
      "Iteration 79, loss = 0.82207011\n",
      "Iteration 80, loss = 0.80853212\n",
      "Iteration 81, loss = 0.80965230\n",
      "Iteration 82, loss = 0.79916478\n",
      "Iteration 83, loss = 0.79711745\n",
      "Iteration 84, loss = 0.81489937\n",
      "Iteration 85, loss = 0.79816967\n",
      "Iteration 86, loss = 0.80975805\n",
      "Iteration 87, loss = 0.79349750\n",
      "Iteration 88, loss = 0.79085946\n",
      "Iteration 89, loss = 0.78676703\n",
      "Iteration 90, loss = 0.77517862\n",
      "Iteration 91, loss = 0.77694080\n",
      "Iteration 92, loss = 0.77478016\n",
      "Iteration 93, loss = 0.76362229\n",
      "Iteration 94, loss = 0.76631284\n",
      "Iteration 95, loss = 0.76608273\n",
      "Iteration 96, loss = 0.75748947\n",
      "Iteration 97, loss = 0.75702527\n",
      "Iteration 98, loss = 0.75681015\n",
      "Iteration 99, loss = 0.76646721\n",
      "Iteration 100, loss = 0.74742088\n",
      "Iteration 101, loss = 0.74923291\n",
      "Iteration 102, loss = 0.74093058\n",
      "Iteration 103, loss = 0.74275147\n",
      "Iteration 104, loss = 0.73727946\n",
      "Iteration 105, loss = 0.73390342\n",
      "Iteration 106, loss = 0.73220463\n",
      "Iteration 107, loss = 0.72840143\n",
      "Iteration 108, loss = 0.72937291\n",
      "Iteration 109, loss = 0.72741154\n",
      "Iteration 110, loss = 0.72574745\n",
      "Iteration 111, loss = 0.74211191\n",
      "Iteration 112, loss = 0.72354365\n",
      "Iteration 113, loss = 0.72955131\n",
      "Iteration 114, loss = 0.72077348\n",
      "Iteration 115, loss = 0.71199259\n",
      "Iteration 116, loss = 0.72045649\n",
      "Iteration 117, loss = 0.71791813\n",
      "Iteration 118, loss = 0.71146563\n",
      "Iteration 119, loss = 0.70973926\n",
      "Iteration 120, loss = 0.70131155\n",
      "Iteration 121, loss = 0.70583890\n",
      "Iteration 122, loss = 0.69774109\n",
      "Iteration 123, loss = 0.70594515\n",
      "Iteration 124, loss = 0.69683328\n",
      "Iteration 125, loss = 0.69656024\n",
      "Iteration 126, loss = 0.70020864\n",
      "Iteration 127, loss = 0.69412466\n",
      "Iteration 128, loss = 0.70141240\n",
      "Iteration 129, loss = 0.68722980\n",
      "Iteration 130, loss = 0.69771250\n",
      "Iteration 131, loss = 0.69103469\n",
      "Iteration 132, loss = 0.68733717\n",
      "Iteration 133, loss = 0.68847500\n",
      "Iteration 134, loss = 0.68574666\n",
      "Iteration 135, loss = 0.68108471\n",
      "Iteration 136, loss = 0.67945806\n",
      "Iteration 137, loss = 0.67364373\n",
      "Iteration 138, loss = 0.67124843\n",
      "Iteration 139, loss = 0.67017914\n",
      "Iteration 140, loss = 0.67731841\n",
      "Iteration 141, loss = 0.66349465\n",
      "Iteration 142, loss = 0.67568078\n",
      "Iteration 143, loss = 0.66626026\n",
      "Iteration 144, loss = 0.66287265\n",
      "Iteration 145, loss = 0.66990891\n",
      "Iteration 146, loss = 0.65922122\n",
      "Iteration 147, loss = 0.66097730\n",
      "Iteration 148, loss = 0.64934029\n",
      "Iteration 149, loss = 0.66141449\n",
      "Iteration 150, loss = 0.65257321\n",
      "Iteration 151, loss = 0.65705811\n",
      "Iteration 152, loss = 0.65276803\n",
      "Iteration 153, loss = 0.65230263\n",
      "Iteration 154, loss = 0.64801310\n",
      "Iteration 155, loss = 0.64444558\n",
      "Iteration 156, loss = 0.64408428\n",
      "Iteration 157, loss = 0.65016952\n",
      "Iteration 158, loss = 0.64563826\n",
      "Iteration 159, loss = 0.66606042\n",
      "Iteration 160, loss = 0.63026659\n",
      "Iteration 161, loss = 0.64272233\n",
      "Iteration 162, loss = 0.65102864\n",
      "Iteration 163, loss = 0.63219296\n",
      "Iteration 164, loss = 0.63450177\n",
      "Iteration 165, loss = 0.63959112\n",
      "Iteration 166, loss = 0.62669040\n",
      "Iteration 167, loss = 0.63370771\n",
      "Iteration 168, loss = 0.62595380\n",
      "Iteration 169, loss = 0.62230096\n",
      "Iteration 170, loss = 0.62225490\n",
      "Iteration 171, loss = 0.61655791\n",
      "Iteration 172, loss = 0.62261862\n",
      "Iteration 173, loss = 0.62337310\n",
      "Iteration 174, loss = 0.62219318\n",
      "Iteration 175, loss = 0.62066904\n",
      "Iteration 176, loss = 0.61694473\n",
      "Iteration 177, loss = 0.61866221\n",
      "Iteration 178, loss = 0.61261063\n",
      "Iteration 179, loss = 0.61005006\n",
      "Iteration 180, loss = 0.61070271\n",
      "Iteration 181, loss = 0.60597047\n",
      "Iteration 182, loss = 0.60625432\n",
      "Iteration 183, loss = 0.60097179\n",
      "Iteration 184, loss = 0.60003563\n",
      "Iteration 185, loss = 0.60021714\n",
      "Iteration 186, loss = 0.61588697\n",
      "Iteration 187, loss = 0.60323950\n",
      "Iteration 188, loss = 0.59632069\n",
      "Iteration 189, loss = 0.60704687\n",
      "Iteration 190, loss = 0.59196117\n",
      "Iteration 191, loss = 0.59090211\n",
      "Iteration 192, loss = 0.58952389\n",
      "Iteration 193, loss = 0.59000602\n",
      "Iteration 194, loss = 0.58718149\n",
      "Iteration 195, loss = 0.58906792\n",
      "Iteration 196, loss = 0.58592431\n",
      "Iteration 197, loss = 0.58652464\n",
      "Iteration 198, loss = 0.58657752\n",
      "Iteration 199, loss = 0.57923931\n",
      "Iteration 200, loss = 0.58444607\n",
      "Iteration 201, loss = 0.58794664\n",
      "Iteration 202, loss = 0.57483463\n",
      "Iteration 203, loss = 0.58777348\n",
      "Iteration 204, loss = 0.57687587\n",
      "Iteration 205, loss = 0.57330561\n",
      "Iteration 206, loss = 0.57331685\n",
      "Iteration 207, loss = 0.57894662\n",
      "Iteration 208, loss = 0.57712371\n",
      "Iteration 209, loss = 0.57362506\n",
      "Iteration 210, loss = 0.57396157\n",
      "Iteration 211, loss = 0.57029852\n",
      "Iteration 212, loss = 0.57171487\n",
      "Iteration 213, loss = 0.56473958\n",
      "Iteration 214, loss = 0.58110852\n",
      "Iteration 215, loss = 0.59500711\n",
      "Iteration 216, loss = 0.58617112\n",
      "Iteration 217, loss = 0.57973017\n",
      "Iteration 218, loss = 0.59467820\n",
      "Iteration 219, loss = 0.57521088\n",
      "Iteration 220, loss = 0.57269901\n",
      "Iteration 221, loss = 0.58394600\n",
      "Iteration 222, loss = 0.57578290\n",
      "Iteration 223, loss = 0.56372768\n",
      "Iteration 224, loss = 0.56331667\n",
      "Iteration 225, loss = 0.56603365\n",
      "Iteration 226, loss = 0.56324602\n",
      "Iteration 227, loss = 0.55384673\n",
      "Iteration 228, loss = 0.55838699\n",
      "Iteration 229, loss = 0.56417699\n",
      "Iteration 230, loss = 0.55678090\n",
      "Iteration 231, loss = 0.55021387\n",
      "Iteration 232, loss = 0.55199076\n",
      "Iteration 233, loss = 0.55114797\n",
      "Iteration 234, loss = 0.55074281\n",
      "Iteration 235, loss = 0.54402735\n",
      "Iteration 236, loss = 0.55311759\n",
      "Iteration 237, loss = 0.54607002\n",
      "Iteration 238, loss = 0.54834292\n",
      "Iteration 239, loss = 0.54819478\n",
      "Iteration 240, loss = 0.54027888\n",
      "Iteration 241, loss = 0.54167407\n",
      "Iteration 242, loss = 0.53877704\n",
      "Iteration 243, loss = 0.53760743\n",
      "Iteration 244, loss = 0.53521255\n",
      "Iteration 245, loss = 0.53643339\n",
      "Iteration 246, loss = 0.53375846\n",
      "Iteration 247, loss = 0.55777681\n",
      "Iteration 248, loss = 0.53968985\n",
      "Iteration 249, loss = 0.53731162\n",
      "Iteration 250, loss = 0.54167841\n",
      "Iteration 251, loss = 0.53544457\n",
      "Iteration 252, loss = 0.53223149\n",
      "Iteration 253, loss = 0.52998218\n",
      "Iteration 254, loss = 0.52779844\n",
      "Iteration 255, loss = 0.53658292\n",
      "Iteration 256, loss = 0.52485994\n",
      "Iteration 257, loss = 0.52981215\n",
      "Iteration 258, loss = 0.52568804\n",
      "Iteration 259, loss = 0.52396570\n",
      "Iteration 260, loss = 0.52735248\n",
      "Iteration 261, loss = 0.52089030\n",
      "Iteration 262, loss = 0.52932561\n",
      "Iteration 263, loss = 0.52090793\n",
      "Iteration 264, loss = 0.52821272\n",
      "Iteration 265, loss = 0.53337889\n",
      "Iteration 266, loss = 0.53074844\n",
      "Iteration 267, loss = 0.52275605\n",
      "Iteration 268, loss = 0.52928194\n",
      "Iteration 269, loss = 0.52017630\n",
      "Iteration 270, loss = 0.51675227\n",
      "Iteration 271, loss = 0.52851575\n",
      "Iteration 272, loss = 0.54931011\n",
      "Iteration 273, loss = 0.54167664\n",
      "Iteration 274, loss = 0.51909291\n",
      "Iteration 275, loss = 0.52816580\n",
      "Iteration 276, loss = 0.56276660\n",
      "Iteration 277, loss = 0.57052627\n",
      "Iteration 278, loss = 0.52988663\n",
      "Iteration 279, loss = 0.53405482\n",
      "Iteration 280, loss = 0.55178526\n",
      "Iteration 281, loss = 0.52796160\n",
      "Training loss did not improve more than tol=0.000100 for 10 consecutive epochs. Stopping.\n"
     ]
    },
    {
     "data": {
      "text/plain": [
       "MLPClassifier(max_iter=1000, verbose=True)"
      ]
     },
     "execution_count": 9,
     "metadata": {},
     "output_type": "execute_result"
    }
   ],
   "source": [
    "from sklearn.neural_network import MLPClassifier\n",
    "rede_neural=MLPClassifier(max_iter=1000, verbose=True,tol=0.0001, activation='relu')\n",
    "rede_neural.fit(X_train,y_train)"
   ]
  },
  {
   "cell_type": "code",
   "execution_count": 11,
   "id": "48aa1bc9",
   "metadata": {},
   "outputs": [
    {
     "data": {
      "text/plain": [
       "0.78125"
      ]
     },
     "execution_count": 11,
     "metadata": {},
     "output_type": "execute_result"
    }
   ],
   "source": [
    "rede_neural.score(X_test, y_test)"
   ]
  },
  {
   "cell_type": "code",
   "execution_count": 12,
   "id": "3ea3b28e",
   "metadata": {},
   "outputs": [
    {
     "data": {
      "text/plain": [
       "array([[19,  7,  4,  1],\n",
       "       [ 4, 19,  1,  0],\n",
       "       [ 0,  2, 23,  0],\n",
       "       [ 1,  0,  1, 14]], dtype=int64)"
      ]
     },
     "execution_count": 12,
     "metadata": {},
     "output_type": "execute_result"
    }
   ],
   "source": [
    "from sklearn.metrics import confusion_matrix\n",
    "y_pred = rede_neural.predict(X_test)\n",
    "cm = confusion_matrix(y_test, y_pred)\n",
    "cm"
   ]
  },
  {
   "cell_type": "code",
   "execution_count": 13,
   "id": "3c9f33c5",
   "metadata": {},
   "outputs": [
    {
     "data": {
      "text/plain": [
       "Text(42.0, 0.5, 'Truth')"
      ]
     },
     "execution_count": 13,
     "metadata": {},
     "output_type": "execute_result"
    },
    {
     "data": {
      "image/png": "[encoded data removed]",
      "text/plain": [
       "<Figure size 504x360 with 2 Axes>"
      ]
     },
     "metadata": {
      "needs_background": "light"
     },
     "output_type": "display_data"
    }
   ],
   "source": [
    "%matplotlib inline\n",
    "import matplotlib.pyplot as plt\n",
    "import seaborn as sn\n",
    "plt.figure(figsize=(7,5))\n",
    "sn.heatmap(cm, annot=True)\n",
    "plt.xlabel('Predicted')\n",
    "plt.ylabel('Truth')"
   ]
  },
  {
   "cell_type": "code",
   "execution_count": 14,
   "id": "cfc066a1",
   "metadata": {},
   "outputs": [
    {
     "name": "stdout",
     "output_type": "stream",
     "text": [
      "              precision    recall  f1-score   support\n",
      "\n",
      "           0       0.79      0.61      0.69        31\n",
      "           1       0.68      0.79      0.73        24\n",
      "           2       0.79      0.92      0.85        25\n",
      "           3       0.93      0.88      0.90        16\n",
      "\n",
      "    accuracy                           0.78        96\n",
      "   macro avg       0.80      0.80      0.79        96\n",
      "weighted avg       0.79      0.78      0.78        96\n",
      "\n"
     ]
    }
   ],
   "source": [
    "from sklearn.metrics import classification_report\n",
    "\n",
    "print(classification_report(y_test, y_pred))"
   ]
  },
  {
   "cell_type": "code",
   "execution_count": 16,
   "id": "966812a0",
   "metadata": {},
   "outputs": [
    {
     "data": {
      "text/plain": [
       "array([1], dtype=int64)"
      ]
     },
     "execution_count": 16,
     "metadata": {},
     "output_type": "execute_result"
    }
   ],
   "source": [
    "rede_neural.predict([[2,8,2,0.01,-0.15,650,0.05,0.01]])"
   ]
  },
  {
   "cell_type": "code",
   "execution_count": 17,
   "id": "2f2ccfc3",
   "metadata": {},
   "outputs": [],
   "source": [
    "df0 = dataset_process[:200]\n",
    "df1 = dataset_process[200:]\n"
   ]
  },
  {
   "cell_type": "code",
   "execution_count": 18,
   "id": "4d725bd3",
   "metadata": {},
   "outputs": [
    {
     "data": {
      "image/png": "[encoded data removed]",
      "text/plain": [
       "<Figure size 576x432 with 1 Axes>"
      ]
     },
     "metadata": {
      "needs_background": "light"
     },
     "output_type": "display_data"
    }
   ],
   "source": [
    "import matplotlib.pyplot as plt\n",
    "plt.figure(figsize=(8,6))\n",
    "plt.scatter(dataset_process['Kurtosis'],dataset_process['Label'])\n",
    "#plt.scatter(df0['Kurtosis'], df0['Label'],color=\"green\",marker='+')\n",
    "#plt.scatter(df1['Kurtosis'], df1['Label'],color=\"blue\",marker='.')\n",
    "plt.ylabel('Label')\n",
    "plt.xlabel('Kurtosis')\n",
    "plt.grid()\n"
   ]
  },
  {
   "cell_type": "code",
   "execution_count": 19,
   "id": "f0d4bd43",
   "metadata": {},
   "outputs": [
    {
     "data": {
      "image/png": "[encoded data removed]",
      "text/plain": [
       "<Figure size 576x432 with 1 Axes>"
      ]
     },
     "metadata": {
      "needs_background": "light"
     },
     "output_type": "display_data"
    }
   ],
   "source": [
    "import matplotlib.pyplot as plt\n",
    "plt.figure(figsize=(8,6))\n",
    "plt.scatter(dataset_process['Impulse factor'],dataset_process['Label'])\n",
    "#plt.scatter(df0['Kurtosis'], df0['Label'],color=\"green\",marker='+')\n",
    "#plt.scatter(df1['Kurtosis'], df1['Label'],color=\"blue\",marker='.')\n",
    "plt.ylabel('Label')\n",
    "plt.xlabel('Impulse factor')\n",
    "plt.grid()"
   ]
  },
  {
   "cell_type": "code",
   "execution_count": 20,
   "id": "75111351",
   "metadata": {},
   "outputs": [
    {
     "data": {
      "image/png": "[encoded data removed]",
      "text/plain": [
       "<Figure size 576x432 with 1 Axes>"
      ]
     },
     "metadata": {
      "needs_background": "light"
     },
     "output_type": "display_data"
    }
   ],
   "source": [
    "import matplotlib.pyplot as plt\n",
    "plt.figure(figsize=(8,6))\n",
    "plt.scatter(dataset_process['RMS'],dataset_process['Label'])\n",
    "#plt.scatter(df0['Kurtosis'], df0['Label'],color=\"green\",marker='+')\n",
    "#plt.scatter(df1['Kurtosis'], df1['Label'],color=\"blue\",marker='.')\n",
    "plt.ylabel('Label')\n",
    "plt.xlabel('RMS')\n",
    "plt.grid()"
   ]
  },
  {
   "cell_type": "code",
   "execution_count": 21,
   "id": "a5b17890",
   "metadata": {},
   "outputs": [
    {
     "data": {
      "image/png": "[encoded data removed]",
      "text/plain": [
       "<Figure size 576x432 with 1 Axes>"
      ]
     },
     "metadata": {
      "needs_background": "light"
     },
     "output_type": "display_data"
    }
   ],
   "source": [
    "import matplotlib.pyplot as plt\n",
    "plt.figure(figsize=(8,6))\n",
    "plt.scatter(dataset_process['Margin factor'],dataset_process['Label'])\n",
    "#plt.scatter(df0['Kurtosis'], df0['Label'],color=\"green\",marker='+')\n",
    "#plt.scatter(df1['Kurtosis'], df1['Label'],color=\"blue\",marker='.')\n",
    "plt.ylabel('Label')\n",
    "plt.xlabel('Margin factor')\n",
    "plt.grid()"
   ]
  },
  {
   "cell_type": "code",
   "execution_count": 22,
   "id": "404dc07c",
   "metadata": {},
   "outputs": [
    {
     "data": {
      "image/png": "[encoded data removed]",
      "text/plain": [
       "<Figure size 576x432 with 1 Axes>"
      ]
     },
     "metadata": {
      "needs_background": "light"
     },
     "output_type": "display_data"
    }
   ],
   "source": [
    "import matplotlib.pyplot as plt\n",
    "plt.figure(figsize=(8,6))\n",
    "plt.scatter(dataset_process['Skewness'],dataset_process['Label'])\n",
    "#plt.scatter(df0['Kurtosis'], df0['Label'],color=\"green\",marker='+')\n",
    "#plt.scatter(df1['Kurtosis'], df1['Label'],color=\"blue\",marker='.')\n",
    "plt.ylabel('Label')\n",
    "plt.xlabel('Skewness')\n",
    "plt.grid()"
   ]
  },
  {
   "cell_type": "code",
   "execution_count": 23,
   "id": "1b71bdad",
   "metadata": {},
   "outputs": [
    {
     "data": {
      "image/png": "[encoded data removed]",
      "text/plain": [
       "<Figure size 576x432 with 1 Axes>"
      ]
     },
     "metadata": {
      "needs_background": "light"
     },
     "output_type": "display_data"
    }
   ],
   "source": [
    "import matplotlib.pyplot as plt\n",
    "plt.figure(figsize=(8,6))\n",
    "plt.scatter(dataset_process['Shape factor'],dataset_process['Label'])\n",
    "#plt.scatter(df0['Kurtosis'], df0['Label'],color=\"green\",marker='+')\n",
    "#plt.scatter(df1['Kurtosis'], df1['Label'],color=\"blue\",marker='.')\n",
    "plt.ylabel('Label')\n",
    "plt.xlabel('Shape factor')\n",
    "plt.grid()"
   ]
  },
  {
   "cell_type": "code",
   "execution_count": 24,
   "id": "74f23860",
   "metadata": {},
   "outputs": [
    {
     "data": {
      "image/png": "[encoded data removed]",
      "text/plain": [
       "<Figure size 576x432 with 1 Axes>"
      ]
     },
     "metadata": {
      "needs_background": "light"
     },
     "output_type": "display_data"
    }
   ],
   "source": [
    "import matplotlib.pyplot as plt\n",
    "plt.figure(figsize=(8,6))\n",
    "plt.scatter(dataset_process['Peak to peak'],dataset_process['Label'])\n",
    "#plt.scatter(df0['Kurtosis'], df0['Label'],color=\"green\",marker='+')\n",
    "#plt.scatter(df1['Kurtosis'], df1['Label'],color=\"blue\",marker='.')\n",
    "plt.ylabel('Label')\n",
    "plt.xlabel('Peak to peak')\n",
    "plt.grid()"
   ]
  },
  {
   "cell_type": "code",
   "execution_count": 25,
   "id": "6bee114f",
   "metadata": {},
   "outputs": [
    {
     "data": {
      "image/png": "[encoded data removed]",
      "text/plain": [
       "<Figure size 576x432 with 1 Axes>"
      ]
     },
     "metadata": {
      "needs_background": "light"
     },
     "output_type": "display_data"
    }
   ],
   "source": [
    "import matplotlib.pyplot as plt\n",
    "plt.figure(figsize=(8,6))\n",
    "plt.scatter(dataset_process['Crest factor'],dataset_process['Label'])\n",
    "#plt.scatter(df0['Kurtosis'], df0['Label'],color=\"green\",marker='+')\n",
    "#plt.scatter(df1['Kurtosis'], df1['Label'],color=\"blue\",marker='.')\n",
    "plt.ylabel('Label')\n",
    "plt.xlabel('Crest factor')\n",
    "plt.grid()"
   ]
  },
  {
   "cell_type": "code",
   "execution_count": 26,
   "id": "998400b6",
   "metadata": {},
   "outputs": [
    {
     "data": {
      "text/plain": [
       "9"
      ]
     },
     "execution_count": 26,
     "metadata": {},
     "output_type": "execute_result"
    }
   ],
   "source": [
    "#Base_de_dados_3_6_casas.csv\n",
    "import pandas as pd\n",
    "import numpy as np\n",
    "import time\n",
    "\n",
    "dataset_process = pd.read_csv(\"Base_de_dados_3_6_casas.csv\", delimiter=';')\n",
    "X = dataset_process.loc[: , dataset_process.columns != 'Label'].values\n",
    "y = dataset_process[\"Label\"].values\n",
    "\n",
    "len(dataset_process.columns)"
   ]
  },
  {
   "cell_type": "code",
   "execution_count": 70,
   "id": "9b1b05cc",
   "metadata": {},
   "outputs": [
    {
     "data": {
      "text/html": [
       "<div>\n",
       "<style scoped>\n",
       "    .dataframe tbody tr th:only-of-type {\n",
       "        vertical-align: middle;\n",
       "    }\n",
       "\n",
       "    .dataframe tbody tr th {\n",
       "        vertical-align: top;\n",
       "    }\n",
       "\n",
       "    .dataframe thead th {\n",
       "        text-align: right;\n",
       "    }\n",
       "</style>\n",
       "<table border=\"1\" class=\"dataframe\">\n",
       "  <thead>\n",
       "    <tr style=\"text-align: right;\">\n",
       "      <th></th>\n",
       "      <th>Kurtosis</th>\n",
       "      <th>Impulse factor</th>\n",
       "      <th>RMS</th>\n",
       "      <th>Margin factor</th>\n",
       "      <th>Skewness</th>\n",
       "      <th>Shape factor</th>\n",
       "      <th>Peak to peak</th>\n",
       "      <th>Crest factor</th>\n",
       "      <th>Label</th>\n",
       "    </tr>\n",
       "  </thead>\n",
       "  <tbody>\n",
       "    <tr>\n",
       "      <th>0</th>\n",
       "      <td>2.330733</td>\n",
       "      <td>8.302993</td>\n",
       "      <td>1.830486</td>\n",
       "      <td>0.006951</td>\n",
       "      <td>-0.098411</td>\n",
       "      <td>652.599342</td>\n",
       "      <td>0.043449</td>\n",
       "      <td>0.012723</td>\n",
       "      <td>0</td>\n",
       "    </tr>\n",
       "    <tr>\n",
       "      <th>1</th>\n",
       "      <td>2.463654</td>\n",
       "      <td>8.665077</td>\n",
       "      <td>2.005024</td>\n",
       "      <td>0.006604</td>\n",
       "      <td>-0.022542</td>\n",
       "      <td>654.363553</td>\n",
       "      <td>0.051557</td>\n",
       "      <td>0.013242</td>\n",
       "      <td>0</td>\n",
       "    </tr>\n",
       "    <tr>\n",
       "      <th>2</th>\n",
       "      <td>2.258160</td>\n",
       "      <td>8.673627</td>\n",
       "      <td>2.286039</td>\n",
       "      <td>0.005824</td>\n",
       "      <td>-0.082665</td>\n",
       "      <td>651.474711</td>\n",
       "      <td>0.054922</td>\n",
       "      <td>0.013314</td>\n",
       "      <td>0</td>\n",
       "    </tr>\n",
       "    <tr>\n",
       "      <th>3</th>\n",
       "      <td>3.033233</td>\n",
       "      <td>11.401023</td>\n",
       "      <td>2.318546</td>\n",
       "      <td>0.007462</td>\n",
       "      <td>-0.069490</td>\n",
       "      <td>658.983054</td>\n",
       "      <td>0.072447</td>\n",
       "      <td>0.017301</td>\n",
       "      <td>0</td>\n",
       "    </tr>\n",
       "    <tr>\n",
       "      <th>4</th>\n",
       "      <td>2.510603</td>\n",
       "      <td>9.757039</td>\n",
       "      <td>2.404440</td>\n",
       "      <td>0.006203</td>\n",
       "      <td>-0.075536</td>\n",
       "      <td>654.195816</td>\n",
       "      <td>0.068288</td>\n",
       "      <td>0.014915</td>\n",
       "      <td>0</td>\n",
       "    </tr>\n",
       "    <tr>\n",
       "      <th>...</th>\n",
       "      <td>...</td>\n",
       "      <td>...</td>\n",
       "      <td>...</td>\n",
       "      <td>...</td>\n",
       "      <td>...</td>\n",
       "      <td>...</td>\n",
       "      <td>...</td>\n",
       "      <td>...</td>\n",
       "      <td>...</td>\n",
       "    </tr>\n",
       "    <tr>\n",
       "      <th>475</th>\n",
       "      <td>2.496437</td>\n",
       "      <td>9.369930</td>\n",
       "      <td>1.848370</td>\n",
       "      <td>0.007762</td>\n",
       "      <td>0.011085</td>\n",
       "      <td>653.097342</td>\n",
       "      <td>0.049579</td>\n",
       "      <td>0.014347</td>\n",
       "      <td>1</td>\n",
       "    </tr>\n",
       "    <tr>\n",
       "      <th>476</th>\n",
       "      <td>2.774307</td>\n",
       "      <td>9.350231</td>\n",
       "      <td>1.976207</td>\n",
       "      <td>0.007213</td>\n",
       "      <td>0.035016</td>\n",
       "      <td>655.956386</td>\n",
       "      <td>0.053221</td>\n",
       "      <td>0.014254</td>\n",
       "      <td>1</td>\n",
       "    </tr>\n",
       "    <tr>\n",
       "      <th>477</th>\n",
       "      <td>2.922228</td>\n",
       "      <td>9.695664</td>\n",
       "      <td>2.142425</td>\n",
       "      <td>0.006888</td>\n",
       "      <td>-0.020309</td>\n",
       "      <td>656.995447</td>\n",
       "      <td>0.061343</td>\n",
       "      <td>0.014758</td>\n",
       "      <td>1</td>\n",
       "    </tr>\n",
       "    <tr>\n",
       "      <th>478</th>\n",
       "      <td>3.462175</td>\n",
       "      <td>14.115464</td>\n",
       "      <td>2.436720</td>\n",
       "      <td>0.008715</td>\n",
       "      <td>-0.032077</td>\n",
       "      <td>664.662046</td>\n",
       "      <td>0.087687</td>\n",
       "      <td>0.021237</td>\n",
       "      <td>1</td>\n",
       "    </tr>\n",
       "    <tr>\n",
       "      <th>479</th>\n",
       "      <td>2.690229</td>\n",
       "      <td>8.594455</td>\n",
       "      <td>2.332266</td>\n",
       "      <td>0.005608</td>\n",
       "      <td>-0.040289</td>\n",
       "      <td>657.142000</td>\n",
       "      <td>0.060028</td>\n",
       "      <td>0.013079</td>\n",
       "      <td>1</td>\n",
       "    </tr>\n",
       "  </tbody>\n",
       "</table>\n",
       "<p>480 rows × 9 columns</p>\n",
       "</div>"
      ],
      "text/plain": [
       "     Kurtosis  Impulse factor       RMS  Margin factor  Skewness  \\\n",
       "0    2.330733        8.302993  1.830486       0.006951 -0.098411   \n",
       "1    2.463654        8.665077  2.005024       0.006604 -0.022542   \n",
       "2    2.258160        8.673627  2.286039       0.005824 -0.082665   \n",
       "3    3.033233       11.401023  2.318546       0.007462 -0.069490   \n",
       "4    2.510603        9.757039  2.404440       0.006203 -0.075536   \n",
       "..        ...             ...       ...            ...       ...   \n",
       "475  2.496437        9.369930  1.848370       0.007762  0.011085   \n",
       "476  2.774307        9.350231  1.976207       0.007213  0.035016   \n",
       "477  2.922228        9.695664  2.142425       0.006888 -0.020309   \n",
       "478  3.462175       14.115464  2.436720       0.008715 -0.032077   \n",
       "479  2.690229        8.594455  2.332266       0.005608 -0.040289   \n",
       "\n",
       "     Shape factor  Peak to peak  Crest factor  Label  \n",
       "0      652.599342      0.043449      0.012723      0  \n",
       "1      654.363553      0.051557      0.013242      0  \n",
       "2      651.474711      0.054922      0.013314      0  \n",
       "3      658.983054      0.072447      0.017301      0  \n",
       "4      654.195816      0.068288      0.014915      0  \n",
       "..            ...           ...           ...    ...  \n",
       "475    653.097342      0.049579      0.014347      1  \n",
       "476    655.956386      0.053221      0.014254      1  \n",
       "477    656.995447      0.061343      0.014758      1  \n",
       "478    664.662046      0.087687      0.021237      1  \n",
       "479    657.142000      0.060028      0.013079      1  \n",
       "\n",
       "[480 rows x 9 columns]"
      ]
     },
     "metadata": {},
     "output_type": "display_data"
    }
   ],
   "source": [
    "display(dataset_process)"
   ]
  },
  {
   "cell_type": "code",
   "execution_count": 71,
   "id": "508e7ae2",
   "metadata": {},
   "outputs": [],
   "source": [
    "from sklearn.model_selection import train_test_split"
   ]
  },
  {
   "cell_type": "code",
   "execution_count": 72,
   "id": "4f292eda",
   "metadata": {},
   "outputs": [],
   "source": [
    "X_train, X_test, y_train, y_test = train_test_split(X, y, test_size=0.25, random_state=1)"
   ]
  },
  {
   "cell_type": "code",
   "execution_count": 73,
   "id": "6c3a2fc7",
   "metadata": {},
   "outputs": [
    {
     "data": {
      "text/plain": [
       "360"
      ]
     },
     "execution_count": 73,
     "metadata": {},
     "output_type": "execute_result"
    }
   ],
   "source": [
    "len(X_train)"
   ]
  },
  {
   "cell_type": "code",
   "execution_count": 74,
   "id": "1f3e7157",
   "metadata": {},
   "outputs": [
    {
     "data": {
      "text/plain": [
       "120"
      ]
     },
     "execution_count": 74,
     "metadata": {},
     "output_type": "execute_result"
    }
   ],
   "source": [
    "len(X_test)"
   ]
  },
  {
   "cell_type": "code",
   "execution_count": 27,
   "id": "30a8b50a",
   "metadata": {},
   "outputs": [
    {
     "name": "stdout",
     "output_type": "stream",
     "text": [
      "Iteration 1, loss = 27.12660937\n",
      "Iteration 2, loss = 27.12660935\n",
      "Iteration 3, loss = 27.12660932\n",
      "Iteration 4, loss = 27.12660929\n",
      "Iteration 5, loss = 24.84747128\n",
      "Iteration 6, loss = 20.69553329\n",
      "Iteration 7, loss = 20.43259874\n",
      "Iteration 8, loss = 21.67898078\n",
      "Iteration 9, loss = 21.37108211\n",
      "Iteration 10, loss = 19.62600379\n",
      "Iteration 11, loss = 15.23310069\n",
      "Iteration 12, loss = 12.58603763\n",
      "Iteration 13, loss = 13.44773594\n",
      "Iteration 14, loss = 16.27294225\n",
      "Iteration 15, loss = 16.03157695\n",
      "Iteration 16, loss = 13.77565091\n",
      "Iteration 17, loss = 11.75733876\n",
      "Iteration 18, loss = 12.08988562\n",
      "Iteration 19, loss = 11.28481927\n",
      "Iteration 20, loss = 11.75068615\n",
      "Iteration 21, loss = 11.15279433\n",
      "Iteration 22, loss = 10.08686547\n",
      "Iteration 23, loss = 10.85090790\n",
      "Iteration 24, loss = 10.71594165\n",
      "Iteration 25, loss = 10.76779506\n",
      "Iteration 26, loss = 9.86268883\n",
      "Iteration 27, loss = 7.20413335\n",
      "Iteration 28, loss = 5.11141631\n",
      "Iteration 29, loss = 2.19646722\n",
      "Iteration 30, loss = 5.05875835\n",
      "Iteration 31, loss = 6.29753707\n",
      "Iteration 32, loss = 2.85754602\n",
      "Iteration 33, loss = 1.93023790\n",
      "Iteration 34, loss = 3.15168936\n",
      "Iteration 35, loss = 3.69757006\n",
      "Iteration 36, loss = 3.64797052\n",
      "Iteration 37, loss = 3.12504843\n",
      "Iteration 38, loss = 2.25261417\n",
      "Iteration 39, loss = 1.31873838\n",
      "Iteration 40, loss = 2.11533860\n",
      "Iteration 41, loss = 1.62450637\n",
      "Iteration 42, loss = 1.34403205\n",
      "Iteration 43, loss = 1.65817357\n",
      "Iteration 44, loss = 1.62721214\n",
      "Iteration 45, loss = 1.23067902\n",
      "Iteration 46, loss = 1.30739781\n",
      "Iteration 47, loss = 1.30337013\n",
      "Iteration 48, loss = 1.15040874\n",
      "Iteration 49, loss = 1.20770118\n",
      "Iteration 50, loss = 1.18110703\n",
      "Iteration 51, loss = 1.09995090\n",
      "Iteration 52, loss = 1.13494229\n",
      "Iteration 53, loss = 1.10416168\n",
      "Iteration 54, loss = 1.08581442\n",
      "Iteration 55, loss = 1.09471293\n",
      "Iteration 56, loss = 1.06533029\n",
      "Iteration 57, loss = 1.06789444\n",
      "Iteration 58, loss = 1.05134865\n",
      "Iteration 59, loss = 1.04759333\n",
      "Iteration 60, loss = 1.05142105\n",
      "Iteration 61, loss = 1.02786666\n",
      "Iteration 62, loss = 1.03685507\n",
      "Iteration 63, loss = 1.01690632\n",
      "Iteration 64, loss = 1.01649563\n",
      "Iteration 65, loss = 1.01034855\n",
      "Iteration 66, loss = 0.99784165\n",
      "Iteration 67, loss = 1.00302152\n",
      "Iteration 68, loss = 0.99209184\n",
      "Iteration 69, loss = 0.98619297\n",
      "Iteration 70, loss = 0.98430004\n",
      "Iteration 71, loss = 0.97753734\n",
      "Iteration 72, loss = 0.97694687\n",
      "Iteration 73, loss = 0.97228627\n",
      "Iteration 74, loss = 0.96709112\n",
      "Iteration 75, loss = 0.96276930\n",
      "Iteration 76, loss = 0.96460951\n",
      "Iteration 77, loss = 0.95357327\n",
      "Iteration 78, loss = 0.95298538\n",
      "Iteration 79, loss = 0.94761299\n",
      "Iteration 80, loss = 0.94836590\n",
      "Iteration 81, loss = 0.93819233\n",
      "Iteration 82, loss = 0.93443452\n",
      "Iteration 83, loss = 0.93552561\n",
      "Iteration 84, loss = 0.92681814\n",
      "Iteration 85, loss = 0.92609101\n",
      "Iteration 86, loss = 0.91797820\n",
      "Iteration 87, loss = 0.91320201\n",
      "Iteration 88, loss = 0.91125512\n",
      "Iteration 89, loss = 0.90750138\n",
      "Iteration 90, loss = 0.90206395\n",
      "Iteration 91, loss = 0.90273726\n",
      "Iteration 92, loss = 0.89422205\n",
      "Iteration 93, loss = 0.89454637\n",
      "Iteration 94, loss = 0.88582552\n",
      "Iteration 95, loss = 0.88625236\n",
      "Iteration 96, loss = 0.88594193\n",
      "Iteration 97, loss = 0.87857061\n",
      "Iteration 98, loss = 0.87368921\n",
      "Iteration 99, loss = 0.87463606\n",
      "Iteration 100, loss = 0.86731024\n",
      "Iteration 101, loss = 0.86766723\n",
      "Iteration 102, loss = 0.86386233\n",
      "Iteration 103, loss = 0.86493872\n",
      "Iteration 104, loss = 0.86082350\n",
      "Iteration 105, loss = 0.85347630\n",
      "Iteration 106, loss = 0.85174268\n",
      "Iteration 107, loss = 0.85244231\n",
      "Iteration 108, loss = 0.84540257\n",
      "Iteration 109, loss = 0.84027881\n",
      "Iteration 110, loss = 0.83969291\n",
      "Iteration 111, loss = 0.84014694\n",
      "Iteration 112, loss = 0.83241040\n",
      "Iteration 113, loss = 0.83343301\n",
      "Iteration 114, loss = 0.82998490\n",
      "Iteration 115, loss = 0.82736132\n",
      "Iteration 116, loss = 0.82172251\n",
      "Iteration 117, loss = 0.82561440\n",
      "Iteration 118, loss = 0.81960608\n",
      "Iteration 119, loss = 0.81504348\n",
      "Iteration 120, loss = 0.81623955\n",
      "Iteration 121, loss = 0.81124591\n",
      "Iteration 122, loss = 0.81586176\n",
      "Iteration 123, loss = 0.80735938\n",
      "Iteration 124, loss = 0.80440392\n",
      "Iteration 125, loss = 0.79745783\n",
      "Iteration 126, loss = 0.80325249\n",
      "Iteration 127, loss = 0.79025776\n",
      "Iteration 128, loss = 0.79807006\n",
      "Iteration 129, loss = 0.79345011\n",
      "Iteration 130, loss = 0.78858338\n",
      "Iteration 131, loss = 0.79318942\n",
      "Iteration 132, loss = 0.78210904\n",
      "Iteration 133, loss = 0.78160370\n",
      "Iteration 134, loss = 0.78296358\n",
      "Iteration 135, loss = 0.77667397\n",
      "Iteration 136, loss = 0.77432995\n",
      "Iteration 137, loss = 0.77444110\n",
      "Iteration 138, loss = 0.77344660\n",
      "Iteration 139, loss = 0.76651377\n",
      "Iteration 140, loss = 0.76678894\n",
      "Iteration 141, loss = 0.76221055\n",
      "Iteration 142, loss = 0.76542228\n",
      "Iteration 143, loss = 0.75860235\n",
      "Iteration 144, loss = 0.75771491\n",
      "Iteration 145, loss = 0.76107951\n",
      "Iteration 146, loss = 0.77258326\n",
      "Iteration 147, loss = 0.74987658\n",
      "Iteration 148, loss = 0.76650200\n",
      "Iteration 149, loss = 0.74343789\n",
      "Iteration 150, loss = 0.75889842\n",
      "Iteration 151, loss = 0.74842163\n",
      "Iteration 152, loss = 0.74626424\n",
      "Iteration 153, loss = 0.74530261\n",
      "Iteration 154, loss = 0.74048968\n",
      "Iteration 155, loss = 0.74892163\n",
      "Iteration 156, loss = 0.73010362\n",
      "Iteration 157, loss = 0.72895442\n",
      "Iteration 158, loss = 0.72903477\n",
      "Iteration 159, loss = 0.72639419\n",
      "Iteration 160, loss = 0.72018061\n",
      "Iteration 161, loss = 0.71977862\n",
      "Iteration 162, loss = 0.71929503\n",
      "Iteration 163, loss = 0.72030270\n",
      "Iteration 164, loss = 0.71506684\n",
      "Iteration 165, loss = 0.71507256\n",
      "Iteration 166, loss = 0.71114736\n",
      "Iteration 167, loss = 0.71052332\n",
      "Iteration 168, loss = 0.70868176\n",
      "Iteration 169, loss = 0.70588221\n",
      "Iteration 170, loss = 0.70365983\n",
      "Iteration 171, loss = 0.70111663\n",
      "Iteration 172, loss = 0.70743914\n",
      "Iteration 173, loss = 0.69487592\n",
      "Iteration 174, loss = 0.70866506\n",
      "Iteration 175, loss = 0.69430831\n",
      "Iteration 176, loss = 0.69767577\n",
      "Iteration 177, loss = 0.69561398\n",
      "Iteration 178, loss = 0.68572780\n",
      "Iteration 179, loss = 0.68370895\n",
      "Iteration 180, loss = 0.68056176\n",
      "Iteration 181, loss = 0.67857303\n",
      "Iteration 182, loss = 0.67891661\n",
      "Iteration 183, loss = 0.67572859\n",
      "Iteration 184, loss = 0.67636383\n",
      "Iteration 185, loss = 0.66914899\n",
      "Iteration 186, loss = 0.67711751\n",
      "Iteration 187, loss = 0.67858653\n",
      "Iteration 188, loss = 0.66405407\n",
      "Iteration 189, loss = 0.66733260\n",
      "Iteration 190, loss = 0.66269636\n",
      "Iteration 191, loss = 0.65997732\n",
      "Iteration 192, loss = 0.66755315\n",
      "Iteration 193, loss = 0.65679805\n",
      "Iteration 194, loss = 0.67395891\n",
      "Iteration 195, loss = 0.65045938\n",
      "Iteration 196, loss = 0.65343607\n",
      "Iteration 197, loss = 0.64931427\n",
      "Iteration 198, loss = 0.64905296\n",
      "Iteration 199, loss = 0.65006363\n",
      "Iteration 200, loss = 0.64582069\n",
      "Iteration 201, loss = 0.63979500\n",
      "Iteration 202, loss = 0.64110964\n",
      "Iteration 203, loss = 0.64084820\n",
      "Iteration 204, loss = 0.62912190\n",
      "Iteration 205, loss = 0.63783209\n",
      "Iteration 206, loss = 0.63059386\n",
      "Iteration 207, loss = 0.62531458\n",
      "Iteration 208, loss = 0.62976303\n",
      "Iteration 209, loss = 0.62055525\n",
      "Iteration 210, loss = 0.61842058\n",
      "Iteration 211, loss = 0.61818951\n",
      "Iteration 212, loss = 0.61220278\n",
      "Iteration 213, loss = 0.61395400\n",
      "Iteration 214, loss = 0.61953628\n",
      "Iteration 215, loss = 0.60842407\n",
      "Iteration 216, loss = 0.61355250\n",
      "Iteration 217, loss = 0.62603504\n",
      "Iteration 218, loss = 0.60900281\n",
      "Iteration 219, loss = 0.60858987\n",
      "Iteration 220, loss = 0.61147358\n",
      "Iteration 221, loss = 0.59795021\n",
      "Iteration 222, loss = 0.60356186\n",
      "Iteration 223, loss = 0.59203271\n",
      "Iteration 224, loss = 0.58683548\n",
      "Iteration 225, loss = 0.58470550\n",
      "Iteration 226, loss = 0.58494371\n",
      "Iteration 227, loss = 0.58113145\n",
      "Iteration 228, loss = 0.58133051\n",
      "Iteration 229, loss = 0.58006721\n",
      "Iteration 230, loss = 0.57385492\n",
      "Iteration 231, loss = 0.56976139\n",
      "Iteration 232, loss = 0.56920622\n",
      "Iteration 233, loss = 0.56740548\n",
      "Iteration 234, loss = 0.56566827\n",
      "Iteration 235, loss = 0.56618544\n",
      "Iteration 236, loss = 0.55987143\n",
      "Iteration 237, loss = 0.56024352\n",
      "Iteration 238, loss = 0.55987601\n",
      "Iteration 239, loss = 0.57474616\n",
      "Iteration 240, loss = 0.55079359\n",
      "Iteration 241, loss = 0.56395886\n",
      "Iteration 242, loss = 0.57049861\n",
      "Iteration 243, loss = 0.54494373\n",
      "Iteration 244, loss = 0.56752990\n",
      "Iteration 245, loss = 0.55641623\n",
      "Iteration 246, loss = 0.55663228\n",
      "Iteration 247, loss = 0.55373022\n",
      "Iteration 248, loss = 0.56188273\n",
      "Iteration 249, loss = 0.53860844\n",
      "Iteration 250, loss = 0.55463510\n",
      "Iteration 251, loss = 0.57037800\n",
      "Iteration 252, loss = 0.53225337\n",
      "Iteration 253, loss = 0.56557582\n",
      "Iteration 254, loss = 0.54847393\n",
      "Iteration 255, loss = 0.55843731\n",
      "Iteration 256, loss = 0.53819471\n",
      "Iteration 257, loss = 0.54126547\n",
      "Iteration 258, loss = 0.53759261\n",
      "Iteration 259, loss = 0.52532717\n",
      "Iteration 260, loss = 0.52923988\n",
      "Iteration 261, loss = 0.53469618\n",
      "Iteration 262, loss = 0.52990916\n",
      "Iteration 263, loss = 0.52231699\n",
      "Iteration 264, loss = 0.52488462\n",
      "Iteration 265, loss = 0.52689978\n",
      "Iteration 266, loss = 0.53361737\n",
      "Iteration 267, loss = 0.51065682\n",
      "Iteration 268, loss = 0.52192273\n",
      "Iteration 269, loss = 0.53008055\n",
      "Iteration 270, loss = 0.51499245\n",
      "Iteration 271, loss = 0.51345445\n",
      "Iteration 272, loss = 0.52211148\n",
      "Iteration 273, loss = 0.50569025\n",
      "Iteration 274, loss = 0.50209287\n",
      "Iteration 275, loss = 0.50669568\n",
      "Iteration 276, loss = 0.50338042\n",
      "Iteration 277, loss = 0.49635360\n",
      "Iteration 278, loss = 0.49645913\n",
      "Iteration 279, loss = 0.49555126\n",
      "Iteration 280, loss = 0.49338265\n",
      "Iteration 281, loss = 0.49009532\n",
      "Iteration 282, loss = 0.49121216\n",
      "Iteration 283, loss = 0.51392333\n",
      "Iteration 284, loss = 0.50317775\n",
      "Iteration 285, loss = 0.50737201\n",
      "Iteration 286, loss = 0.49803594\n",
      "Iteration 287, loss = 0.50632588\n",
      "Iteration 288, loss = 0.48336203\n",
      "Iteration 289, loss = 0.49284344\n",
      "Iteration 290, loss = 0.49401704\n",
      "Iteration 291, loss = 0.47558611\n",
      "Iteration 292, loss = 0.47521045\n",
      "Iteration 293, loss = 0.47359594\n",
      "Iteration 294, loss = 0.47542918\n",
      "Iteration 295, loss = 0.47146145\n",
      "Iteration 296, loss = 0.46970901\n",
      "Iteration 297, loss = 0.47152613\n",
      "Iteration 298, loss = 0.47841989\n",
      "Iteration 299, loss = 0.47603345\n"
     ]
    },
    {
     "name": "stdout",
     "output_type": "stream",
     "text": [
      "Iteration 300, loss = 0.48049719\n",
      "Iteration 301, loss = 0.46418701\n",
      "Iteration 302, loss = 0.47916276\n",
      "Iteration 303, loss = 0.49061666\n",
      "Iteration 304, loss = 0.48564999\n",
      "Iteration 305, loss = 0.46604677\n",
      "Iteration 306, loss = 0.48080221\n",
      "Iteration 307, loss = 0.46156540\n",
      "Iteration 308, loss = 0.45785256\n",
      "Iteration 309, loss = 0.46293939\n",
      "Iteration 310, loss = 0.46342859\n",
      "Iteration 311, loss = 0.45376612\n",
      "Iteration 312, loss = 0.46085270\n",
      "Iteration 313, loss = 0.45511628\n",
      "Iteration 314, loss = 0.45349836\n",
      "Iteration 315, loss = 0.46488495\n",
      "Iteration 316, loss = 0.44872768\n",
      "Iteration 317, loss = 0.45428547\n",
      "Iteration 318, loss = 0.45514839\n",
      "Iteration 319, loss = 0.44965543\n",
      "Iteration 320, loss = 0.44905350\n",
      "Iteration 321, loss = 0.44814451\n",
      "Iteration 322, loss = 0.44362756\n",
      "Iteration 323, loss = 0.44513501\n",
      "Iteration 324, loss = 0.44221974\n",
      "Iteration 325, loss = 0.44472430\n",
      "Iteration 326, loss = 0.43889389\n",
      "Iteration 327, loss = 0.44209582\n",
      "Iteration 328, loss = 0.43732236\n",
      "Iteration 329, loss = 0.43745341\n",
      "Iteration 330, loss = 0.44050670\n",
      "Iteration 331, loss = 0.44173571\n",
      "Iteration 332, loss = 0.43755161\n",
      "Iteration 333, loss = 0.43569903\n",
      "Iteration 334, loss = 0.44407728\n",
      "Iteration 335, loss = 0.44387138\n",
      "Iteration 336, loss = 0.43103552\n",
      "Iteration 337, loss = 0.44201507\n",
      "Iteration 338, loss = 0.43437664\n",
      "Iteration 339, loss = 0.43484912\n",
      "Iteration 340, loss = 0.43337313\n",
      "Iteration 341, loss = 0.42770180\n",
      "Iteration 342, loss = 0.43016029\n",
      "Iteration 343, loss = 0.43146889\n",
      "Iteration 344, loss = 0.42472251\n",
      "Iteration 345, loss = 0.42248165\n",
      "Iteration 346, loss = 0.42290309\n",
      "Iteration 347, loss = 0.42109791\n",
      "Iteration 348, loss = 0.42242136\n",
      "Iteration 349, loss = 0.41992745\n",
      "Iteration 350, loss = 0.42022914\n",
      "Iteration 351, loss = 0.42128218\n",
      "Iteration 352, loss = 0.41919698\n",
      "Iteration 353, loss = 0.42444190\n",
      "Iteration 354, loss = 0.41786320\n",
      "Iteration 355, loss = 0.42984855\n",
      "Iteration 356, loss = 0.41767937\n",
      "Iteration 357, loss = 0.41510457\n",
      "Iteration 358, loss = 0.41789089\n",
      "Iteration 359, loss = 0.41655879\n",
      "Iteration 360, loss = 0.41616577\n",
      "Iteration 361, loss = 0.41374945\n",
      "Iteration 362, loss = 0.41881111\n",
      "Iteration 363, loss = 0.41957347\n",
      "Iteration 364, loss = 0.40889496\n",
      "Iteration 365, loss = 0.40868636\n",
      "Iteration 366, loss = 0.41648481\n",
      "Iteration 367, loss = 0.40999602\n",
      "Iteration 368, loss = 0.40779721\n",
      "Iteration 369, loss = 0.40999279\n",
      "Iteration 370, loss = 0.40744208\n",
      "Iteration 371, loss = 0.40395229\n",
      "Iteration 372, loss = 0.40629407\n",
      "Iteration 373, loss = 0.40547681\n",
      "Iteration 374, loss = 0.40475700\n",
      "Iteration 375, loss = 0.40371083\n",
      "Iteration 376, loss = 0.40200910\n",
      "Iteration 377, loss = 0.40616487\n",
      "Iteration 378, loss = 0.40757657\n",
      "Iteration 379, loss = 0.41099028\n",
      "Iteration 380, loss = 0.41267964\n",
      "Iteration 381, loss = 0.39568707\n",
      "Iteration 382, loss = 0.41437656\n",
      "Iteration 383, loss = 0.40126558\n",
      "Iteration 384, loss = 0.39624320\n",
      "Iteration 385, loss = 0.39587691\n",
      "Iteration 386, loss = 0.39900292\n",
      "Iteration 387, loss = 0.40382704\n",
      "Iteration 388, loss = 0.40680332\n",
      "Iteration 389, loss = 0.39089197\n",
      "Iteration 390, loss = 0.40026839\n",
      "Iteration 391, loss = 0.39797944\n",
      "Iteration 392, loss = 0.40764000\n",
      "Iteration 393, loss = 0.39252240\n",
      "Iteration 394, loss = 0.39356326\n",
      "Iteration 395, loss = 0.39487028\n",
      "Iteration 396, loss = 0.39416999\n",
      "Iteration 397, loss = 0.40106993\n",
      "Iteration 398, loss = 0.39288672\n",
      "Iteration 399, loss = 0.39018268\n",
      "Iteration 400, loss = 0.39248330\n",
      "Iteration 401, loss = 0.39732409\n",
      "Iteration 402, loss = 0.38991078\n",
      "Iteration 403, loss = 0.38720663\n",
      "Iteration 404, loss = 0.40210802\n",
      "Iteration 405, loss = 0.38204041\n",
      "Iteration 406, loss = 0.39053137\n",
      "Iteration 407, loss = 0.38738483\n",
      "Iteration 408, loss = 0.38150572\n",
      "Iteration 409, loss = 0.38093559\n",
      "Iteration 410, loss = 0.38024247\n",
      "Iteration 411, loss = 0.38058649\n",
      "Iteration 412, loss = 0.38779199\n",
      "Iteration 413, loss = 0.40044454\n",
      "Iteration 414, loss = 0.38085405\n",
      "Iteration 415, loss = 0.38253701\n",
      "Iteration 416, loss = 0.38625665\n",
      "Iteration 417, loss = 0.40774942\n",
      "Iteration 418, loss = 0.39222217\n",
      "Iteration 419, loss = 0.37845915\n",
      "Iteration 420, loss = 0.38968463\n",
      "Iteration 421, loss = 0.38187047\n",
      "Iteration 422, loss = 0.38204939\n",
      "Iteration 423, loss = 0.39321217\n",
      "Iteration 424, loss = 0.38169710\n",
      "Iteration 425, loss = 0.38811580\n",
      "Iteration 426, loss = 0.38012133\n",
      "Iteration 427, loss = 0.37394192\n",
      "Iteration 428, loss = 0.38154856\n",
      "Iteration 429, loss = 0.37154136\n",
      "Iteration 430, loss = 0.37913251\n",
      "Iteration 431, loss = 0.37273760\n",
      "Iteration 432, loss = 0.37602563\n",
      "Iteration 433, loss = 0.37638825\n",
      "Iteration 434, loss = 0.37426961\n",
      "Iteration 435, loss = 0.37942233\n",
      "Iteration 436, loss = 0.37475564\n",
      "Iteration 437, loss = 0.36423676\n",
      "Iteration 438, loss = 0.37834917\n",
      "Iteration 439, loss = 0.37604686\n",
      "Iteration 440, loss = 0.36501051\n",
      "Iteration 441, loss = 0.36846562\n",
      "Iteration 442, loss = 0.37037309\n",
      "Iteration 443, loss = 0.36308891\n",
      "Iteration 444, loss = 0.36752608\n",
      "Iteration 445, loss = 0.36265885\n",
      "Iteration 446, loss = 0.36540271\n",
      "Iteration 447, loss = 0.36165725\n",
      "Iteration 448, loss = 0.38774817\n",
      "Iteration 449, loss = 0.38347912\n",
      "Iteration 450, loss = 0.38064297\n",
      "Iteration 451, loss = 0.36979890\n",
      "Iteration 452, loss = 0.37190880\n",
      "Iteration 453, loss = 0.37557945\n",
      "Iteration 454, loss = 0.36288772\n",
      "Iteration 455, loss = 0.36925851\n",
      "Iteration 456, loss = 0.35854079\n",
      "Iteration 457, loss = 0.35683629\n",
      "Iteration 458, loss = 0.35714656\n",
      "Iteration 459, loss = 0.36162589\n",
      "Iteration 460, loss = 0.36275460\n",
      "Iteration 461, loss = 0.38534522\n",
      "Iteration 462, loss = 0.37197759\n",
      "Iteration 463, loss = 0.35471439\n",
      "Iteration 464, loss = 0.36725570\n",
      "Iteration 465, loss = 0.37705028\n",
      "Iteration 466, loss = 0.36663665\n",
      "Iteration 467, loss = 0.37287978\n",
      "Iteration 468, loss = 0.38991735\n",
      "Iteration 469, loss = 0.37757602\n",
      "Iteration 470, loss = 0.38063382\n",
      "Iteration 471, loss = 0.35339943\n",
      "Iteration 472, loss = 0.36561549\n",
      "Iteration 473, loss = 0.40817200\n",
      "Iteration 474, loss = 0.44206146\n",
      "Iteration 475, loss = 0.36983230\n",
      "Iteration 476, loss = 0.42332039\n",
      "Iteration 477, loss = 0.38901616\n",
      "Iteration 478, loss = 0.38882559\n",
      "Iteration 479, loss = 0.37178989\n",
      "Iteration 480, loss = 0.37723385\n",
      "Iteration 481, loss = 0.36880593\n",
      "Iteration 482, loss = 0.37217443\n",
      "Training loss did not improve more than tol=0.000100 for 10 consecutive epochs. Stopping.\n"
     ]
    },
    {
     "data": {
      "text/plain": [
       "MLPClassifier(max_iter=1000, verbose=True)"
      ]
     },
     "execution_count": 27,
     "metadata": {},
     "output_type": "execute_result"
    }
   ],
   "source": [
    "rede_neural=MLPClassifier(max_iter=1000, verbose=True,tol=0.0001, activation='relu')\n",
    "rede_neural.fit(X_train,y_train)"
   ]
  },
  {
   "cell_type": "code",
   "execution_count": 76,
   "id": "1d5105a5",
   "metadata": {},
   "outputs": [
    {
     "data": {
      "text/plain": [
       "KNeighborsClassifier()"
      ]
     },
     "execution_count": 76,
     "metadata": {},
     "output_type": "execute_result"
    }
   ],
   "source": [
    "knn.fit(X_train, y_train)"
   ]
  },
  {
   "cell_type": "code",
   "execution_count": 28,
   "id": "1507d44b",
   "metadata": {},
   "outputs": [
    {
     "data": {
      "text/plain": [
       "0.8541666666666666"
      ]
     },
     "execution_count": 28,
     "metadata": {},
     "output_type": "execute_result"
    }
   ],
   "source": [
    "rede_neural.score(X_test, y_test)"
   ]
  },
  {
   "cell_type": "code",
   "execution_count": 30,
   "id": "c3871368",
   "metadata": {},
   "outputs": [
    {
     "data": {
      "text/plain": [
       "array([[30,  1,  0,  0],\n",
       "       [10, 14,  0,  0],\n",
       "       [ 0,  2, 23,  0],\n",
       "       [ 0,  0,  1, 15]], dtype=int64)"
      ]
     },
     "execution_count": 30,
     "metadata": {},
     "output_type": "execute_result"
    }
   ],
   "source": [
    "from sklearn.metrics import confusion_matrix\n",
    "y_pred = rede_neural.predict(X_test)\n",
    "cm = confusion_matrix(y_test, y_pred)\n",
    "cm"
   ]
  },
  {
   "cell_type": "code",
   "execution_count": 31,
   "id": "9d2f411b",
   "metadata": {},
   "outputs": [
    {
     "data": {
      "text/plain": [
       "Text(42.0, 0.5, 'Truth')"
      ]
     },
     "execution_count": 31,
     "metadata": {},
     "output_type": "execute_result"
    },
    {
     "data": {
      "image/png": "[encoded data removed]",
      "text/plain": [
       "<Figure size 504x360 with 2 Axes>"
      ]
     },
     "metadata": {
      "needs_background": "light"
     },
     "output_type": "display_data"
    }
   ],
   "source": [
    "%matplotlib inline\n",
    "import matplotlib.pyplot as plt\n",
    "import seaborn as sn\n",
    "plt.figure(figsize=(7,5))\n",
    "sn.heatmap(cm, annot=True)\n",
    "plt.xlabel('Predicted')\n",
    "plt.ylabel('Truth')"
   ]
  },
  {
   "cell_type": "code",
   "execution_count": 32,
   "id": "20ef4176",
   "metadata": {},
   "outputs": [
    {
     "data": {
      "image/png": "[encoded data removed]",
      "text/plain": [
       "<Figure size 576x432 with 1 Axes>"
      ]
     },
     "metadata": {
      "needs_background": "light"
     },
     "output_type": "display_data"
    }
   ],
   "source": [
    "import matplotlib.pyplot as plt\n",
    "plt.figure(figsize=(8,6))\n",
    "plt.scatter(dataset_process['Crest factor'],dataset_process['Label'])\n",
    "#plt.scatter(df0['Kurtosis'], df0['Label'],color=\"green\",marker='+')\n",
    "#plt.scatter(df1['Kurtosis'], df1['Label'],color=\"blue\",marker='.')\n",
    "plt.ylabel('Label')\n",
    "plt.xlabel('Crest factor')\n",
    "plt.grid()"
   ]
  },
  {
   "cell_type": "code",
   "execution_count": 33,
   "id": "32956277",
   "metadata": {},
   "outputs": [
    {
     "data": {
      "image/png": "[encoded data removed]",
      "text/plain": [
       "<Figure size 576x432 with 1 Axes>"
      ]
     },
     "metadata": {
      "needs_background": "light"
     },
     "output_type": "display_data"
    }
   ],
   "source": [
    "import matplotlib.pyplot as plt\n",
    "plt.figure(figsize=(8,6))\n",
    "plt.scatter(dataset_process['Margin factor'],dataset_process['Label'])\n",
    "#plt.scatter(df0['Kurtosis'], df0['Label'],color=\"green\",marker='+')\n",
    "#plt.scatter(df1['Kurtosis'], df1['Label'],color=\"blue\",marker='.')\n",
    "plt.ylabel('Label')\n",
    "plt.xlabel('Margin factor')\n",
    "plt.grid()"
   ]
  },
  {
   "cell_type": "code",
   "execution_count": 34,
   "id": "196cb0ab",
   "metadata": {},
   "outputs": [
    {
     "name": "stdout",
     "output_type": "stream",
     "text": [
      "              precision    recall  f1-score   support\n",
      "\n",
      "           0       0.75      0.97      0.85        31\n",
      "           1       0.82      0.58      0.68        24\n",
      "           2       0.96      0.92      0.94        25\n",
      "           3       1.00      0.94      0.97        16\n",
      "\n",
      "    accuracy                           0.85        96\n",
      "   macro avg       0.88      0.85      0.86        96\n",
      "weighted avg       0.86      0.85      0.85        96\n",
      "\n"
     ]
    }
   ],
   "source": [
    "from sklearn.metrics import classification_report\n",
    "\n",
    "print(classification_report(y_test, y_pred))"
   ]
  },
  {
   "cell_type": "code",
   "execution_count": null,
   "id": "44ab3c98",
   "metadata": {},
   "outputs": [],
   "source": []
  }
 ],
 "metadata": {
  "kernelspec": {
   "display_name": "Python 3 (ipykernel)",
   "language": "python",
   "name": "python3"
  },
  "language_info": {
   "codemirror_mode": {
    "name": "ipython",
    "version": 3
   },
   "file_extension": ".py",
   "mimetype": "text/x-python",
   "name": "python",
   "nbconvert_exporter": "python",
   "pygments_lexer": "ipython3",
   "version": "3.9.7"
  }
 },
 "nbformat": 4,
 "nbformat_minor": 5
}
